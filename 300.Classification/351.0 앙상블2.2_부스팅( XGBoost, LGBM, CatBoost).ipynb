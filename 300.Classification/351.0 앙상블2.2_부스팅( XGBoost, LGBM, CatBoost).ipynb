{
 "cells": [
  {
   "cell_type": "markdown",
   "id": "05ce850b",
   "metadata": {},
   "source": [
    "# XGBoost"
   ]
  },
  {
   "cell_type": "code",
   "execution_count": null,
   "id": "0985fec9",
   "metadata": {},
   "outputs": [],
   "source": [
    "import xgboost"
   ]
  },
  {
   "cell_type": "code",
   "execution_count": null,
   "id": "351c7644",
   "metadata": {},
   "outputs": [],
   "source": [
    "#!pip install xgboost"
   ]
  },
  {
   "cell_type": "code",
   "execution_count": null,
   "id": "82d28197",
   "metadata": {},
   "outputs": [],
   "source": [
    "# 관련 파일 임포트\n",
    "\n",
    "from sklearn.metrics import confusion_matrix, accuracy_score\n",
    "from sklearn.metrics import precision_score, recall_score\n",
    "from sklearn.metrics import f1_score, roc_auc_score\n",
    "\n",
    "from sklearn.datasets import load_breast_cancer\n",
    "\n",
    "import numpy as np\n",
    "import pandas as pd\n",
    "import matplotlib.pyplot as plt\n",
    "import seaborn as sns\n",
    "\n",
    "import warnings\n",
    "warnings.filterwarnings('ignore')"
   ]
  },
  {
   "cell_type": "markdown",
   "id": "67f2ffd1",
   "metadata": {},
   "source": [
    "## 위스콘신 유방암 데이터셋"
   ]
  },
  {
   "cell_type": "code",
   "execution_count": null,
   "id": "2b4c4796",
   "metadata": {},
   "outputs": [],
   "source": [
    "#데이터 준비"
   ]
  },
  {
   "cell_type": "code",
   "execution_count": null,
   "id": "014422fe",
   "metadata": {},
   "outputs": [],
   "source": [
    "b_cancer = ??\n",
    "\n",
    "\n",
    "#b_cancer를 데이터프레임으로 만드시오(cancer_df)\n",
    "# 마지막열을 \"target\"으로 명명하고 결과값을 할당한다.\n",
    "\n",
    "cancer_df = ??\n",
    "cancer_df[\"target\"] = ??\n",
    "\n",
    "X = ??\n",
    "y = ??\n",
    "\n",
    "\n",
    "# 데이터 분할\n",
    "# test_size=0.2, random_state=156\n"
   ]
  },
  {
   "cell_type": "code",
   "execution_count": null,
   "id": "c41c041c",
   "metadata": {},
   "outputs": [],
   "source": []
  },
  {
   "cell_type": "code",
   "execution_count": null,
   "id": "00993015",
   "metadata": {},
   "outputs": [],
   "source": [
    "### 1. 조기종료 옵션을 사용하지 않는 경우"
   ]
  },
  {
   "cell_type": "code",
   "execution_count": null,
   "id": "879420bd",
   "metadata": {},
   "outputs": [],
   "source": []
  },
  {
   "cell_type": "code",
   "execution_count": null,
   "id": "ece87868",
   "metadata": {},
   "outputs": [],
   "source": [
    "### 2. 조기 종료 옵션을 사용한 경우"
   ]
  },
  {
   "cell_type": "code",
   "execution_count": null,
   "id": "60ae4466",
   "metadata": {},
   "outputs": [],
   "source": [
    "* 하이퍼파라미터 튜닝( 조기종료 옵션 사용)"
   ]
  },
  {
   "cell_type": "code",
   "execution_count": null,
   "id": "2f718ee2",
   "metadata": {},
   "outputs": [],
   "source": []
  },
  {
   "cell_type": "code",
   "execution_count": null,
   "id": "c1c55678",
   "metadata": {},
   "outputs": [],
   "source": []
  },
  {
   "cell_type": "code",
   "execution_count": null,
   "id": "cfa59658",
   "metadata": {},
   "outputs": [],
   "source": [
    "# 조기종료 모델에 대한 평가(early_stopping_rounds:100)\n",
    "\n"
   ]
  },
  {
   "cell_type": "code",
   "execution_count": null,
   "id": "142f6ea7",
   "metadata": {},
   "outputs": [],
   "source": [
    "# 조기종료 모델 구축 및 평가(early_stopping_rounds=10)"
   ]
  },
  {
   "cell_type": "code",
   "execution_count": null,
   "id": "52bd3723",
   "metadata": {},
   "outputs": [],
   "source": []
  },
  {
   "cell_type": "code",
   "execution_count": null,
   "id": "d87353c7",
   "metadata": {},
   "outputs": [],
   "source": []
  },
  {
   "cell_type": "markdown",
   "id": "140c40da",
   "metadata": {},
   "source": [
    "* 시각화"
   ]
  },
  {
   "cell_type": "code",
   "execution_count": null,
   "id": "87c0eb3a",
   "metadata": {},
   "outputs": [],
   "source": [
    "# 1)  xgboost가 제공하는 Plot_importance\n",
    "\n"
   ]
  },
  {
   "cell_type": "code",
   "execution_count": null,
   "id": "81fee7fc",
   "metadata": {},
   "outputs": [],
   "source": []
  },
  {
   "cell_type": "code",
   "execution_count": null,
   "id": "a6b8fb56",
   "metadata": {},
   "outputs": [],
   "source": []
  },
  {
   "cell_type": "markdown",
   "id": "9c400f25",
   "metadata": {},
   "source": [
    "# LightGBM(LGBM)"
   ]
  },
  {
   "cell_type": "code",
   "execution_count": null,
   "id": "4d1c6cbb",
   "metadata": {},
   "outputs": [],
   "source": [
    "import lightgbm"
   ]
  },
  {
   "cell_type": "code",
   "execution_count": null,
   "id": "c97a2666",
   "metadata": {},
   "outputs": [],
   "source": [
    "#!pip install lightgbm"
   ]
  },
  {
   "cell_type": "code",
   "execution_count": null,
   "id": "b29b2c49",
   "metadata": {},
   "outputs": [],
   "source": []
  },
  {
   "cell_type": "markdown",
   "id": "406d0a36",
   "metadata": {},
   "source": [
    "## 위스콘신 유방암 데이터셋"
   ]
  },
  {
   "cell_type": "code",
   "execution_count": null,
   "id": "459a9aa4",
   "metadata": {},
   "outputs": [],
   "source": []
  },
  {
   "cell_type": "code",
   "execution_count": null,
   "id": "f1592946",
   "metadata": {},
   "outputs": [],
   "source": [
    "# 조기 중단 옵션을 사용하지 않은 경우"
   ]
  },
  {
   "cell_type": "code",
   "execution_count": null,
   "id": "05b839e5",
   "metadata": {},
   "outputs": [],
   "source": []
  },
  {
   "cell_type": "code",
   "execution_count": null,
   "id": "627c5b1e",
   "metadata": {},
   "outputs": [],
   "source": [
    "# 조기중단 옵션을 사용한 경우"
   ]
  },
  {
   "cell_type": "code",
   "execution_count": null,
   "id": "0e4d9e53",
   "metadata": {},
   "outputs": [],
   "source": []
  },
  {
   "cell_type": "code",
   "execution_count": null,
   "id": "28578db7",
   "metadata": {},
   "outputs": [],
   "source": []
  },
  {
   "cell_type": "code",
   "execution_count": null,
   "id": "cb55169c",
   "metadata": {},
   "outputs": [],
   "source": [
    "# 시각화"
   ]
  },
  {
   "cell_type": "code",
   "execution_count": null,
   "id": "d23572de",
   "metadata": {},
   "outputs": [],
   "source": []
  },
  {
   "cell_type": "code",
   "execution_count": null,
   "id": "33eb5b12",
   "metadata": {},
   "outputs": [],
   "source": []
  },
  {
   "cell_type": "markdown",
   "id": "c0396bb1",
   "metadata": {},
   "source": [
    "## CatBoosting"
   ]
  },
  {
   "cell_type": "code",
   "execution_count": null,
   "id": "664f7d30",
   "metadata": {},
   "outputs": [],
   "source": []
  }
 ],
 "metadata": {
  "kernelspec": {
   "display_name": "Python 3 (ipykernel)",
   "language": "python",
   "name": "python3"
  },
  "language_info": {
   "codemirror_mode": {
    "name": "ipython",
    "version": 3
   },
   "file_extension": ".py",
   "mimetype": "text/x-python",
   "name": "python",
   "nbconvert_exporter": "python",
   "pygments_lexer": "ipython3",
   "version": "3.9.12"
  }
 },
 "nbformat": 4,
 "nbformat_minor": 5
}
