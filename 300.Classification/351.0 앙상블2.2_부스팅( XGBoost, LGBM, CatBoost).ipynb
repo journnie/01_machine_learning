{
 "cells": [
  {
   "cell_type": "markdown",
   "id": "05ce850b",
   "metadata": {},
   "source": [
    "# XGBoost"
   ]
  },
  {
   "cell_type": "code",
   "execution_count": 2,
   "id": "0985fec9",
   "metadata": {},
   "outputs": [],
   "source": [
    "import xgboost"
   ]
  },
  {
   "cell_type": "code",
   "execution_count": null,
   "id": "351c7644",
   "metadata": {},
   "outputs": [],
   "source": [
    "#!pip install xgboost"
   ]
  },
  {
   "cell_type": "code",
   "execution_count": 3,
   "id": "efd66fd3",
   "metadata": {},
   "outputs": [
    {
     "data": {
      "text/plain": [
       "'/Users/journnie/Desktop/asia/aepython/machine_learning/300.Classification'"
      ]
     },
     "execution_count": 3,
     "metadata": {},
     "output_type": "execute_result"
    }
   ],
   "source": [
    "import os\n",
    "os.getcwd()"
   ]
  },
  {
   "cell_type": "code",
   "execution_count": 4,
   "id": "82d28197",
   "metadata": {},
   "outputs": [],
   "source": [
    "# 관련 파일 임포트\n",
    "\n",
    "from sklearn.metrics import confusion_matrix, accuracy_score\n",
    "from sklearn.metrics import precision_score, recall_score\n",
    "from sklearn.metrics import f1_score, roc_auc_score\n",
    "\n",
    "from sklearn.datasets import load_breast_cancer\n",
    "\n",
    "import numpy as np\n",
    "import pandas as pd\n",
    "import matplotlib.pyplot as plt\n",
    "import seaborn as sns\n",
    "\n",
    "import warnings\n",
    "warnings.filterwarnings('ignore')"
   ]
  },
  {
   "cell_type": "markdown",
   "id": "67f2ffd1",
   "metadata": {},
   "source": [
    "## 위스콘신 유방암 데이터셋"
   ]
  },
  {
   "cell_type": "code",
   "execution_count": null,
   "id": "2b4c4796",
   "metadata": {},
   "outputs": [],
   "source": [
    "#데이터 준비"
   ]
  },
  {
   "cell_type": "code",
   "execution_count": 7,
   "id": "0d7d6b22",
   "metadata": {},
   "outputs": [
    {
     "data": {
      "text/plain": [
       "dict_keys(['data', 'target', 'frame', 'target_names', 'DESCR', 'feature_names', 'filename', 'data_module'])"
      ]
     },
     "execution_count": 7,
     "metadata": {},
     "output_type": "execute_result"
    }
   ],
   "source": [
    "b_cancer = load_breast_cancer()\n",
    "b_cancer.keys()"
   ]
  },
  {
   "cell_type": "code",
   "execution_count": 20,
   "id": "3ff527e2",
   "metadata": {},
   "outputs": [],
   "source": [
    "#b_cancer를 데이터프레임으로 만드시오(cancer_df)\n",
    "# 마지막열을 \"target\"으로 명명하고 결과값을 할당한다.\n",
    "cancer_df = pd.DataFrame(data = b_cancer, columns = b_cancer.feature_names)\n",
    "cancer_df[\"target\"] = b_cancer.target\n",
    "X = b_cancer.data\n",
    "y = b_cancer.target\n",
    "# 데이터 분할\n",
    "# test_size=0.2, random_state=156\n",
    "from sklearn.model_selection import train_test_split\n",
    "X_train, X_test ,y_train ,y_test = train_test_split(X,y,test_size=0.2,random_state=156)"
   ]
  },
  {
   "cell_type": "code",
   "execution_count": 11,
   "id": "014422fe",
   "metadata": {},
   "outputs": [],
   "source": [
    "### 틀림\n",
    "b_cancer = load_breast_cancer()\n",
    "\n",
    "\n",
    "#b_cancer를 데이터프레임으로 만드시오(cancer_df)\n",
    "# 마지막열을 \"target\"으로 명명하고 결과값을 할당한다.\n",
    "\n",
    "cancer_df = pd.DataFrame(b_cancer.data)\n",
    "cancer_df[\"target\"] = cancer_df.iloc[:,-1]\n",
    "\n",
    "X = cancer_df.iloc[:,:-1]\n",
    "y = cancer_df[\"target\"]\n",
    "\n",
    "\n",
    "# 데이터 분할\n",
    "# test_size=0.2, random_state=156\n",
    "from sklearn.model_selection import train_test_split\n",
    "X_train, X_test, y_train, y_test = train_test_split(X, y, test_size=0.2, random_state=156)\n"
   ]
  },
  {
   "cell_type": "code",
   "execution_count": 21,
   "id": "b084a279",
   "metadata": {},
   "outputs": [
    {
     "data": {
      "text/plain": [
       "((455, 30), (114, 30), (455,), (114,))"
      ]
     },
     "execution_count": 21,
     "metadata": {},
     "output_type": "execute_result"
    }
   ],
   "source": [
    "X_train.shape, X_test.shape, y_train.shape, y_test.shape"
   ]
  },
  {
   "cell_type": "code",
   "execution_count": 15,
   "id": "988dc182",
   "metadata": {},
   "outputs": [
    {
     "data": {
      "text/html": [
       "<div>\n",
       "<style scoped>\n",
       "    .dataframe tbody tr th:only-of-type {\n",
       "        vertical-align: middle;\n",
       "    }\n",
       "\n",
       "    .dataframe tbody tr th {\n",
       "        vertical-align: top;\n",
       "    }\n",
       "\n",
       "    .dataframe thead th {\n",
       "        text-align: right;\n",
       "    }\n",
       "</style>\n",
       "<table border=\"1\" class=\"dataframe\">\n",
       "  <thead>\n",
       "    <tr style=\"text-align: right;\">\n",
       "      <th></th>\n",
       "      <th>0</th>\n",
       "      <th>1</th>\n",
       "      <th>2</th>\n",
       "      <th>3</th>\n",
       "      <th>4</th>\n",
       "      <th>5</th>\n",
       "      <th>6</th>\n",
       "      <th>7</th>\n",
       "      <th>8</th>\n",
       "      <th>9</th>\n",
       "      <th>...</th>\n",
       "      <th>20</th>\n",
       "      <th>21</th>\n",
       "      <th>22</th>\n",
       "      <th>23</th>\n",
       "      <th>24</th>\n",
       "      <th>25</th>\n",
       "      <th>26</th>\n",
       "      <th>27</th>\n",
       "      <th>28</th>\n",
       "      <th>29</th>\n",
       "    </tr>\n",
       "  </thead>\n",
       "  <tbody>\n",
       "    <tr>\n",
       "      <th>0</th>\n",
       "      <td>17.99</td>\n",
       "      <td>10.38</td>\n",
       "      <td>122.80</td>\n",
       "      <td>1001.0</td>\n",
       "      <td>0.11840</td>\n",
       "      <td>0.27760</td>\n",
       "      <td>0.30010</td>\n",
       "      <td>0.14710</td>\n",
       "      <td>0.2419</td>\n",
       "      <td>0.07871</td>\n",
       "      <td>...</td>\n",
       "      <td>25.380</td>\n",
       "      <td>17.33</td>\n",
       "      <td>184.60</td>\n",
       "      <td>2019.0</td>\n",
       "      <td>0.16220</td>\n",
       "      <td>0.66560</td>\n",
       "      <td>0.7119</td>\n",
       "      <td>0.2654</td>\n",
       "      <td>0.4601</td>\n",
       "      <td>0.11890</td>\n",
       "    </tr>\n",
       "    <tr>\n",
       "      <th>1</th>\n",
       "      <td>20.57</td>\n",
       "      <td>17.77</td>\n",
       "      <td>132.90</td>\n",
       "      <td>1326.0</td>\n",
       "      <td>0.08474</td>\n",
       "      <td>0.07864</td>\n",
       "      <td>0.08690</td>\n",
       "      <td>0.07017</td>\n",
       "      <td>0.1812</td>\n",
       "      <td>0.05667</td>\n",
       "      <td>...</td>\n",
       "      <td>24.990</td>\n",
       "      <td>23.41</td>\n",
       "      <td>158.80</td>\n",
       "      <td>1956.0</td>\n",
       "      <td>0.12380</td>\n",
       "      <td>0.18660</td>\n",
       "      <td>0.2416</td>\n",
       "      <td>0.1860</td>\n",
       "      <td>0.2750</td>\n",
       "      <td>0.08902</td>\n",
       "    </tr>\n",
       "    <tr>\n",
       "      <th>2</th>\n",
       "      <td>19.69</td>\n",
       "      <td>21.25</td>\n",
       "      <td>130.00</td>\n",
       "      <td>1203.0</td>\n",
       "      <td>0.10960</td>\n",
       "      <td>0.15990</td>\n",
       "      <td>0.19740</td>\n",
       "      <td>0.12790</td>\n",
       "      <td>0.2069</td>\n",
       "      <td>0.05999</td>\n",
       "      <td>...</td>\n",
       "      <td>23.570</td>\n",
       "      <td>25.53</td>\n",
       "      <td>152.50</td>\n",
       "      <td>1709.0</td>\n",
       "      <td>0.14440</td>\n",
       "      <td>0.42450</td>\n",
       "      <td>0.4504</td>\n",
       "      <td>0.2430</td>\n",
       "      <td>0.3613</td>\n",
       "      <td>0.08758</td>\n",
       "    </tr>\n",
       "    <tr>\n",
       "      <th>3</th>\n",
       "      <td>11.42</td>\n",
       "      <td>20.38</td>\n",
       "      <td>77.58</td>\n",
       "      <td>386.1</td>\n",
       "      <td>0.14250</td>\n",
       "      <td>0.28390</td>\n",
       "      <td>0.24140</td>\n",
       "      <td>0.10520</td>\n",
       "      <td>0.2597</td>\n",
       "      <td>0.09744</td>\n",
       "      <td>...</td>\n",
       "      <td>14.910</td>\n",
       "      <td>26.50</td>\n",
       "      <td>98.87</td>\n",
       "      <td>567.7</td>\n",
       "      <td>0.20980</td>\n",
       "      <td>0.86630</td>\n",
       "      <td>0.6869</td>\n",
       "      <td>0.2575</td>\n",
       "      <td>0.6638</td>\n",
       "      <td>0.17300</td>\n",
       "    </tr>\n",
       "    <tr>\n",
       "      <th>4</th>\n",
       "      <td>20.29</td>\n",
       "      <td>14.34</td>\n",
       "      <td>135.10</td>\n",
       "      <td>1297.0</td>\n",
       "      <td>0.10030</td>\n",
       "      <td>0.13280</td>\n",
       "      <td>0.19800</td>\n",
       "      <td>0.10430</td>\n",
       "      <td>0.1809</td>\n",
       "      <td>0.05883</td>\n",
       "      <td>...</td>\n",
       "      <td>22.540</td>\n",
       "      <td>16.67</td>\n",
       "      <td>152.20</td>\n",
       "      <td>1575.0</td>\n",
       "      <td>0.13740</td>\n",
       "      <td>0.20500</td>\n",
       "      <td>0.4000</td>\n",
       "      <td>0.1625</td>\n",
       "      <td>0.2364</td>\n",
       "      <td>0.07678</td>\n",
       "    </tr>\n",
       "    <tr>\n",
       "      <th>...</th>\n",
       "      <td>...</td>\n",
       "      <td>...</td>\n",
       "      <td>...</td>\n",
       "      <td>...</td>\n",
       "      <td>...</td>\n",
       "      <td>...</td>\n",
       "      <td>...</td>\n",
       "      <td>...</td>\n",
       "      <td>...</td>\n",
       "      <td>...</td>\n",
       "      <td>...</td>\n",
       "      <td>...</td>\n",
       "      <td>...</td>\n",
       "      <td>...</td>\n",
       "      <td>...</td>\n",
       "      <td>...</td>\n",
       "      <td>...</td>\n",
       "      <td>...</td>\n",
       "      <td>...</td>\n",
       "      <td>...</td>\n",
       "      <td>...</td>\n",
       "    </tr>\n",
       "    <tr>\n",
       "      <th>564</th>\n",
       "      <td>21.56</td>\n",
       "      <td>22.39</td>\n",
       "      <td>142.00</td>\n",
       "      <td>1479.0</td>\n",
       "      <td>0.11100</td>\n",
       "      <td>0.11590</td>\n",
       "      <td>0.24390</td>\n",
       "      <td>0.13890</td>\n",
       "      <td>0.1726</td>\n",
       "      <td>0.05623</td>\n",
       "      <td>...</td>\n",
       "      <td>25.450</td>\n",
       "      <td>26.40</td>\n",
       "      <td>166.10</td>\n",
       "      <td>2027.0</td>\n",
       "      <td>0.14100</td>\n",
       "      <td>0.21130</td>\n",
       "      <td>0.4107</td>\n",
       "      <td>0.2216</td>\n",
       "      <td>0.2060</td>\n",
       "      <td>0.07115</td>\n",
       "    </tr>\n",
       "    <tr>\n",
       "      <th>565</th>\n",
       "      <td>20.13</td>\n",
       "      <td>28.25</td>\n",
       "      <td>131.20</td>\n",
       "      <td>1261.0</td>\n",
       "      <td>0.09780</td>\n",
       "      <td>0.10340</td>\n",
       "      <td>0.14400</td>\n",
       "      <td>0.09791</td>\n",
       "      <td>0.1752</td>\n",
       "      <td>0.05533</td>\n",
       "      <td>...</td>\n",
       "      <td>23.690</td>\n",
       "      <td>38.25</td>\n",
       "      <td>155.00</td>\n",
       "      <td>1731.0</td>\n",
       "      <td>0.11660</td>\n",
       "      <td>0.19220</td>\n",
       "      <td>0.3215</td>\n",
       "      <td>0.1628</td>\n",
       "      <td>0.2572</td>\n",
       "      <td>0.06637</td>\n",
       "    </tr>\n",
       "    <tr>\n",
       "      <th>566</th>\n",
       "      <td>16.60</td>\n",
       "      <td>28.08</td>\n",
       "      <td>108.30</td>\n",
       "      <td>858.1</td>\n",
       "      <td>0.08455</td>\n",
       "      <td>0.10230</td>\n",
       "      <td>0.09251</td>\n",
       "      <td>0.05302</td>\n",
       "      <td>0.1590</td>\n",
       "      <td>0.05648</td>\n",
       "      <td>...</td>\n",
       "      <td>18.980</td>\n",
       "      <td>34.12</td>\n",
       "      <td>126.70</td>\n",
       "      <td>1124.0</td>\n",
       "      <td>0.11390</td>\n",
       "      <td>0.30940</td>\n",
       "      <td>0.3403</td>\n",
       "      <td>0.1418</td>\n",
       "      <td>0.2218</td>\n",
       "      <td>0.07820</td>\n",
       "    </tr>\n",
       "    <tr>\n",
       "      <th>567</th>\n",
       "      <td>20.60</td>\n",
       "      <td>29.33</td>\n",
       "      <td>140.10</td>\n",
       "      <td>1265.0</td>\n",
       "      <td>0.11780</td>\n",
       "      <td>0.27700</td>\n",
       "      <td>0.35140</td>\n",
       "      <td>0.15200</td>\n",
       "      <td>0.2397</td>\n",
       "      <td>0.07016</td>\n",
       "      <td>...</td>\n",
       "      <td>25.740</td>\n",
       "      <td>39.42</td>\n",
       "      <td>184.60</td>\n",
       "      <td>1821.0</td>\n",
       "      <td>0.16500</td>\n",
       "      <td>0.86810</td>\n",
       "      <td>0.9387</td>\n",
       "      <td>0.2650</td>\n",
       "      <td>0.4087</td>\n",
       "      <td>0.12400</td>\n",
       "    </tr>\n",
       "    <tr>\n",
       "      <th>568</th>\n",
       "      <td>7.76</td>\n",
       "      <td>24.54</td>\n",
       "      <td>47.92</td>\n",
       "      <td>181.0</td>\n",
       "      <td>0.05263</td>\n",
       "      <td>0.04362</td>\n",
       "      <td>0.00000</td>\n",
       "      <td>0.00000</td>\n",
       "      <td>0.1587</td>\n",
       "      <td>0.05884</td>\n",
       "      <td>...</td>\n",
       "      <td>9.456</td>\n",
       "      <td>30.37</td>\n",
       "      <td>59.16</td>\n",
       "      <td>268.6</td>\n",
       "      <td>0.08996</td>\n",
       "      <td>0.06444</td>\n",
       "      <td>0.0000</td>\n",
       "      <td>0.0000</td>\n",
       "      <td>0.2871</td>\n",
       "      <td>0.07039</td>\n",
       "    </tr>\n",
       "  </tbody>\n",
       "</table>\n",
       "<p>569 rows × 30 columns</p>\n",
       "</div>"
      ],
      "text/plain": [
       "        0      1       2       3        4        5        6        7       8   \\\n",
       "0    17.99  10.38  122.80  1001.0  0.11840  0.27760  0.30010  0.14710  0.2419   \n",
       "1    20.57  17.77  132.90  1326.0  0.08474  0.07864  0.08690  0.07017  0.1812   \n",
       "2    19.69  21.25  130.00  1203.0  0.10960  0.15990  0.19740  0.12790  0.2069   \n",
       "3    11.42  20.38   77.58   386.1  0.14250  0.28390  0.24140  0.10520  0.2597   \n",
       "4    20.29  14.34  135.10  1297.0  0.10030  0.13280  0.19800  0.10430  0.1809   \n",
       "..     ...    ...     ...     ...      ...      ...      ...      ...     ...   \n",
       "564  21.56  22.39  142.00  1479.0  0.11100  0.11590  0.24390  0.13890  0.1726   \n",
       "565  20.13  28.25  131.20  1261.0  0.09780  0.10340  0.14400  0.09791  0.1752   \n",
       "566  16.60  28.08  108.30   858.1  0.08455  0.10230  0.09251  0.05302  0.1590   \n",
       "567  20.60  29.33  140.10  1265.0  0.11780  0.27700  0.35140  0.15200  0.2397   \n",
       "568   7.76  24.54   47.92   181.0  0.05263  0.04362  0.00000  0.00000  0.1587   \n",
       "\n",
       "          9   ...      20     21      22      23       24       25      26  \\\n",
       "0    0.07871  ...  25.380  17.33  184.60  2019.0  0.16220  0.66560  0.7119   \n",
       "1    0.05667  ...  24.990  23.41  158.80  1956.0  0.12380  0.18660  0.2416   \n",
       "2    0.05999  ...  23.570  25.53  152.50  1709.0  0.14440  0.42450  0.4504   \n",
       "3    0.09744  ...  14.910  26.50   98.87   567.7  0.20980  0.86630  0.6869   \n",
       "4    0.05883  ...  22.540  16.67  152.20  1575.0  0.13740  0.20500  0.4000   \n",
       "..       ...  ...     ...    ...     ...     ...      ...      ...     ...   \n",
       "564  0.05623  ...  25.450  26.40  166.10  2027.0  0.14100  0.21130  0.4107   \n",
       "565  0.05533  ...  23.690  38.25  155.00  1731.0  0.11660  0.19220  0.3215   \n",
       "566  0.05648  ...  18.980  34.12  126.70  1124.0  0.11390  0.30940  0.3403   \n",
       "567  0.07016  ...  25.740  39.42  184.60  1821.0  0.16500  0.86810  0.9387   \n",
       "568  0.05884  ...   9.456  30.37   59.16   268.6  0.08996  0.06444  0.0000   \n",
       "\n",
       "         27      28       29  \n",
       "0    0.2654  0.4601  0.11890  \n",
       "1    0.1860  0.2750  0.08902  \n",
       "2    0.2430  0.3613  0.08758  \n",
       "3    0.2575  0.6638  0.17300  \n",
       "4    0.1625  0.2364  0.07678  \n",
       "..      ...     ...      ...  \n",
       "564  0.2216  0.2060  0.07115  \n",
       "565  0.1628  0.2572  0.06637  \n",
       "566  0.1418  0.2218  0.07820  \n",
       "567  0.2650  0.4087  0.12400  \n",
       "568  0.0000  0.2871  0.07039  \n",
       "\n",
       "[569 rows x 30 columns]"
      ]
     },
     "execution_count": 15,
     "metadata": {},
     "output_type": "execute_result"
    }
   ],
   "source": [
    "X"
   ]
  },
  {
   "cell_type": "code",
   "execution_count": 17,
   "id": "fc4cba4e",
   "metadata": {},
   "outputs": [
    {
     "name": "stdout",
     "output_type": "stream",
     "text": [
      "<class 'pandas.core.series.Series'>\n",
      "RangeIndex: 569 entries, 0 to 568\n",
      "Series name: target\n",
      "Non-Null Count  Dtype  \n",
      "--------------  -----  \n",
      "569 non-null    float64\n",
      "dtypes: float64(1)\n",
      "memory usage: 4.6 KB\n"
     ]
    }
   ],
   "source": [
    "y.info()"
   ]
  },
  {
   "cell_type": "code",
   "execution_count": null,
   "id": "c41c041c",
   "metadata": {},
   "outputs": [],
   "source": []
  },
  {
   "cell_type": "code",
   "execution_count": null,
   "id": "00993015",
   "metadata": {},
   "outputs": [],
   "source": [
    "### 1. 조기종료 옵션을 사용하지 않는 경우"
   ]
  },
  {
   "cell_type": "code",
   "execution_count": 22,
   "id": "879420bd",
   "metadata": {},
   "outputs": [
    {
     "name": "stdout",
     "output_type": "stream",
     "text": [
      "train_score: 0.9978021978021978\n",
      "test_score: 0.956140350877193\n"
     ]
    }
   ],
   "source": [
    "from xgboost import XGBClassifier\n",
    "\n",
    "xgb = XGBClassifier(n_estimators=400, learning_rate=0.1, max_depth=1, random_state=156)\n",
    "xgb.fit(X_train, y_train)\n",
    "\n",
    "y_pred_train = xgb.predict(X_train)\n",
    "print(f'train_score: {accuracy_score(y_train, y_pred_train)}')\n",
    "y_pred_test = xgb.predict(X_test)\n",
    "print(f'test_score: {accuracy_score(y_test, y_pred_test)}')\n"
   ]
  },
  {
   "cell_type": "code",
   "execution_count": 31,
   "id": "ece87868",
   "metadata": {},
   "outputs": [
    {
     "name": "stdout",
     "output_type": "stream",
     "text": [
      "[0]\tvalidation_0-logloss:0.62691\n",
      "[1]\tvalidation_0-logloss:0.57179\n",
      "[2]\tvalidation_0-logloss:0.52400\n",
      "[3]\tvalidation_0-logloss:0.48020\n",
      "[4]\tvalidation_0-logloss:0.44496\n",
      "[5]\tvalidation_0-logloss:0.41438\n",
      "[6]\tvalidation_0-logloss:0.38875\n",
      "[7]\tvalidation_0-logloss:0.36277\n",
      "[8]\tvalidation_0-logloss:0.34059\n",
      "[9]\tvalidation_0-logloss:0.32333\n",
      "[10]\tvalidation_0-logloss:0.30527\n",
      "[11]\tvalidation_0-logloss:0.29085\n",
      "[12]\tvalidation_0-logloss:0.27735\n",
      "[13]\tvalidation_0-logloss:0.26565\n",
      "[14]\tvalidation_0-logloss:0.25403\n",
      "[15]\tvalidation_0-logloss:0.24536\n",
      "[16]\tvalidation_0-logloss:0.23697\n",
      "[17]\tvalidation_0-logloss:0.22749\n",
      "[18]\tvalidation_0-logloss:0.22091\n",
      "[19]\tvalidation_0-logloss:0.21436\n",
      "[20]\tvalidation_0-logloss:0.20803\n",
      "[21]\tvalidation_0-logloss:0.20271\n",
      "[22]\tvalidation_0-logloss:0.19965\n",
      "[23]\tvalidation_0-logloss:0.19494\n",
      "[24]\tvalidation_0-logloss:0.19098\n",
      "[25]\tvalidation_0-logloss:0.18648\n",
      "[26]\tvalidation_0-logloss:0.18277\n",
      "[27]\tvalidation_0-logloss:0.18109\n",
      "[28]\tvalidation_0-logloss:0.17621\n",
      "[29]\tvalidation_0-logloss:0.17212\n",
      "[30]\tvalidation_0-logloss:0.16953\n",
      "[31]\tvalidation_0-logloss:0.16664\n",
      "[32]\tvalidation_0-logloss:0.16278\n",
      "[33]\tvalidation_0-logloss:0.16207\n",
      "[34]\tvalidation_0-logloss:0.15899\n",
      "[35]\tvalidation_0-logloss:0.15593\n",
      "[36]\tvalidation_0-logloss:0.15419\n",
      "[37]\tvalidation_0-logloss:0.15219\n",
      "[38]\tvalidation_0-logloss:0.15113\n",
      "[39]\tvalidation_0-logloss:0.14828\n",
      "[40]\tvalidation_0-logloss:0.14545\n",
      "[41]\tvalidation_0-logloss:0.14302\n",
      "[42]\tvalidation_0-logloss:0.14186\n",
      "[43]\tvalidation_0-logloss:0.14081\n",
      "[44]\tvalidation_0-logloss:0.14030\n",
      "[45]\tvalidation_0-logloss:0.13821\n",
      "[46]\tvalidation_0-logloss:0.13771\n",
      "[47]\tvalidation_0-logloss:0.13546\n",
      "[48]\tvalidation_0-logloss:0.13468\n",
      "[49]\tvalidation_0-logloss:0.13278\n",
      "[50]\tvalidation_0-logloss:0.13236\n",
      "[51]\tvalidation_0-logloss:0.13192\n",
      "[52]\tvalidation_0-logloss:0.13166\n",
      "[53]\tvalidation_0-logloss:0.12975\n",
      "[54]\tvalidation_0-logloss:0.12820\n",
      "[55]\tvalidation_0-logloss:0.12764\n",
      "[56]\tvalidation_0-logloss:0.12606\n",
      "[57]\tvalidation_0-logloss:0.12441\n",
      "[58]\tvalidation_0-logloss:0.12409\n",
      "[59]\tvalidation_0-logloss:0.12405\n",
      "[60]\tvalidation_0-logloss:0.12249\n",
      "[61]\tvalidation_0-logloss:0.12232\n",
      "[62]\tvalidation_0-logloss:0.12218\n",
      "[63]\tvalidation_0-logloss:0.12178\n",
      "[64]\tvalidation_0-logloss:0.12048\n",
      "[65]\tvalidation_0-logloss:0.11930\n",
      "[66]\tvalidation_0-logloss:0.11941\n",
      "[67]\tvalidation_0-logloss:0.11823\n",
      "[68]\tvalidation_0-logloss:0.11690\n",
      "[69]\tvalidation_0-logloss:0.11684\n",
      "[70]\tvalidation_0-logloss:0.11672\n",
      "[71]\tvalidation_0-logloss:0.11643\n",
      "[72]\tvalidation_0-logloss:0.11639\n",
      "[73]\tvalidation_0-logloss:0.11658\n",
      "[74]\tvalidation_0-logloss:0.11537\n",
      "[75]\tvalidation_0-logloss:0.11507\n",
      "[76]\tvalidation_0-logloss:0.11507\n",
      "[77]\tvalidation_0-logloss:0.11539\n"
     ]
    },
    {
     "data": {
      "text/html": [
       "<style>#sk-container-id-2 {color: black;}#sk-container-id-2 pre{padding: 0;}#sk-container-id-2 div.sk-toggleable {background-color: white;}#sk-container-id-2 label.sk-toggleable__label {cursor: pointer;display: block;width: 100%;margin-bottom: 0;padding: 0.3em;box-sizing: border-box;text-align: center;}#sk-container-id-2 label.sk-toggleable__label-arrow:before {content: \"▸\";float: left;margin-right: 0.25em;color: #696969;}#sk-container-id-2 label.sk-toggleable__label-arrow:hover:before {color: black;}#sk-container-id-2 div.sk-estimator:hover label.sk-toggleable__label-arrow:before {color: black;}#sk-container-id-2 div.sk-toggleable__content {max-height: 0;max-width: 0;overflow: hidden;text-align: left;background-color: #f0f8ff;}#sk-container-id-2 div.sk-toggleable__content pre {margin: 0.2em;color: black;border-radius: 0.25em;background-color: #f0f8ff;}#sk-container-id-2 input.sk-toggleable__control:checked~div.sk-toggleable__content {max-height: 200px;max-width: 100%;overflow: auto;}#sk-container-id-2 input.sk-toggleable__control:checked~label.sk-toggleable__label-arrow:before {content: \"▾\";}#sk-container-id-2 div.sk-estimator input.sk-toggleable__control:checked~label.sk-toggleable__label {background-color: #d4ebff;}#sk-container-id-2 div.sk-label input.sk-toggleable__control:checked~label.sk-toggleable__label {background-color: #d4ebff;}#sk-container-id-2 input.sk-hidden--visually {border: 0;clip: rect(1px 1px 1px 1px);clip: rect(1px, 1px, 1px, 1px);height: 1px;margin: -1px;overflow: hidden;padding: 0;position: absolute;width: 1px;}#sk-container-id-2 div.sk-estimator {font-family: monospace;background-color: #f0f8ff;border: 1px dotted black;border-radius: 0.25em;box-sizing: border-box;margin-bottom: 0.5em;}#sk-container-id-2 div.sk-estimator:hover {background-color: #d4ebff;}#sk-container-id-2 div.sk-parallel-item::after {content: \"\";width: 100%;border-bottom: 1px solid gray;flex-grow: 1;}#sk-container-id-2 div.sk-label:hover label.sk-toggleable__label {background-color: #d4ebff;}#sk-container-id-2 div.sk-serial::before {content: \"\";position: absolute;border-left: 1px solid gray;box-sizing: border-box;top: 0;bottom: 0;left: 50%;z-index: 0;}#sk-container-id-2 div.sk-serial {display: flex;flex-direction: column;align-items: center;background-color: white;padding-right: 0.2em;padding-left: 0.2em;position: relative;}#sk-container-id-2 div.sk-item {position: relative;z-index: 1;}#sk-container-id-2 div.sk-parallel {display: flex;align-items: stretch;justify-content: center;background-color: white;position: relative;}#sk-container-id-2 div.sk-item::before, #sk-container-id-2 div.sk-parallel-item::before {content: \"\";position: absolute;border-left: 1px solid gray;box-sizing: border-box;top: 0;bottom: 0;left: 50%;z-index: -1;}#sk-container-id-2 div.sk-parallel-item {display: flex;flex-direction: column;z-index: 1;position: relative;background-color: white;}#sk-container-id-2 div.sk-parallel-item:first-child::after {align-self: flex-end;width: 50%;}#sk-container-id-2 div.sk-parallel-item:last-child::after {align-self: flex-start;width: 50%;}#sk-container-id-2 div.sk-parallel-item:only-child::after {width: 0;}#sk-container-id-2 div.sk-dashed-wrapped {border: 1px dashed gray;margin: 0 0.4em 0.5em 0.4em;box-sizing: border-box;padding-bottom: 0.4em;background-color: white;}#sk-container-id-2 div.sk-label label {font-family: monospace;font-weight: bold;display: inline-block;line-height: 1.2em;}#sk-container-id-2 div.sk-label-container {text-align: center;}#sk-container-id-2 div.sk-container {/* jupyter's `normalize.less` sets `[hidden] { display: none; }` but bootstrap.min.css set `[hidden] { display: none !important; }` so we also need the `!important` here to be able to override the default hidden behavior on the sphinx rendered scikit-learn.org. See: https://github.com/scikit-learn/scikit-learn/issues/21755 */display: inline-block !important;position: relative;}#sk-container-id-2 div.sk-text-repr-fallback {display: none;}</style><div id=\"sk-container-id-2\" class=\"sk-top-container\"><div class=\"sk-text-repr-fallback\"><pre>XGBClassifier(base_score=None, booster=None, callbacks=None,\n",
       "              colsample_bylevel=None, colsample_bynode=None,\n",
       "              colsample_bytree=None, early_stopping_rounds=None,\n",
       "              enable_categorical=False, eval_metric=None, feature_types=None,\n",
       "              gamma=None, gpu_id=None, grow_policy=None, importance_type=None,\n",
       "              interaction_constraints=None, learning_rate=0.1, max_bin=None,\n",
       "              max_cat_threshold=None, max_cat_to_onehot=None,\n",
       "              max_delta_step=None, max_depth=1, max_leaves=None,\n",
       "              min_child_weight=None, missing=nan, monotone_constraints=None,\n",
       "              n_estimators=400, n_jobs=None, num_parallel_tree=None,\n",
       "              predictor=None, random_state=156, ...)</pre><b>In a Jupyter environment, please rerun this cell to show the HTML representation or trust the notebook. <br />On GitHub, the HTML representation is unable to render, please try loading this page with nbviewer.org.</b></div><div class=\"sk-container\" hidden><div class=\"sk-item\"><div class=\"sk-estimator sk-toggleable\"><input class=\"sk-toggleable__control sk-hidden--visually\" id=\"sk-estimator-id-2\" type=\"checkbox\" checked><label for=\"sk-estimator-id-2\" class=\"sk-toggleable__label sk-toggleable__label-arrow\">XGBClassifier</label><div class=\"sk-toggleable__content\"><pre>XGBClassifier(base_score=None, booster=None, callbacks=None,\n",
       "              colsample_bylevel=None, colsample_bynode=None,\n",
       "              colsample_bytree=None, early_stopping_rounds=None,\n",
       "              enable_categorical=False, eval_metric=None, feature_types=None,\n",
       "              gamma=None, gpu_id=None, grow_policy=None, importance_type=None,\n",
       "              interaction_constraints=None, learning_rate=0.1, max_bin=None,\n",
       "              max_cat_threshold=None, max_cat_to_onehot=None,\n",
       "              max_delta_step=None, max_depth=1, max_leaves=None,\n",
       "              min_child_weight=None, missing=nan, monotone_constraints=None,\n",
       "              n_estimators=400, n_jobs=None, num_parallel_tree=None,\n",
       "              predictor=None, random_state=156, ...)</pre></div></div></div></div></div>"
      ],
      "text/plain": [
       "XGBClassifier(base_score=None, booster=None, callbacks=None,\n",
       "              colsample_bylevel=None, colsample_bynode=None,\n",
       "              colsample_bytree=None, early_stopping_rounds=None,\n",
       "              enable_categorical=False, eval_metric=None, feature_types=None,\n",
       "              gamma=None, gpu_id=None, grow_policy=None, importance_type=None,\n",
       "              interaction_constraints=None, learning_rate=0.1, max_bin=None,\n",
       "              max_cat_threshold=None, max_cat_to_onehot=None,\n",
       "              max_delta_step=None, max_depth=1, max_leaves=None,\n",
       "              min_child_weight=None, missing=nan, monotone_constraints=None,\n",
       "              n_estimators=400, n_jobs=None, num_parallel_tree=None,\n",
       "              predictor=None, random_state=156, ...)"
      ]
     },
     "execution_count": 31,
     "metadata": {},
     "output_type": "execute_result"
    }
   ],
   "source": [
    "### 2.1. 조기 종료 옵션을 사용한 경우\n",
    "# save_best = True를 사용하지 않는 경우\n",
    "# early_stopping_rounds만 사용\n",
    "# xgb2 = xgb.fit(X_train, y_train, early_stopping_rounds=100, \n",
    "#         eval_metric='logloss', eval_set=[(X_test, y_test)], verbose=True)\n",
    "\n",
    "xgb = XGBClassifier(n_estimators=400, learning_rate=0.1, max_depth=1, random_state=156)\n",
    "xgb.fit(X_train, y_train, early_stopping_rounds=3, eval_metric='logloss', \n",
    "        eval_set=[(X_test, y_test)], verbose=True)"
   ]
  },
  {
   "cell_type": "code",
   "execution_count": 37,
   "id": "b3c2f702",
   "metadata": {},
   "outputs": [
    {
     "name": "stdout",
     "output_type": "stream",
     "text": [
      "[0]\tvalidation_0-logloss:0.62691\n",
      "[1]\tvalidation_0-logloss:0.57179\n",
      "[2]\tvalidation_0-logloss:0.52400\n",
      "[3]\tvalidation_0-logloss:0.48020\n",
      "[4]\tvalidation_0-logloss:0.44496\n",
      "[5]\tvalidation_0-logloss:0.41438\n",
      "[6]\tvalidation_0-logloss:0.38875\n",
      "[7]\tvalidation_0-logloss:0.36277\n",
      "[8]\tvalidation_0-logloss:0.34059\n",
      "[9]\tvalidation_0-logloss:0.32333\n",
      "[10]\tvalidation_0-logloss:0.30527\n",
      "[11]\tvalidation_0-logloss:0.29085\n",
      "[12]\tvalidation_0-logloss:0.27735\n",
      "[13]\tvalidation_0-logloss:0.26565\n",
      "[14]\tvalidation_0-logloss:0.25403\n",
      "[15]\tvalidation_0-logloss:0.24536\n",
      "[16]\tvalidation_0-logloss:0.23697\n",
      "[17]\tvalidation_0-logloss:0.22749\n",
      "[18]\tvalidation_0-logloss:0.22091\n",
      "[19]\tvalidation_0-logloss:0.21436\n",
      "[20]\tvalidation_0-logloss:0.20803\n",
      "[21]\tvalidation_0-logloss:0.20271\n",
      "[22]\tvalidation_0-logloss:0.19965\n",
      "[23]\tvalidation_0-logloss:0.19494\n",
      "[24]\tvalidation_0-logloss:0.19098\n",
      "[25]\tvalidation_0-logloss:0.18648\n",
      "[26]\tvalidation_0-logloss:0.18277\n",
      "[27]\tvalidation_0-logloss:0.18109\n",
      "[28]\tvalidation_0-logloss:0.17621\n",
      "[29]\tvalidation_0-logloss:0.17212\n",
      "[30]\tvalidation_0-logloss:0.16953\n",
      "[31]\tvalidation_0-logloss:0.16664\n",
      "[32]\tvalidation_0-logloss:0.16278\n",
      "[33]\tvalidation_0-logloss:0.16207\n",
      "[34]\tvalidation_0-logloss:0.15899\n",
      "[35]\tvalidation_0-logloss:0.15593\n",
      "[36]\tvalidation_0-logloss:0.15419\n",
      "[37]\tvalidation_0-logloss:0.15219\n",
      "[38]\tvalidation_0-logloss:0.15113\n",
      "[39]\tvalidation_0-logloss:0.14828\n",
      "[40]\tvalidation_0-logloss:0.14545\n",
      "[41]\tvalidation_0-logloss:0.14302\n",
      "[42]\tvalidation_0-logloss:0.14186\n",
      "[43]\tvalidation_0-logloss:0.14081\n",
      "[44]\tvalidation_0-logloss:0.14030\n",
      "[45]\tvalidation_0-logloss:0.13821\n",
      "[46]\tvalidation_0-logloss:0.13771\n",
      "[47]\tvalidation_0-logloss:0.13546\n",
      "[48]\tvalidation_0-logloss:0.13468\n",
      "[49]\tvalidation_0-logloss:0.13278\n",
      "[50]\tvalidation_0-logloss:0.13236\n",
      "[51]\tvalidation_0-logloss:0.13192\n",
      "[52]\tvalidation_0-logloss:0.13166\n",
      "[53]\tvalidation_0-logloss:0.12975\n",
      "[54]\tvalidation_0-logloss:0.12820\n",
      "[55]\tvalidation_0-logloss:0.12764\n",
      "[56]\tvalidation_0-logloss:0.12606\n",
      "[57]\tvalidation_0-logloss:0.12441\n",
      "[58]\tvalidation_0-logloss:0.12409\n",
      "[59]\tvalidation_0-logloss:0.12405\n",
      "[60]\tvalidation_0-logloss:0.12249\n",
      "[61]\tvalidation_0-logloss:0.12232\n",
      "[62]\tvalidation_0-logloss:0.12218\n",
      "[63]\tvalidation_0-logloss:0.12178\n",
      "[64]\tvalidation_0-logloss:0.12048\n",
      "[65]\tvalidation_0-logloss:0.11930\n",
      "[66]\tvalidation_0-logloss:0.11941\n",
      "[67]\tvalidation_0-logloss:0.11823\n",
      "[68]\tvalidation_0-logloss:0.11690\n",
      "[69]\tvalidation_0-logloss:0.11684\n",
      "[70]\tvalidation_0-logloss:0.11672\n",
      "[71]\tvalidation_0-logloss:0.11643\n",
      "[72]\tvalidation_0-logloss:0.11639\n",
      "[73]\tvalidation_0-logloss:0.11658\n",
      "[74]\tvalidation_0-logloss:0.11537\n",
      "[75]\tvalidation_0-logloss:0.11507\n",
      "[76]\tvalidation_0-logloss:0.11507\n",
      "[77]\tvalidation_0-logloss:0.11539\n"
     ]
    },
    {
     "data": {
      "text/html": [
       "<style>#sk-container-id-3 {color: black;}#sk-container-id-3 pre{padding: 0;}#sk-container-id-3 div.sk-toggleable {background-color: white;}#sk-container-id-3 label.sk-toggleable__label {cursor: pointer;display: block;width: 100%;margin-bottom: 0;padding: 0.3em;box-sizing: border-box;text-align: center;}#sk-container-id-3 label.sk-toggleable__label-arrow:before {content: \"▸\";float: left;margin-right: 0.25em;color: #696969;}#sk-container-id-3 label.sk-toggleable__label-arrow:hover:before {color: black;}#sk-container-id-3 div.sk-estimator:hover label.sk-toggleable__label-arrow:before {color: black;}#sk-container-id-3 div.sk-toggleable__content {max-height: 0;max-width: 0;overflow: hidden;text-align: left;background-color: #f0f8ff;}#sk-container-id-3 div.sk-toggleable__content pre {margin: 0.2em;color: black;border-radius: 0.25em;background-color: #f0f8ff;}#sk-container-id-3 input.sk-toggleable__control:checked~div.sk-toggleable__content {max-height: 200px;max-width: 100%;overflow: auto;}#sk-container-id-3 input.sk-toggleable__control:checked~label.sk-toggleable__label-arrow:before {content: \"▾\";}#sk-container-id-3 div.sk-estimator input.sk-toggleable__control:checked~label.sk-toggleable__label {background-color: #d4ebff;}#sk-container-id-3 div.sk-label input.sk-toggleable__control:checked~label.sk-toggleable__label {background-color: #d4ebff;}#sk-container-id-3 input.sk-hidden--visually {border: 0;clip: rect(1px 1px 1px 1px);clip: rect(1px, 1px, 1px, 1px);height: 1px;margin: -1px;overflow: hidden;padding: 0;position: absolute;width: 1px;}#sk-container-id-3 div.sk-estimator {font-family: monospace;background-color: #f0f8ff;border: 1px dotted black;border-radius: 0.25em;box-sizing: border-box;margin-bottom: 0.5em;}#sk-container-id-3 div.sk-estimator:hover {background-color: #d4ebff;}#sk-container-id-3 div.sk-parallel-item::after {content: \"\";width: 100%;border-bottom: 1px solid gray;flex-grow: 1;}#sk-container-id-3 div.sk-label:hover label.sk-toggleable__label {background-color: #d4ebff;}#sk-container-id-3 div.sk-serial::before {content: \"\";position: absolute;border-left: 1px solid gray;box-sizing: border-box;top: 0;bottom: 0;left: 50%;z-index: 0;}#sk-container-id-3 div.sk-serial {display: flex;flex-direction: column;align-items: center;background-color: white;padding-right: 0.2em;padding-left: 0.2em;position: relative;}#sk-container-id-3 div.sk-item {position: relative;z-index: 1;}#sk-container-id-3 div.sk-parallel {display: flex;align-items: stretch;justify-content: center;background-color: white;position: relative;}#sk-container-id-3 div.sk-item::before, #sk-container-id-3 div.sk-parallel-item::before {content: \"\";position: absolute;border-left: 1px solid gray;box-sizing: border-box;top: 0;bottom: 0;left: 50%;z-index: -1;}#sk-container-id-3 div.sk-parallel-item {display: flex;flex-direction: column;z-index: 1;position: relative;background-color: white;}#sk-container-id-3 div.sk-parallel-item:first-child::after {align-self: flex-end;width: 50%;}#sk-container-id-3 div.sk-parallel-item:last-child::after {align-self: flex-start;width: 50%;}#sk-container-id-3 div.sk-parallel-item:only-child::after {width: 0;}#sk-container-id-3 div.sk-dashed-wrapped {border: 1px dashed gray;margin: 0 0.4em 0.5em 0.4em;box-sizing: border-box;padding-bottom: 0.4em;background-color: white;}#sk-container-id-3 div.sk-label label {font-family: monospace;font-weight: bold;display: inline-block;line-height: 1.2em;}#sk-container-id-3 div.sk-label-container {text-align: center;}#sk-container-id-3 div.sk-container {/* jupyter's `normalize.less` sets `[hidden] { display: none; }` but bootstrap.min.css set `[hidden] { display: none !important; }` so we also need the `!important` here to be able to override the default hidden behavior on the sphinx rendered scikit-learn.org. See: https://github.com/scikit-learn/scikit-learn/issues/21755 */display: inline-block !important;position: relative;}#sk-container-id-3 div.sk-text-repr-fallback {display: none;}</style><div id=\"sk-container-id-3\" class=\"sk-top-container\"><div class=\"sk-text-repr-fallback\"><pre>XGBClassifier(base_score=None, booster=None,\n",
       "              callbacks=[&lt;xgboost.callback.EarlyStopping object at 0x191b219d0&gt;],\n",
       "              colsample_bylevel=None, colsample_bynode=None,\n",
       "              colsample_bytree=None, early_stopping_rounds=None,\n",
       "              enable_categorical=False, eval_metric=None, feature_types=None,\n",
       "              gamma=None, gpu_id=None, grow_policy=None, importance_type=None,\n",
       "              interaction_constraints=None, learning_rate=0.1, max_bin=None,\n",
       "              max_cat_threshold=None, max_cat_to_onehot=None,\n",
       "              max_delta_step=None, max_depth=1, max_leaves=None,\n",
       "              min_child_weight=None, missing=nan, monotone_constraints=None,\n",
       "              n_estimators=400, n_jobs=None, num_parallel_tree=None,\n",
       "              predictor=None, random_state=156, ...)</pre><b>In a Jupyter environment, please rerun this cell to show the HTML representation or trust the notebook. <br />On GitHub, the HTML representation is unable to render, please try loading this page with nbviewer.org.</b></div><div class=\"sk-container\" hidden><div class=\"sk-item\"><div class=\"sk-estimator sk-toggleable\"><input class=\"sk-toggleable__control sk-hidden--visually\" id=\"sk-estimator-id-3\" type=\"checkbox\" checked><label for=\"sk-estimator-id-3\" class=\"sk-toggleable__label sk-toggleable__label-arrow\">XGBClassifier</label><div class=\"sk-toggleable__content\"><pre>XGBClassifier(base_score=None, booster=None,\n",
       "              callbacks=[&lt;xgboost.callback.EarlyStopping object at 0x191b219d0&gt;],\n",
       "              colsample_bylevel=None, colsample_bynode=None,\n",
       "              colsample_bytree=None, early_stopping_rounds=None,\n",
       "              enable_categorical=False, eval_metric=None, feature_types=None,\n",
       "              gamma=None, gpu_id=None, grow_policy=None, importance_type=None,\n",
       "              interaction_constraints=None, learning_rate=0.1, max_bin=None,\n",
       "              max_cat_threshold=None, max_cat_to_onehot=None,\n",
       "              max_delta_step=None, max_depth=1, max_leaves=None,\n",
       "              min_child_weight=None, missing=nan, monotone_constraints=None,\n",
       "              n_estimators=400, n_jobs=None, num_parallel_tree=None,\n",
       "              predictor=None, random_state=156, ...)</pre></div></div></div></div></div>"
      ],
      "text/plain": [
       "XGBClassifier(base_score=None, booster=None,\n",
       "              callbacks=[<xgboost.callback.EarlyStopping object at 0x191b219d0>],\n",
       "              colsample_bylevel=None, colsample_bynode=None,\n",
       "              colsample_bytree=None, early_stopping_rounds=None,\n",
       "              enable_categorical=False, eval_metric=None, feature_types=None,\n",
       "              gamma=None, gpu_id=None, grow_policy=None, importance_type=None,\n",
       "              interaction_constraints=None, learning_rate=0.1, max_bin=None,\n",
       "              max_cat_threshold=None, max_cat_to_onehot=None,\n",
       "              max_delta_step=None, max_depth=1, max_leaves=None,\n",
       "              min_child_weight=None, missing=nan, monotone_constraints=None,\n",
       "              n_estimators=400, n_jobs=None, num_parallel_tree=None,\n",
       "              predictor=None, random_state=156, ...)"
      ]
     },
     "execution_count": 37,
     "metadata": {},
     "output_type": "execute_result"
    }
   ],
   "source": [
    "### 2.2. 조기 종료 옵션을 사용한 경우\n",
    "# save_best = True를 사용하여 가장 평가점수가 좋은 모델을 사용하려면\n",
    "# callback.EarlyStopping을 사용해야함\n",
    "# xgb2 = xgb.fit(X_train, y_train, early_stopping_rounds=100, \n",
    "#         eval_metric='logloss', eval_set=[(X_test, y_test)], verbose=True)\n",
    "from xgboost import XGBClassifier\n",
    "from xgboost import callback\n",
    "\n",
    "early_stop = callback.EarlyStopping(rounds=2, metric_name='logloss', save_best=True)\n",
    "\n",
    "xgb = XGBClassifier(n_estimators=400, learning_rate=0.1, max_depth=1, random_state=156,\n",
    "                    callbacks=[early_stop])\n",
    "xgb.fit(X_train, y_train, early_stopping_rounds=3, eval_metric='logloss', \n",
    "        eval_set=[(X_test, y_test)], verbose=True)"
   ]
  },
  {
   "cell_type": "code",
   "execution_count": 26,
   "id": "60ae4466",
   "metadata": {},
   "outputs": [
    {
     "name": "stdout",
     "output_type": "stream",
     "text": [
      "train_score: 0.9978021978021978\n",
      "test_score: 0.956140350877193\n"
     ]
    }
   ],
   "source": [
    "# * 하이퍼파라미터 튜닝( 조기종료 옵션 사용)\n",
    "\n",
    "y_pred_train = xgb2.predict(X_train)\n",
    "print(f'train_score: {accuracy_score(y_train, y_pred_train)}')\n",
    "y_pred_test = xgb2.predict(X_test)\n",
    "print(f'test_score: {accuracy_score(y_test, y_pred_test)}')"
   ]
  },
  {
   "cell_type": "code",
   "execution_count": null,
   "id": "2f718ee2",
   "metadata": {},
   "outputs": [],
   "source": []
  },
  {
   "cell_type": "code",
   "execution_count": null,
   "id": "c1c55678",
   "metadata": {},
   "outputs": [],
   "source": []
  },
  {
   "cell_type": "code",
   "execution_count": null,
   "id": "cfa59658",
   "metadata": {},
   "outputs": [],
   "source": [
    "# 조기종료 모델에 대한 평가(early_stopping_rounds:100)\n",
    "\n"
   ]
  },
  {
   "cell_type": "code",
   "execution_count": null,
   "id": "142f6ea7",
   "metadata": {},
   "outputs": [],
   "source": [
    "# 조기종료 모델 구축 및 평가(early_stopping_rounds=10)"
   ]
  },
  {
   "cell_type": "code",
   "execution_count": null,
   "id": "52bd3723",
   "metadata": {},
   "outputs": [],
   "source": []
  },
  {
   "cell_type": "code",
   "execution_count": null,
   "id": "d87353c7",
   "metadata": {},
   "outputs": [],
   "source": []
  },
  {
   "cell_type": "code",
   "execution_count": 30,
   "id": "4a05fdcc",
   "metadata": {},
   "outputs": [
    {
     "data": {
      "text/plain": [
       "0                 mean radius\n",
       "1                mean texture\n",
       "2              mean perimeter\n",
       "3                   mean area\n",
       "4             mean smoothness\n",
       "5            mean compactness\n",
       "6              mean concavity\n",
       "7         mean concave points\n",
       "8               mean symmetry\n",
       "9      mean fractal dimension\n",
       "10               radius error\n",
       "11              texture error\n",
       "12            perimeter error\n",
       "13                 area error\n",
       "14           smoothness error\n",
       "15          compactness error\n",
       "16            concavity error\n",
       "17       concave points error\n",
       "18             symmetry error\n",
       "19    fractal dimension error\n",
       "20               worst radius\n",
       "21              worst texture\n",
       "22            worst perimeter\n",
       "23                 worst area\n",
       "24           worst smoothness\n",
       "25          worst compactness\n",
       "26            worst concavity\n",
       "27       worst concave points\n",
       "28             worst symmetry\n",
       "29    worst fractal dimension\n",
       "dtype: object"
      ]
     },
     "execution_count": 30,
     "metadata": {},
     "output_type": "execute_result"
    }
   ],
   "source": [
    "pd.Series(b_cancer.feature_names)"
   ]
  },
  {
   "cell_type": "markdown",
   "id": "140c40da",
   "metadata": {},
   "source": [
    "* 시각화"
   ]
  },
  {
   "cell_type": "code",
   "execution_count": 29,
   "id": "87c0eb3a",
   "metadata": {},
   "outputs": [
    {
     "data": {
      "text/plain": [
       "<Axes: title={'center': 'Feature importance'}, xlabel='F score', ylabel='Features'>"
      ]
     },
     "execution_count": 29,
     "metadata": {},
     "output_type": "execute_result"
    },
    {
     "data": {
      "image/png": "[encoded data removed]",
      "text/plain": [
       "<Figure size 1000x1200 with 1 Axes>"
      ]
     },
     "metadata": {},
     "output_type": "display_data"
    }
   ],
   "source": [
    "# 1)  xgboost가 제공하는 Plot_importance\n",
    "from xgboost import plot_importance\n",
    "\n",
    "fig, ax = plt.subplots(figsize=(10,12))\n",
    "plot_importance(xgb2, ax=ax)  # feature names 연결 시킬 수 없음"
   ]
  },
  {
   "cell_type": "code",
   "execution_count": null,
   "id": "81fee7fc",
   "metadata": {},
   "outputs": [],
   "source": []
  },
  {
   "cell_type": "code",
   "execution_count": null,
   "id": "a6b8fb56",
   "metadata": {},
   "outputs": [],
   "source": []
  },
  {
   "cell_type": "markdown",
   "id": "9c400f25",
   "metadata": {},
   "source": [
    "# LightGBM(LGBM)"
   ]
  },
  {
   "cell_type": "code",
   "execution_count": 2,
   "id": "c97a2666",
   "metadata": {},
   "outputs": [
    {
     "name": "stdout",
     "output_type": "stream",
     "text": [
      "Collecting lightgbm\n",
      "  Obtaining dependency information for lightgbm from https://files.pythonhosted.org/packages/e3/a9/3bfb8f52fee7ab0950bb94920776dbca00b9515ff5fa504374c059d6192c/lightgbm-4.3.0-py3-none-macosx_10_15_x86_64.macosx_11_6_x86_64.macosx_12_5_x86_64.whl.metadata\n",
      "  Downloading lightgbm-4.3.0-py3-none-macosx_10_15_x86_64.macosx_11_6_x86_64.macosx_12_5_x86_64.whl.metadata (19 kB)\n",
      "Requirement already satisfied: numpy in /Users/journnie/anaconda3/lib/python3.11/site-packages (from lightgbm) (1.24.3)\n",
      "Requirement already satisfied: scipy in /Users/journnie/anaconda3/lib/python3.11/site-packages (from lightgbm) (1.11.1)\n",
      "Downloading lightgbm-4.3.0-py3-none-macosx_10_15_x86_64.macosx_11_6_x86_64.macosx_12_5_x86_64.whl (1.8 MB)\n",
      "\u001b[2K   \u001b[90m━━━━━━━━━━━━━━━━━━━━━━━━━━━━━━━━━━━━━━━━\u001b[0m \u001b[32m1.8/1.8 MB\u001b[0m \u001b[31m4.1 MB/s\u001b[0m eta \u001b[36m0:00:00\u001b[0ma \u001b[36m0:00:01\u001b[0m\n",
      "\u001b[?25hInstalling collected packages: lightgbm\n",
      "Successfully installed lightgbm-4.3.0\n",
      "Note: you may need to restart the kernel to use updated packages.\n"
     ]
    }
   ],
   "source": [
    "pip install lightgbm"
   ]
  },
  {
   "cell_type": "code",
   "execution_count": 3,
   "id": "4d1c6cbb",
   "metadata": {},
   "outputs": [],
   "source": [
    "import lightgbm"
   ]
  },
  {
   "cell_type": "code",
   "execution_count": null,
   "id": "b29b2c49",
   "metadata": {},
   "outputs": [],
   "source": []
  },
  {
   "cell_type": "markdown",
   "id": "406d0a36",
   "metadata": {},
   "source": [
    "## 위스콘신 유방암 데이터셋"
   ]
  },
  {
   "cell_type": "code",
   "execution_count": null,
   "id": "459a9aa4",
   "metadata": {},
   "outputs": [],
   "source": []
  },
  {
   "cell_type": "code",
   "execution_count": null,
   "id": "f1592946",
   "metadata": {},
   "outputs": [],
   "source": [
    "# 조기 중단 옵션을 사용하지 않은 경우"
   ]
  },
  {
   "cell_type": "code",
   "execution_count": null,
   "id": "05b839e5",
   "metadata": {},
   "outputs": [],
   "source": []
  },
  {
   "cell_type": "code",
   "execution_count": null,
   "id": "627c5b1e",
   "metadata": {},
   "outputs": [],
   "source": [
    "# 조기중단 옵션을 사용한 경우"
   ]
  },
  {
   "cell_type": "code",
   "execution_count": null,
   "id": "0e4d9e53",
   "metadata": {},
   "outputs": [],
   "source": []
  },
  {
   "cell_type": "code",
   "execution_count": null,
   "id": "28578db7",
   "metadata": {},
   "outputs": [],
   "source": []
  },
  {
   "cell_type": "code",
   "execution_count": null,
   "id": "cb55169c",
   "metadata": {},
   "outputs": [],
   "source": [
    "# 시각화"
   ]
  },
  {
   "cell_type": "code",
   "execution_count": null,
   "id": "d23572de",
   "metadata": {},
   "outputs": [],
   "source": []
  },
  {
   "cell_type": "code",
   "execution_count": null,
   "id": "33eb5b12",
   "metadata": {},
   "outputs": [],
   "source": []
  },
  {
   "cell_type": "markdown",
   "id": "c0396bb1",
   "metadata": {},
   "source": [
    "## CatBoosting"
   ]
  },
  {
   "cell_type": "code",
   "execution_count": null,
   "id": "664f7d30",
   "metadata": {},
   "outputs": [],
   "source": []
  }
 ],
 "metadata": {
  "kernelspec": {
   "display_name": "Python 3 (ipykernel)",
   "language": "python",
   "name": "python3"
  },
  "language_info": {
   "codemirror_mode": {
    "name": "ipython",
    "version": 3
   },
   "file_extension": ".py",
   "mimetype": "text/x-python",
   "name": "python",
   "nbconvert_exporter": "python",
   "pygments_lexer": "ipython3",
   "version": "3.11.5"
  }
 },
 "nbformat": 4,
 "nbformat_minor": 5
}
