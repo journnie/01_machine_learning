{
 "cells": [
  {
   "cell_type": "markdown",
   "metadata": {},
   "source": [
    "# 앙상블(Ensemble) 2 - AdaBoost, GBM"
   ]
  },
  {
   "cell_type": "markdown",
   "metadata": {},
   "source": [
    "## 앙상블 학습 개요"
   ]
  },
  {
   "cell_type": "code",
   "execution_count": 1,
   "metadata": {},
   "outputs": [],
   "source": [
    "import pandas as pd\n",
    "import numpy as np\n",
    "\n",
    "from sklearn.ensemble import AdaBoostClassifier\n",
    "from sklearn.model_selection import train_test_split\n",
    "from sklearn.model_selection import GridSearchCV\n",
    "\n",
    "from sklearn.metrics import accuracy_score\n",
    "\n",
    "import matplotlib.pyplot as plt\n",
    "import seaborn as sns"
   ]
  },
  {
   "cell_type": "code",
   "execution_count": 2,
   "metadata": {},
   "outputs": [],
   "source": [
    "# GridSearchCV를 위한 사전 셋업\n",
    "grid_learn = [0.0001, 0.001, 0.01, 0.03, 0.05, 0.1, 0.2, 0.25, 0.5, 1.0]\n",
    "grid_n_estimator = [10, 50, 100, 300, 500]\n",
    "grid_ratio = [0.1, 0.25, 0.5, 0.75, 1.0]\n",
    "grid_max_features = [0.3, 0.5, 0.7, 1.0]\n",
    "grid_max_depth = [1, 2, 4, 8]\n",
    "grid_min_samples_leaf = [1, 2, 3, 10, 100, 1500]\n",
    "grid_min_samples_split = [2, 4, 8, 16, 24, 30]\n",
    "grid_seed = [0]"
   ]
  },
  {
   "cell_type": "markdown",
   "metadata": {},
   "source": [
    "# 부스팅:  GBM(Gradient Boosting Machine)"
   ]
  },
  {
   "cell_type": "code",
   "execution_count": null,
   "metadata": {},
   "outputs": [],
   "source": []
  },
  {
   "cell_type": "markdown",
   "metadata": {},
   "source": [
    "* 그래디언트 부스팅의 매개변수"
   ]
  },
  {
   "cell_type": "code",
   "execution_count": 3,
   "metadata": {},
   "outputs": [
    {
     "name": "stdout",
     "output_type": "stream",
     "text": [
      "\u001b[0;31mInit signature:\u001b[0m\n",
      "\u001b[0mGradientBoostingClassifier\u001b[0m\u001b[0;34m(\u001b[0m\u001b[0;34m\u001b[0m\n",
      "\u001b[0;34m\u001b[0m    \u001b[0;34m*\u001b[0m\u001b[0;34m,\u001b[0m\u001b[0;34m\u001b[0m\n",
      "\u001b[0;34m\u001b[0m    \u001b[0mloss\u001b[0m\u001b[0;34m=\u001b[0m\u001b[0;34m'log_loss'\u001b[0m\u001b[0;34m,\u001b[0m\u001b[0;34m\u001b[0m\n",
      "\u001b[0;34m\u001b[0m    \u001b[0mlearning_rate\u001b[0m\u001b[0;34m=\u001b[0m\u001b[0;36m0.1\u001b[0m\u001b[0;34m,\u001b[0m\u001b[0;34m\u001b[0m\n",
      "\u001b[0;34m\u001b[0m    \u001b[0mn_estimators\u001b[0m\u001b[0;34m=\u001b[0m\u001b[0;36m100\u001b[0m\u001b[0;34m,\u001b[0m\u001b[0;34m\u001b[0m\n",
      "\u001b[0;34m\u001b[0m    \u001b[0msubsample\u001b[0m\u001b[0;34m=\u001b[0m\u001b[0;36m1.0\u001b[0m\u001b[0;34m,\u001b[0m\u001b[0;34m\u001b[0m\n",
      "\u001b[0;34m\u001b[0m    \u001b[0mcriterion\u001b[0m\u001b[0;34m=\u001b[0m\u001b[0;34m'friedman_mse'\u001b[0m\u001b[0;34m,\u001b[0m\u001b[0;34m\u001b[0m\n",
      "\u001b[0;34m\u001b[0m    \u001b[0mmin_samples_split\u001b[0m\u001b[0;34m=\u001b[0m\u001b[0;36m2\u001b[0m\u001b[0;34m,\u001b[0m\u001b[0;34m\u001b[0m\n",
      "\u001b[0;34m\u001b[0m    \u001b[0mmin_samples_leaf\u001b[0m\u001b[0;34m=\u001b[0m\u001b[0;36m1\u001b[0m\u001b[0;34m,\u001b[0m\u001b[0;34m\u001b[0m\n",
      "\u001b[0;34m\u001b[0m    \u001b[0mmin_weight_fraction_leaf\u001b[0m\u001b[0;34m=\u001b[0m\u001b[0;36m0.0\u001b[0m\u001b[0;34m,\u001b[0m\u001b[0;34m\u001b[0m\n",
      "\u001b[0;34m\u001b[0m    \u001b[0mmax_depth\u001b[0m\u001b[0;34m=\u001b[0m\u001b[0;36m3\u001b[0m\u001b[0;34m,\u001b[0m\u001b[0;34m\u001b[0m\n",
      "\u001b[0;34m\u001b[0m    \u001b[0mmin_impurity_decrease\u001b[0m\u001b[0;34m=\u001b[0m\u001b[0;36m0.0\u001b[0m\u001b[0;34m,\u001b[0m\u001b[0;34m\u001b[0m\n",
      "\u001b[0;34m\u001b[0m    \u001b[0minit\u001b[0m\u001b[0;34m=\u001b[0m\u001b[0;32mNone\u001b[0m\u001b[0;34m,\u001b[0m\u001b[0;34m\u001b[0m\n",
      "\u001b[0;34m\u001b[0m    \u001b[0mrandom_state\u001b[0m\u001b[0;34m=\u001b[0m\u001b[0;32mNone\u001b[0m\u001b[0;34m,\u001b[0m\u001b[0;34m\u001b[0m\n",
      "\u001b[0;34m\u001b[0m    \u001b[0mmax_features\u001b[0m\u001b[0;34m=\u001b[0m\u001b[0;32mNone\u001b[0m\u001b[0;34m,\u001b[0m\u001b[0;34m\u001b[0m\n",
      "\u001b[0;34m\u001b[0m    \u001b[0mverbose\u001b[0m\u001b[0;34m=\u001b[0m\u001b[0;36m0\u001b[0m\u001b[0;34m,\u001b[0m\u001b[0;34m\u001b[0m\n",
      "\u001b[0;34m\u001b[0m    \u001b[0mmax_leaf_nodes\u001b[0m\u001b[0;34m=\u001b[0m\u001b[0;32mNone\u001b[0m\u001b[0;34m,\u001b[0m\u001b[0;34m\u001b[0m\n",
      "\u001b[0;34m\u001b[0m    \u001b[0mwarm_start\u001b[0m\u001b[0;34m=\u001b[0m\u001b[0;32mFalse\u001b[0m\u001b[0;34m,\u001b[0m\u001b[0;34m\u001b[0m\n",
      "\u001b[0;34m\u001b[0m    \u001b[0mvalidation_fraction\u001b[0m\u001b[0;34m=\u001b[0m\u001b[0;36m0.1\u001b[0m\u001b[0;34m,\u001b[0m\u001b[0;34m\u001b[0m\n",
      "\u001b[0;34m\u001b[0m    \u001b[0mn_iter_no_change\u001b[0m\u001b[0;34m=\u001b[0m\u001b[0;32mNone\u001b[0m\u001b[0;34m,\u001b[0m\u001b[0;34m\u001b[0m\n",
      "\u001b[0;34m\u001b[0m    \u001b[0mtol\u001b[0m\u001b[0;34m=\u001b[0m\u001b[0;36m0.0001\u001b[0m\u001b[0;34m,\u001b[0m\u001b[0;34m\u001b[0m\n",
      "\u001b[0;34m\u001b[0m    \u001b[0mccp_alpha\u001b[0m\u001b[0;34m=\u001b[0m\u001b[0;36m0.0\u001b[0m\u001b[0;34m,\u001b[0m\u001b[0;34m\u001b[0m\n",
      "\u001b[0;34m\u001b[0m\u001b[0;34m)\u001b[0m\u001b[0;34m\u001b[0m\u001b[0;34m\u001b[0m\u001b[0m\n",
      "\u001b[0;31mDocstring:\u001b[0m     \n",
      "Gradient Boosting for classification.\n",
      "\n",
      "This algorithm builds an additive model in a forward stage-wise fashion; it\n",
      "allows for the optimization of arbitrary differentiable loss functions. In\n",
      "each stage ``n_classes_`` regression trees are fit on the negative gradient\n",
      "of the loss function, e.g. binary or multiclass log loss. Binary\n",
      "classification is a special case where only a single regression tree is\n",
      "induced.\n",
      "\n",
      ":class:`sklearn.ensemble.HistGradientBoostingClassifier` is a much faster\n",
      "variant of this algorithm for intermediate datasets (`n_samples >= 10_000`).\n",
      "\n",
      "Read more in the :ref:`User Guide <gradient_boosting>`.\n",
      "\n",
      "Parameters\n",
      "----------\n",
      "loss : {'log_loss', 'exponential'}, default='log_loss'\n",
      "    The loss function to be optimized. 'log_loss' refers to binomial and\n",
      "    multinomial deviance, the same as used in logistic regression.\n",
      "    It is a good choice for classification with probabilistic outputs.\n",
      "    For loss 'exponential', gradient boosting recovers the AdaBoost algorithm.\n",
      "\n",
      "learning_rate : float, default=0.1\n",
      "    Learning rate shrinks the contribution of each tree by `learning_rate`.\n",
      "    There is a trade-off between learning_rate and n_estimators.\n",
      "    Values must be in the range `[0.0, inf)`.\n",
      "\n",
      "n_estimators : int, default=100\n",
      "    The number of boosting stages to perform. Gradient boosting\n",
      "    is fairly robust to over-fitting so a large number usually\n",
      "    results in better performance.\n",
      "    Values must be in the range `[1, inf)`.\n",
      "\n",
      "subsample : float, default=1.0\n",
      "    The fraction of samples to be used for fitting the individual base\n",
      "    learners. If smaller than 1.0 this results in Stochastic Gradient\n",
      "    Boosting. `subsample` interacts with the parameter `n_estimators`.\n",
      "    Choosing `subsample < 1.0` leads to a reduction of variance\n",
      "    and an increase in bias.\n",
      "    Values must be in the range `(0.0, 1.0]`.\n",
      "\n",
      "criterion : {'friedman_mse', 'squared_error'}, default='friedman_mse'\n",
      "    The function to measure the quality of a split. Supported criteria are\n",
      "    'friedman_mse' for the mean squared error with improvement score by\n",
      "    Friedman, 'squared_error' for mean squared error. The default value of\n",
      "    'friedman_mse' is generally the best as it can provide a better\n",
      "    approximation in some cases.\n",
      "\n",
      "    .. versionadded:: 0.18\n",
      "\n",
      "min_samples_split : int or float, default=2\n",
      "    The minimum number of samples required to split an internal node:\n",
      "\n",
      "    - If int, values must be in the range `[2, inf)`.\n",
      "    - If float, values must be in the range `(0.0, 1.0]` and `min_samples_split`\n",
      "      will be `ceil(min_samples_split * n_samples)`.\n",
      "\n",
      "    .. versionchanged:: 0.18\n",
      "       Added float values for fractions.\n",
      "\n",
      "min_samples_leaf : int or float, default=1\n",
      "    The minimum number of samples required to be at a leaf node.\n",
      "    A split point at any depth will only be considered if it leaves at\n",
      "    least ``min_samples_leaf`` training samples in each of the left and\n",
      "    right branches.  This may have the effect of smoothing the model,\n",
      "    especially in regression.\n",
      "\n",
      "    - If int, values must be in the range `[1, inf)`.\n",
      "    - If float, values must be in the range `(0.0, 1.0)` and `min_samples_leaf`\n",
      "      will be `ceil(min_samples_leaf * n_samples)`.\n",
      "\n",
      "    .. versionchanged:: 0.18\n",
      "       Added float values for fractions.\n",
      "\n",
      "min_weight_fraction_leaf : float, default=0.0\n",
      "    The minimum weighted fraction of the sum total of weights (of all\n",
      "    the input samples) required to be at a leaf node. Samples have\n",
      "    equal weight when sample_weight is not provided.\n",
      "    Values must be in the range `[0.0, 0.5]`.\n",
      "\n",
      "max_depth : int or None, default=3\n",
      "    Maximum depth of the individual regression estimators. The maximum\n",
      "    depth limits the number of nodes in the tree. Tune this parameter\n",
      "    for best performance; the best value depends on the interaction\n",
      "    of the input variables. If None, then nodes are expanded until\n",
      "    all leaves are pure or until all leaves contain less than\n",
      "    min_samples_split samples.\n",
      "    If int, values must be in the range `[1, inf)`.\n",
      "\n",
      "min_impurity_decrease : float, default=0.0\n",
      "    A node will be split if this split induces a decrease of the impurity\n",
      "    greater than or equal to this value.\n",
      "    Values must be in the range `[0.0, inf)`.\n",
      "\n",
      "    The weighted impurity decrease equation is the following::\n",
      "\n",
      "        N_t / N * (impurity - N_t_R / N_t * right_impurity\n",
      "                            - N_t_L / N_t * left_impurity)\n",
      "\n",
      "    where ``N`` is the total number of samples, ``N_t`` is the number of\n",
      "    samples at the current node, ``N_t_L`` is the number of samples in the\n",
      "    left child, and ``N_t_R`` is the number of samples in the right child.\n",
      "\n",
      "    ``N``, ``N_t``, ``N_t_R`` and ``N_t_L`` all refer to the weighted sum,\n",
      "    if ``sample_weight`` is passed.\n",
      "\n",
      "    .. versionadded:: 0.19\n",
      "\n",
      "init : estimator or 'zero', default=None\n",
      "    An estimator object that is used to compute the initial predictions.\n",
      "    ``init`` has to provide :term:`fit` and :term:`predict_proba`. If\n",
      "    'zero', the initial raw predictions are set to zero. By default, a\n",
      "    ``DummyEstimator`` predicting the classes priors is used.\n",
      "\n",
      "random_state : int, RandomState instance or None, default=None\n",
      "    Controls the random seed given to each Tree estimator at each\n",
      "    boosting iteration.\n",
      "    In addition, it controls the random permutation of the features at\n",
      "    each split (see Notes for more details).\n",
      "    It also controls the random splitting of the training data to obtain a\n",
      "    validation set if `n_iter_no_change` is not None.\n",
      "    Pass an int for reproducible output across multiple function calls.\n",
      "    See :term:`Glossary <random_state>`.\n",
      "\n",
      "max_features : {'sqrt', 'log2'}, int or float, default=None\n",
      "    The number of features to consider when looking for the best split:\n",
      "\n",
      "    - If int, values must be in the range `[1, inf)`.\n",
      "    - If float, values must be in the range `(0.0, 1.0]` and the features\n",
      "      considered at each split will be `max(1, int(max_features * n_features_in_))`.\n",
      "    - If 'sqrt', then `max_features=sqrt(n_features)`.\n",
      "    - If 'log2', then `max_features=log2(n_features)`.\n",
      "    - If None, then `max_features=n_features`.\n",
      "\n",
      "    Choosing `max_features < n_features` leads to a reduction of variance\n",
      "    and an increase in bias.\n",
      "\n",
      "    Note: the search for a split does not stop until at least one\n",
      "    valid partition of the node samples is found, even if it requires to\n",
      "    effectively inspect more than ``max_features`` features.\n",
      "\n",
      "verbose : int, default=0\n",
      "    Enable verbose output. If 1 then it prints progress and performance\n",
      "    once in a while (the more trees the lower the frequency). If greater\n",
      "    than 1 then it prints progress and performance for every tree.\n",
      "    Values must be in the range `[0, inf)`.\n",
      "\n",
      "max_leaf_nodes : int, default=None\n",
      "    Grow trees with ``max_leaf_nodes`` in best-first fashion.\n",
      "    Best nodes are defined as relative reduction in impurity.\n",
      "    Values must be in the range `[2, inf)`.\n",
      "    If `None`, then unlimited number of leaf nodes.\n",
      "\n",
      "warm_start : bool, default=False\n",
      "    When set to ``True``, reuse the solution of the previous call to fit\n",
      "    and add more estimators to the ensemble, otherwise, just erase the\n",
      "    previous solution. See :term:`the Glossary <warm_start>`.\n",
      "\n",
      "validation_fraction : float, default=0.1\n",
      "    The proportion of training data to set aside as validation set for\n",
      "    early stopping. Values must be in the range `(0.0, 1.0)`.\n",
      "    Only used if ``n_iter_no_change`` is set to an integer.\n",
      "\n",
      "    .. versionadded:: 0.20\n",
      "\n",
      "n_iter_no_change : int, default=None\n",
      "    ``n_iter_no_change`` is used to decide if early stopping will be used\n",
      "    to terminate training when validation score is not improving. By\n",
      "    default it is set to None to disable early stopping. If set to a\n",
      "    number, it will set aside ``validation_fraction`` size of the training\n",
      "    data as validation and terminate training when validation score is not\n",
      "    improving in all of the previous ``n_iter_no_change`` numbers of\n",
      "    iterations. The split is stratified.\n",
      "    Values must be in the range `[1, inf)`.\n",
      "\n",
      "    .. versionadded:: 0.20\n",
      "\n",
      "tol : float, default=1e-4\n",
      "    Tolerance for the early stopping. When the loss is not improving\n",
      "    by at least tol for ``n_iter_no_change`` iterations (if set to a\n",
      "    number), the training stops.\n",
      "    Values must be in the range `[0.0, inf)`.\n",
      "\n",
      "    .. versionadded:: 0.20\n",
      "\n",
      "ccp_alpha : non-negative float, default=0.0\n",
      "    Complexity parameter used for Minimal Cost-Complexity Pruning. The\n",
      "    subtree with the largest cost complexity that is smaller than\n",
      "    ``ccp_alpha`` will be chosen. By default, no pruning is performed.\n",
      "    Values must be in the range `[0.0, inf)`.\n",
      "    See :ref:`minimal_cost_complexity_pruning` for details.\n",
      "\n",
      "    .. versionadded:: 0.22\n",
      "\n",
      "Attributes\n",
      "----------\n",
      "n_estimators_ : int\n",
      "    The number of estimators as selected by early stopping (if\n",
      "    ``n_iter_no_change`` is specified). Otherwise it is set to\n",
      "    ``n_estimators``.\n",
      "\n",
      "    .. versionadded:: 0.20\n",
      "\n",
      "feature_importances_ : ndarray of shape (n_features,)\n",
      "    The impurity-based feature importances.\n",
      "    The higher, the more important the feature.\n",
      "    The importance of a feature is computed as the (normalized)\n",
      "    total reduction of the criterion brought by that feature.  It is also\n",
      "    known as the Gini importance.\n",
      "\n",
      "    Warning: impurity-based feature importances can be misleading for\n",
      "    high cardinality features (many unique values). See\n",
      "    :func:`sklearn.inspection.permutation_importance` as an alternative.\n",
      "\n",
      "oob_improvement_ : ndarray of shape (n_estimators,)\n",
      "    The improvement in loss on the out-of-bag samples\n",
      "    relative to the previous iteration.\n",
      "    ``oob_improvement_[0]`` is the improvement in\n",
      "    loss of the first stage over the ``init`` estimator.\n",
      "    Only available if ``subsample < 1.0``.\n",
      "\n",
      "oob_scores_ : ndarray of shape (n_estimators,)\n",
      "    The full history of the loss values on the out-of-bag\n",
      "    samples. Only available if `subsample < 1.0`.\n",
      "\n",
      "    .. versionadded:: 1.3\n",
      "\n",
      "oob_score_ : float\n",
      "    The last value of the loss on the out-of-bag samples. It is\n",
      "    the same as `oob_scores_[-1]`. Only available if `subsample < 1.0`.\n",
      "\n",
      "    .. versionadded:: 1.3\n",
      "\n",
      "train_score_ : ndarray of shape (n_estimators,)\n",
      "    The i-th score ``train_score_[i]`` is the loss of the\n",
      "    model at iteration ``i`` on the in-bag sample.\n",
      "    If ``subsample == 1`` this is the loss on the training data.\n",
      "\n",
      "init_ : estimator\n",
      "    The estimator that provides the initial predictions.\n",
      "    Set via the ``init`` argument or ``loss.init_estimator``.\n",
      "\n",
      "estimators_ : ndarray of DecisionTreeRegressor of             shape (n_estimators, ``loss_.K``)\n",
      "    The collection of fitted sub-estimators. ``loss_.K`` is 1 for binary\n",
      "    classification, otherwise n_classes.\n",
      "\n",
      "classes_ : ndarray of shape (n_classes,)\n",
      "    The classes labels.\n",
      "\n",
      "n_features_in_ : int\n",
      "    Number of features seen during :term:`fit`.\n",
      "\n",
      "    .. versionadded:: 0.24\n",
      "\n",
      "feature_names_in_ : ndarray of shape (`n_features_in_`,)\n",
      "    Names of features seen during :term:`fit`. Defined only when `X`\n",
      "    has feature names that are all strings.\n",
      "\n",
      "    .. versionadded:: 1.0\n",
      "\n",
      "n_classes_ : int\n",
      "    The number of classes.\n",
      "\n",
      "max_features_ : int\n",
      "    The inferred value of max_features.\n",
      "\n",
      "See Also\n",
      "--------\n",
      "HistGradientBoostingClassifier : Histogram-based Gradient Boosting\n",
      "    Classification Tree.\n",
      "sklearn.tree.DecisionTreeClassifier : A decision tree classifier.\n",
      "RandomForestClassifier : A meta-estimator that fits a number of decision\n",
      "    tree classifiers on various sub-samples of the dataset and uses\n",
      "    averaging to improve the predictive accuracy and control over-fitting.\n",
      "AdaBoostClassifier : A meta-estimator that begins by fitting a classifier\n",
      "    on the original dataset and then fits additional copies of the\n",
      "    classifier on the same dataset where the weights of incorrectly\n",
      "    classified instances are adjusted such that subsequent classifiers\n",
      "    focus more on difficult cases.\n",
      "\n",
      "Notes\n",
      "-----\n",
      "The features are always randomly permuted at each split. Therefore,\n",
      "the best found split may vary, even with the same training data and\n",
      "``max_features=n_features``, if the improvement of the criterion is\n",
      "identical for several splits enumerated during the search of the best\n",
      "split. To obtain a deterministic behaviour during fitting,\n",
      "``random_state`` has to be fixed.\n",
      "\n",
      "References\n",
      "----------\n",
      "J. Friedman, Greedy Function Approximation: A Gradient Boosting\n",
      "Machine, The Annals of Statistics, Vol. 29, No. 5, 2001.\n",
      "\n",
      "J. Friedman, Stochastic Gradient Boosting, 1999\n",
      "\n",
      "T. Hastie, R. Tibshirani and J. Friedman.\n",
      "Elements of Statistical Learning Ed. 2, Springer, 2009.\n",
      "\n",
      "Examples\n",
      "--------\n",
      "The following example shows how to fit a gradient boosting classifier with\n",
      "100 decision stumps as weak learners.\n",
      "\n",
      ">>> from sklearn.datasets import make_hastie_10_2\n",
      ">>> from sklearn.ensemble import GradientBoostingClassifier\n",
      "\n",
      ">>> X, y = make_hastie_10_2(random_state=0)\n",
      ">>> X_train, X_test = X[:2000], X[2000:]\n",
      ">>> y_train, y_test = y[:2000], y[2000:]\n",
      "\n",
      ">>> clf = GradientBoostingClassifier(n_estimators=100, learning_rate=1.0,\n",
      "...     max_depth=1, random_state=0).fit(X_train, y_train)\n",
      ">>> clf.score(X_test, y_test)\n",
      "0.913...\n",
      "\u001b[0;31mFile:\u001b[0m           ~/anaconda3/lib/python3.11/site-packages/sklearn/ensemble/_gb.py\n",
      "\u001b[0;31mType:\u001b[0m           ABCMeta\n",
      "\u001b[0;31mSubclasses:\u001b[0m     "
     ]
    }
   ],
   "source": [
    "from sklearn.ensemble import GradientBoostingClassifier\n",
    "\n",
    "?GradientBoostingClassifier  # ? 쓰면 정보 나옴"
   ]
  },
  {
   "cell_type": "code",
   "execution_count": null,
   "metadata": {},
   "outputs": [],
   "source": []
  },
  {
   "cell_type": "code",
   "execution_count": null,
   "metadata": {},
   "outputs": [],
   "source": []
  },
  {
   "cell_type": "markdown",
   "metadata": {},
   "source": [
    "# AdaBoost : 타이타닉\n"
   ]
  },
  {
   "cell_type": "code",
   "execution_count": 6,
   "metadata": {},
   "outputs": [
    {
     "name": "stdout",
     "output_type": "stream",
     "text": [
      "<class 'pandas.core.frame.DataFrame'>\n",
      "RangeIndex: 1043 entries, 0 to 1042\n",
      "Data columns (total 8 columns):\n",
      " #   Column    Non-Null Count  Dtype  \n",
      "---  ------    --------------  -----  \n",
      " 0   Survived  1043 non-null   int64  \n",
      " 1   Age       1043 non-null   float64\n",
      " 2   SibSp     1043 non-null   int64  \n",
      " 3   Parch     1043 non-null   int64  \n",
      " 4   Fare      1043 non-null   float64\n",
      " 5   Pclass_2  1043 non-null   int64  \n",
      " 6   Pclass_3  1043 non-null   int64  \n",
      " 7   Sex_1     1043 non-null   int64  \n",
      "dtypes: float64(2), int64(6)\n",
      "memory usage: 65.3 KB\n"
     ]
    }
   ],
   "source": [
    "# 타이타닉 df를 adaboosting\n",
    "df = pd.read_csv('data/df_titanic.csv')\n",
    "df.info()"
   ]
  },
  {
   "cell_type": "code",
   "execution_count": 7,
   "metadata": {},
   "outputs": [],
   "source": [
    "X = df.iloc[:,1:]\n",
    "y = df.Survived"
   ]
  },
  {
   "cell_type": "code",
   "execution_count": 8,
   "metadata": {},
   "outputs": [],
   "source": [
    "# data split\n",
    "X_train, X_test, y_train, y_test = train_test_split(X, y, test_size=0.2, random_state=42)"
   ]
  },
  {
   "cell_type": "code",
   "execution_count": 9,
   "metadata": {},
   "outputs": [
    {
     "data": {
      "text/plain": [
       "((834, 7), (209, 7))"
      ]
     },
     "execution_count": 9,
     "metadata": {},
     "output_type": "execute_result"
    }
   ],
   "source": [
    "X_train.shape, X_test.shape"
   ]
  },
  {
   "cell_type": "code",
   "execution_count": 16,
   "metadata": {},
   "outputs": [
    {
     "name": "stdout",
     "output_type": "stream",
     "text": [
      "train_score: 0.8693045563549161\n",
      "test_score: 0.8660287081339713\n",
      "0.8693045563549161 0.8660287081339713\n"
     ]
    }
   ],
   "source": [
    "# Conduct ADA boost Original Model - without hyperparameters\n",
    "from sklearn.tree import DecisionTreeClassifier\n",
    "dt = DecisionTreeClassifier(random_state=42, max_depth=1)\n",
    "ada_clf = AdaBoostClassifier(dt, n_estimators=50, algorithm='SAMME.R', learning_rate=1)\n",
    "ada_clf.fit(X_train, y_train)\n",
    "\n",
    "# accuracy score method 1\n",
    "print(f'train_score: {ada_clf.score(X_train, y_train)}')\n",
    "print(f'test_score: {ada_clf.score(X_test, y_test)}')\n",
    "\n",
    "# accuracy score method 2\n",
    "y_pred_train = ada_clf.predict(X_train)\n",
    "y_pred_test = ada_clf.predict(X_test)\n",
    "train_score2 = accuracy_score(y_train, y_pred_train)\n",
    "test_score2 = accuracy_score(y_test, y_pred_test)\n",
    "print(train_score2, test_score2)"
   ]
  },
  {
   "cell_type": "markdown",
   "metadata": {},
   "source": [
    "#### 하이퍼 파라미터\n",
    "- 디폴트(default) 설정\n",
    "\n",
    "```python\n",
    "AdaBoostClassifier(\n",
    "    base_estimator=None,\n",
    "    n_estimators=50,\n",
    "    learning_rate=1.0,\n",
    "    algorithm='SAMME.R',\n",
    "    random_state=None,\n",
    ")\n",
    "```\n",
    "- base_estimator: 예측할 모델, 디폴트는 DecisionTreeClassifier(max_depth=1)\n",
    "- n_estimators: 모형(week learner)의 갯수, 순차적으로 오류를 보정해서 수가 많으면 성능이 일정 수준까지 높아 질 수 있으나 수행 시간이 오래 걸린다는 단점이 있음. 디폴트는 50\n",
    "- learning_rate: 학습률, 0~1 사이의 값을 지정. 너무 작은 값인 경우 최소점을 찾아 예측 성능이 높지만 학습에 오래 걸리고 너무 큰 값인 경우 최소점을 찾지 못해 예측 성능이 떨어질 확률이 높음. 그래서 n_estimators와 상호 호환 필요. 디폴트는 1.0"
   ]
  },
  {
   "cell_type": "code",
   "execution_count": 17,
   "metadata": {},
   "outputs": [
    {
     "name": "stdout",
     "output_type": "stream",
     "text": [
      "\u001b[0;31mInit signature:\u001b[0m\n",
      "\u001b[0mAdaBoostClassifier\u001b[0m\u001b[0;34m(\u001b[0m\u001b[0;34m\u001b[0m\n",
      "\u001b[0;34m\u001b[0m    \u001b[0mestimator\u001b[0m\u001b[0;34m=\u001b[0m\u001b[0;32mNone\u001b[0m\u001b[0;34m,\u001b[0m\u001b[0;34m\u001b[0m\n",
      "\u001b[0;34m\u001b[0m    \u001b[0;34m*\u001b[0m\u001b[0;34m,\u001b[0m\u001b[0;34m\u001b[0m\n",
      "\u001b[0;34m\u001b[0m    \u001b[0mn_estimators\u001b[0m\u001b[0;34m=\u001b[0m\u001b[0;36m50\u001b[0m\u001b[0;34m,\u001b[0m\u001b[0;34m\u001b[0m\n",
      "\u001b[0;34m\u001b[0m    \u001b[0mlearning_rate\u001b[0m\u001b[0;34m=\u001b[0m\u001b[0;36m1.0\u001b[0m\u001b[0;34m,\u001b[0m\u001b[0;34m\u001b[0m\n",
      "\u001b[0;34m\u001b[0m    \u001b[0malgorithm\u001b[0m\u001b[0;34m=\u001b[0m\u001b[0;34m'SAMME.R'\u001b[0m\u001b[0;34m,\u001b[0m\u001b[0;34m\u001b[0m\n",
      "\u001b[0;34m\u001b[0m    \u001b[0mrandom_state\u001b[0m\u001b[0;34m=\u001b[0m\u001b[0;32mNone\u001b[0m\u001b[0;34m,\u001b[0m\u001b[0;34m\u001b[0m\n",
      "\u001b[0;34m\u001b[0m    \u001b[0mbase_estimator\u001b[0m\u001b[0;34m=\u001b[0m\u001b[0;34m'deprecated'\u001b[0m\u001b[0;34m,\u001b[0m\u001b[0;34m\u001b[0m\n",
      "\u001b[0;34m\u001b[0m\u001b[0;34m)\u001b[0m\u001b[0;34m\u001b[0m\u001b[0;34m\u001b[0m\u001b[0m\n",
      "\u001b[0;31mDocstring:\u001b[0m     \n",
      "An AdaBoost classifier.\n",
      "\n",
      "An AdaBoost [1] classifier is a meta-estimator that begins by fitting a\n",
      "classifier on the original dataset and then fits additional copies of the\n",
      "classifier on the same dataset but where the weights of incorrectly\n",
      "classified instances are adjusted such that subsequent classifiers focus\n",
      "more on difficult cases.\n",
      "\n",
      "This class implements the algorithm known as AdaBoost-SAMME [2].\n",
      "\n",
      "Read more in the :ref:`User Guide <adaboost>`.\n",
      "\n",
      ".. versionadded:: 0.14\n",
      "\n",
      "Parameters\n",
      "----------\n",
      "estimator : object, default=None\n",
      "    The base estimator from which the boosted ensemble is built.\n",
      "    Support for sample weighting is required, as well as proper\n",
      "    ``classes_`` and ``n_classes_`` attributes. If ``None``, then\n",
      "    the base estimator is :class:`~sklearn.tree.DecisionTreeClassifier`\n",
      "    initialized with `max_depth=1`.\n",
      "\n",
      "    .. versionadded:: 1.2\n",
      "       `base_estimator` was renamed to `estimator`.\n",
      "\n",
      "n_estimators : int, default=50\n",
      "    The maximum number of estimators at which boosting is terminated.\n",
      "    In case of perfect fit, the learning procedure is stopped early.\n",
      "    Values must be in the range `[1, inf)`.\n",
      "\n",
      "learning_rate : float, default=1.0\n",
      "    Weight applied to each classifier at each boosting iteration. A higher\n",
      "    learning rate increases the contribution of each classifier. There is\n",
      "    a trade-off between the `learning_rate` and `n_estimators` parameters.\n",
      "    Values must be in the range `(0.0, inf)`.\n",
      "\n",
      "algorithm : {'SAMME', 'SAMME.R'}, default='SAMME.R'\n",
      "    If 'SAMME.R' then use the SAMME.R real boosting algorithm.\n",
      "    ``estimator`` must support calculation of class probabilities.\n",
      "    If 'SAMME' then use the SAMME discrete boosting algorithm.\n",
      "    The SAMME.R algorithm typically converges faster than SAMME,\n",
      "    achieving a lower test error with fewer boosting iterations.\n",
      "\n",
      "random_state : int, RandomState instance or None, default=None\n",
      "    Controls the random seed given at each `estimator` at each\n",
      "    boosting iteration.\n",
      "    Thus, it is only used when `estimator` exposes a `random_state`.\n",
      "    Pass an int for reproducible output across multiple function calls.\n",
      "    See :term:`Glossary <random_state>`.\n",
      "\n",
      "base_estimator : object, default=None\n",
      "    The base estimator from which the boosted ensemble is built.\n",
      "    Support for sample weighting is required, as well as proper\n",
      "    ``classes_`` and ``n_classes_`` attributes. If ``None``, then\n",
      "    the base estimator is :class:`~sklearn.tree.DecisionTreeClassifier`\n",
      "    initialized with `max_depth=1`.\n",
      "\n",
      "    .. deprecated:: 1.2\n",
      "        `base_estimator` is deprecated and will be removed in 1.4.\n",
      "        Use `estimator` instead.\n",
      "\n",
      "Attributes\n",
      "----------\n",
      "estimator_ : estimator\n",
      "    The base estimator from which the ensemble is grown.\n",
      "\n",
      "    .. versionadded:: 1.2\n",
      "       `base_estimator_` was renamed to `estimator_`.\n",
      "\n",
      "base_estimator_ : estimator\n",
      "    The base estimator from which the ensemble is grown.\n",
      "\n",
      "    .. deprecated:: 1.2\n",
      "        `base_estimator_` is deprecated and will be removed in 1.4.\n",
      "        Use `estimator_` instead.\n",
      "\n",
      "estimators_ : list of classifiers\n",
      "    The collection of fitted sub-estimators.\n",
      "\n",
      "classes_ : ndarray of shape (n_classes,)\n",
      "    The classes labels.\n",
      "\n",
      "n_classes_ : int\n",
      "    The number of classes.\n",
      "\n",
      "estimator_weights_ : ndarray of floats\n",
      "    Weights for each estimator in the boosted ensemble.\n",
      "\n",
      "estimator_errors_ : ndarray of floats\n",
      "    Classification error for each estimator in the boosted\n",
      "    ensemble.\n",
      "\n",
      "feature_importances_ : ndarray of shape (n_features,)\n",
      "    The impurity-based feature importances if supported by the\n",
      "    ``estimator`` (when based on decision trees).\n",
      "\n",
      "    Warning: impurity-based feature importances can be misleading for\n",
      "    high cardinality features (many unique values). See\n",
      "    :func:`sklearn.inspection.permutation_importance` as an alternative.\n",
      "\n",
      "n_features_in_ : int\n",
      "    Number of features seen during :term:`fit`.\n",
      "\n",
      "    .. versionadded:: 0.24\n",
      "\n",
      "feature_names_in_ : ndarray of shape (`n_features_in_`,)\n",
      "    Names of features seen during :term:`fit`. Defined only when `X`\n",
      "    has feature names that are all strings.\n",
      "\n",
      "    .. versionadded:: 1.0\n",
      "\n",
      "See Also\n",
      "--------\n",
      "AdaBoostRegressor : An AdaBoost regressor that begins by fitting a\n",
      "    regressor on the original dataset and then fits additional copies of\n",
      "    the regressor on the same dataset but where the weights of instances\n",
      "    are adjusted according to the error of the current prediction.\n",
      "\n",
      "GradientBoostingClassifier : GB builds an additive model in a forward\n",
      "    stage-wise fashion. Regression trees are fit on the negative gradient\n",
      "    of the binomial or multinomial deviance loss function. Binary\n",
      "    classification is a special case where only a single regression tree is\n",
      "    induced.\n",
      "\n",
      "sklearn.tree.DecisionTreeClassifier : A non-parametric supervised learning\n",
      "    method used for classification.\n",
      "    Creates a model that predicts the value of a target variable by\n",
      "    learning simple decision rules inferred from the data features.\n",
      "\n",
      "References\n",
      "----------\n",
      ".. [1] Y. Freund, R. Schapire, \"A Decision-Theoretic Generalization of\n",
      "       on-Line Learning and an Application to Boosting\", 1995.\n",
      "\n",
      ".. [2] J. Zhu, H. Zou, S. Rosset, T. Hastie, \"Multi-class AdaBoost\", 2009.\n",
      "\n",
      "Examples\n",
      "--------\n",
      ">>> from sklearn.ensemble import AdaBoostClassifier\n",
      ">>> from sklearn.datasets import make_classification\n",
      ">>> X, y = make_classification(n_samples=1000, n_features=4,\n",
      "...                            n_informative=2, n_redundant=0,\n",
      "...                            random_state=0, shuffle=False)\n",
      ">>> clf = AdaBoostClassifier(n_estimators=100, random_state=0)\n",
      ">>> clf.fit(X, y)\n",
      "AdaBoostClassifier(n_estimators=100, random_state=0)\n",
      ">>> clf.predict([[0, 0, 0, 0]])\n",
      "array([1])\n",
      ">>> clf.score(X, y)\n",
      "0.983...\n",
      "\u001b[0;31mFile:\u001b[0m           ~/anaconda3/lib/python3.11/site-packages/sklearn/ensemble/_weight_boosting.py\n",
      "\u001b[0;31mType:\u001b[0m           ABCMeta\n",
      "\u001b[0;31mSubclasses:\u001b[0m     "
     ]
    }
   ],
   "source": [
    "?AdaBoostClassifier"
   ]
  },
  {
   "cell_type": "markdown",
   "metadata": {},
   "source": [
    "#### AdaBoost - GridSearchCV 를 활용한 최적의 파라미터 찾기"
   ]
  },
  {
   "cell_type": "code",
   "execution_count": 21,
   "metadata": {},
   "outputs": [
    {
     "data": {
      "text/html": [
       "<style>#sk-container-id-3 {color: black;}#sk-container-id-3 pre{padding: 0;}#sk-container-id-3 div.sk-toggleable {background-color: white;}#sk-container-id-3 label.sk-toggleable__label {cursor: pointer;display: block;width: 100%;margin-bottom: 0;padding: 0.3em;box-sizing: border-box;text-align: center;}#sk-container-id-3 label.sk-toggleable__label-arrow:before {content: \"▸\";float: left;margin-right: 0.25em;color: #696969;}#sk-container-id-3 label.sk-toggleable__label-arrow:hover:before {color: black;}#sk-container-id-3 div.sk-estimator:hover label.sk-toggleable__label-arrow:before {color: black;}#sk-container-id-3 div.sk-toggleable__content {max-height: 0;max-width: 0;overflow: hidden;text-align: left;background-color: #f0f8ff;}#sk-container-id-3 div.sk-toggleable__content pre {margin: 0.2em;color: black;border-radius: 0.25em;background-color: #f0f8ff;}#sk-container-id-3 input.sk-toggleable__control:checked~div.sk-toggleable__content {max-height: 200px;max-width: 100%;overflow: auto;}#sk-container-id-3 input.sk-toggleable__control:checked~label.sk-toggleable__label-arrow:before {content: \"▾\";}#sk-container-id-3 div.sk-estimator input.sk-toggleable__control:checked~label.sk-toggleable__label {background-color: #d4ebff;}#sk-container-id-3 div.sk-label input.sk-toggleable__control:checked~label.sk-toggleable__label {background-color: #d4ebff;}#sk-container-id-3 input.sk-hidden--visually {border: 0;clip: rect(1px 1px 1px 1px);clip: rect(1px, 1px, 1px, 1px);height: 1px;margin: -1px;overflow: hidden;padding: 0;position: absolute;width: 1px;}#sk-container-id-3 div.sk-estimator {font-family: monospace;background-color: #f0f8ff;border: 1px dotted black;border-radius: 0.25em;box-sizing: border-box;margin-bottom: 0.5em;}#sk-container-id-3 div.sk-estimator:hover {background-color: #d4ebff;}#sk-container-id-3 div.sk-parallel-item::after {content: \"\";width: 100%;border-bottom: 1px solid gray;flex-grow: 1;}#sk-container-id-3 div.sk-label:hover label.sk-toggleable__label {background-color: #d4ebff;}#sk-container-id-3 div.sk-serial::before {content: \"\";position: absolute;border-left: 1px solid gray;box-sizing: border-box;top: 0;bottom: 0;left: 50%;z-index: 0;}#sk-container-id-3 div.sk-serial {display: flex;flex-direction: column;align-items: center;background-color: white;padding-right: 0.2em;padding-left: 0.2em;position: relative;}#sk-container-id-3 div.sk-item {position: relative;z-index: 1;}#sk-container-id-3 div.sk-parallel {display: flex;align-items: stretch;justify-content: center;background-color: white;position: relative;}#sk-container-id-3 div.sk-item::before, #sk-container-id-3 div.sk-parallel-item::before {content: \"\";position: absolute;border-left: 1px solid gray;box-sizing: border-box;top: 0;bottom: 0;left: 50%;z-index: -1;}#sk-container-id-3 div.sk-parallel-item {display: flex;flex-direction: column;z-index: 1;position: relative;background-color: white;}#sk-container-id-3 div.sk-parallel-item:first-child::after {align-self: flex-end;width: 50%;}#sk-container-id-3 div.sk-parallel-item:last-child::after {align-self: flex-start;width: 50%;}#sk-container-id-3 div.sk-parallel-item:only-child::after {width: 0;}#sk-container-id-3 div.sk-dashed-wrapped {border: 1px dashed gray;margin: 0 0.4em 0.5em 0.4em;box-sizing: border-box;padding-bottom: 0.4em;background-color: white;}#sk-container-id-3 div.sk-label label {font-family: monospace;font-weight: bold;display: inline-block;line-height: 1.2em;}#sk-container-id-3 div.sk-label-container {text-align: center;}#sk-container-id-3 div.sk-container {/* jupyter's `normalize.less` sets `[hidden] { display: none; }` but bootstrap.min.css set `[hidden] { display: none !important; }` so we also need the `!important` here to be able to override the default hidden behavior on the sphinx rendered scikit-learn.org. See: https://github.com/scikit-learn/scikit-learn/issues/21755 */display: inline-block !important;position: relative;}#sk-container-id-3 div.sk-text-repr-fallback {display: none;}</style><div id=\"sk-container-id-3\" class=\"sk-top-container\"><div class=\"sk-text-repr-fallback\"><pre>GridSearchCV(cv=5, estimator=AdaBoostClassifier(random_state=1), n_jobs=-1,\n",
       "             param_grid={&#x27;learning_rate&#x27;: array([0.01, 0.02, 0.03, 0.04, 0.05, 0.06, 0.07, 0.08, 0.09, 0.1 , 0.11,\n",
       "       0.12, 0.13, 0.14, 0.15, 0.16, 0.17, 0.18, 0.19, 0.2 , 0.21, 0.22,\n",
       "       0.23, 0.24, 0.25, 0.26, 0.27, 0.28, 0.29, 0.3 , 0.31, 0.32, 0.33,\n",
       "       0.34, 0.35, 0.36, 0.37, 0.38, 0.39, 0.4 , 0.41, 0.42, 0.43, 0.44,\n",
       "       0.45, 0.46, 0.47, 0.48, 0.49, 0.5 , 0.51, 0.52, 0.53, 0.54, 0.55,\n",
       "       0.56, 0.57, 0.58, 0.59, 0.6 , 0.61, 0.62, 0.63, 0.64, 0.65, 0.66,\n",
       "       0.67, 0.68, 0.69, 0.7 , 0.71, 0.72, 0.73, 0.74, 0.75, 0.76, 0.77,\n",
       "       0.78, 0.79, 0.8 , 0.81, 0.82, 0.83, 0.84, 0.85, 0.86, 0.87, 0.88,\n",
       "       0.89, 0.9 , 0.91, 0.92, 0.93, 0.94, 0.95, 0.96, 0.97, 0.98, 0.99]),\n",
       "                         &#x27;n_estimators&#x27;: [10, 30, 50, 100, 200, 300]},\n",
       "             scoring=&#x27;accuracy&#x27;)</pre><b>In a Jupyter environment, please rerun this cell to show the HTML representation or trust the notebook. <br />On GitHub, the HTML representation is unable to render, please try loading this page with nbviewer.org.</b></div><div class=\"sk-container\" hidden><div class=\"sk-item sk-dashed-wrapped\"><div class=\"sk-label-container\"><div class=\"sk-label sk-toggleable\"><input class=\"sk-toggleable__control sk-hidden--visually\" id=\"sk-estimator-id-5\" type=\"checkbox\" ><label for=\"sk-estimator-id-5\" class=\"sk-toggleable__label sk-toggleable__label-arrow\">GridSearchCV</label><div class=\"sk-toggleable__content\"><pre>GridSearchCV(cv=5, estimator=AdaBoostClassifier(random_state=1), n_jobs=-1,\n",
       "             param_grid={&#x27;learning_rate&#x27;: array([0.01, 0.02, 0.03, 0.04, 0.05, 0.06, 0.07, 0.08, 0.09, 0.1 , 0.11,\n",
       "       0.12, 0.13, 0.14, 0.15, 0.16, 0.17, 0.18, 0.19, 0.2 , 0.21, 0.22,\n",
       "       0.23, 0.24, 0.25, 0.26, 0.27, 0.28, 0.29, 0.3 , 0.31, 0.32, 0.33,\n",
       "       0.34, 0.35, 0.36, 0.37, 0.38, 0.39, 0.4 , 0.41, 0.42, 0.43, 0.44,\n",
       "       0.45, 0.46, 0.47, 0.48, 0.49, 0.5 , 0.51, 0.52, 0.53, 0.54, 0.55,\n",
       "       0.56, 0.57, 0.58, 0.59, 0.6 , 0.61, 0.62, 0.63, 0.64, 0.65, 0.66,\n",
       "       0.67, 0.68, 0.69, 0.7 , 0.71, 0.72, 0.73, 0.74, 0.75, 0.76, 0.77,\n",
       "       0.78, 0.79, 0.8 , 0.81, 0.82, 0.83, 0.84, 0.85, 0.86, 0.87, 0.88,\n",
       "       0.89, 0.9 , 0.91, 0.92, 0.93, 0.94, 0.95, 0.96, 0.97, 0.98, 0.99]),\n",
       "                         &#x27;n_estimators&#x27;: [10, 30, 50, 100, 200, 300]},\n",
       "             scoring=&#x27;accuracy&#x27;)</pre></div></div></div><div class=\"sk-parallel\"><div class=\"sk-parallel-item\"><div class=\"sk-item\"><div class=\"sk-label-container\"><div class=\"sk-label sk-toggleable\"><input class=\"sk-toggleable__control sk-hidden--visually\" id=\"sk-estimator-id-6\" type=\"checkbox\" ><label for=\"sk-estimator-id-6\" class=\"sk-toggleable__label sk-toggleable__label-arrow\">estimator: AdaBoostClassifier</label><div class=\"sk-toggleable__content\"><pre>AdaBoostClassifier(random_state=1)</pre></div></div></div><div class=\"sk-serial\"><div class=\"sk-item\"><div class=\"sk-estimator sk-toggleable\"><input class=\"sk-toggleable__control sk-hidden--visually\" id=\"sk-estimator-id-7\" type=\"checkbox\" ><label for=\"sk-estimator-id-7\" class=\"sk-toggleable__label sk-toggleable__label-arrow\">AdaBoostClassifier</label><div class=\"sk-toggleable__content\"><pre>AdaBoostClassifier(random_state=1)</pre></div></div></div></div></div></div></div></div></div></div>"
      ],
      "text/plain": [
       "GridSearchCV(cv=5, estimator=AdaBoostClassifier(random_state=1), n_jobs=-1,\n",
       "             param_grid={'learning_rate': array([0.01, 0.02, 0.03, 0.04, 0.05, 0.06, 0.07, 0.08, 0.09, 0.1 , 0.11,\n",
       "       0.12, 0.13, 0.14, 0.15, 0.16, 0.17, 0.18, 0.19, 0.2 , 0.21, 0.22,\n",
       "       0.23, 0.24, 0.25, 0.26, 0.27, 0.28, 0.29, 0.3 , 0.31, 0.32, 0.33,\n",
       "       0.34, 0.35, 0.36, 0.37, 0.38, 0.39, 0.4 , 0.41, 0.42, 0.43, 0.44,\n",
       "       0.45, 0.46, 0.47, 0.48, 0.49, 0.5 , 0.51, 0.52, 0.53, 0.54, 0.55,\n",
       "       0.56, 0.57, 0.58, 0.59, 0.6 , 0.61, 0.62, 0.63, 0.64, 0.65, 0.66,\n",
       "       0.67, 0.68, 0.69, 0.7 , 0.71, 0.72, 0.73, 0.74, 0.75, 0.76, 0.77,\n",
       "       0.78, 0.79, 0.8 , 0.81, 0.82, 0.83, 0.84, 0.85, 0.86, 0.87, 0.88,\n",
       "       0.89, 0.9 , 0.91, 0.92, 0.93, 0.94, 0.95, 0.96, 0.97, 0.98, 0.99]),\n",
       "                         'n_estimators': [10, 30, 50, 100, 200, 300]},\n",
       "             scoring='accuracy')"
      ]
     },
     "execution_count": 21,
     "metadata": {},
     "output_type": "execute_result"
    }
   ],
   "source": [
    "params = {\n",
    "    'n_estimators': [10, 30, 50, 100, 200, 300],\n",
    "    'learning_rate': np.arange(0.01, 1, 0.01), #The 'learning_rate' parameter of AdaBoostClassifier must be a float in the range (0.0, inf). Got 0.0 instead.\n",
    "}\n",
    "ada_basic = AdaBoostClassifier(random_state=1)\n",
    "grid = GridSearchCV(ada_basic, param_grid=params, n_jobs=-1, cv=5, scoring='accuracy')\n",
    "grid.fit(X_train, y_train)"
   ]
  },
  {
   "cell_type": "code",
   "execution_count": 22,
   "metadata": {},
   "outputs": [
    {
     "data": {
      "text/html": [
       "<style>#sk-container-id-4 {color: black;}#sk-container-id-4 pre{padding: 0;}#sk-container-id-4 div.sk-toggleable {background-color: white;}#sk-container-id-4 label.sk-toggleable__label {cursor: pointer;display: block;width: 100%;margin-bottom: 0;padding: 0.3em;box-sizing: border-box;text-align: center;}#sk-container-id-4 label.sk-toggleable__label-arrow:before {content: \"▸\";float: left;margin-right: 0.25em;color: #696969;}#sk-container-id-4 label.sk-toggleable__label-arrow:hover:before {color: black;}#sk-container-id-4 div.sk-estimator:hover label.sk-toggleable__label-arrow:before {color: black;}#sk-container-id-4 div.sk-toggleable__content {max-height: 0;max-width: 0;overflow: hidden;text-align: left;background-color: #f0f8ff;}#sk-container-id-4 div.sk-toggleable__content pre {margin: 0.2em;color: black;border-radius: 0.25em;background-color: #f0f8ff;}#sk-container-id-4 input.sk-toggleable__control:checked~div.sk-toggleable__content {max-height: 200px;max-width: 100%;overflow: auto;}#sk-container-id-4 input.sk-toggleable__control:checked~label.sk-toggleable__label-arrow:before {content: \"▾\";}#sk-container-id-4 div.sk-estimator input.sk-toggleable__control:checked~label.sk-toggleable__label {background-color: #d4ebff;}#sk-container-id-4 div.sk-label input.sk-toggleable__control:checked~label.sk-toggleable__label {background-color: #d4ebff;}#sk-container-id-4 input.sk-hidden--visually {border: 0;clip: rect(1px 1px 1px 1px);clip: rect(1px, 1px, 1px, 1px);height: 1px;margin: -1px;overflow: hidden;padding: 0;position: absolute;width: 1px;}#sk-container-id-4 div.sk-estimator {font-family: monospace;background-color: #f0f8ff;border: 1px dotted black;border-radius: 0.25em;box-sizing: border-box;margin-bottom: 0.5em;}#sk-container-id-4 div.sk-estimator:hover {background-color: #d4ebff;}#sk-container-id-4 div.sk-parallel-item::after {content: \"\";width: 100%;border-bottom: 1px solid gray;flex-grow: 1;}#sk-container-id-4 div.sk-label:hover label.sk-toggleable__label {background-color: #d4ebff;}#sk-container-id-4 div.sk-serial::before {content: \"\";position: absolute;border-left: 1px solid gray;box-sizing: border-box;top: 0;bottom: 0;left: 50%;z-index: 0;}#sk-container-id-4 div.sk-serial {display: flex;flex-direction: column;align-items: center;background-color: white;padding-right: 0.2em;padding-left: 0.2em;position: relative;}#sk-container-id-4 div.sk-item {position: relative;z-index: 1;}#sk-container-id-4 div.sk-parallel {display: flex;align-items: stretch;justify-content: center;background-color: white;position: relative;}#sk-container-id-4 div.sk-item::before, #sk-container-id-4 div.sk-parallel-item::before {content: \"\";position: absolute;border-left: 1px solid gray;box-sizing: border-box;top: 0;bottom: 0;left: 50%;z-index: -1;}#sk-container-id-4 div.sk-parallel-item {display: flex;flex-direction: column;z-index: 1;position: relative;background-color: white;}#sk-container-id-4 div.sk-parallel-item:first-child::after {align-self: flex-end;width: 50%;}#sk-container-id-4 div.sk-parallel-item:last-child::after {align-self: flex-start;width: 50%;}#sk-container-id-4 div.sk-parallel-item:only-child::after {width: 0;}#sk-container-id-4 div.sk-dashed-wrapped {border: 1px dashed gray;margin: 0 0.4em 0.5em 0.4em;box-sizing: border-box;padding-bottom: 0.4em;background-color: white;}#sk-container-id-4 div.sk-label label {font-family: monospace;font-weight: bold;display: inline-block;line-height: 1.2em;}#sk-container-id-4 div.sk-label-container {text-align: center;}#sk-container-id-4 div.sk-container {/* jupyter's `normalize.less` sets `[hidden] { display: none; }` but bootstrap.min.css set `[hidden] { display: none !important; }` so we also need the `!important` here to be able to override the default hidden behavior on the sphinx rendered scikit-learn.org. See: https://github.com/scikit-learn/scikit-learn/issues/21755 */display: inline-block !important;position: relative;}#sk-container-id-4 div.sk-text-repr-fallback {display: none;}</style><div id=\"sk-container-id-4\" class=\"sk-top-container\"><div class=\"sk-text-repr-fallback\"><pre>AdaBoostClassifier(learning_rate=0.67, n_estimators=10, random_state=1)</pre><b>In a Jupyter environment, please rerun this cell to show the HTML representation or trust the notebook. <br />On GitHub, the HTML representation is unable to render, please try loading this page with nbviewer.org.</b></div><div class=\"sk-container\" hidden><div class=\"sk-item\"><div class=\"sk-estimator sk-toggleable\"><input class=\"sk-toggleable__control sk-hidden--visually\" id=\"sk-estimator-id-8\" type=\"checkbox\" checked><label for=\"sk-estimator-id-8\" class=\"sk-toggleable__label sk-toggleable__label-arrow\">AdaBoostClassifier</label><div class=\"sk-toggleable__content\"><pre>AdaBoostClassifier(learning_rate=0.67, n_estimators=10, random_state=1)</pre></div></div></div></div></div>"
      ],
      "text/plain": [
       "AdaBoostClassifier(learning_rate=0.67, n_estimators=10, random_state=1)"
      ]
     },
     "execution_count": 22,
     "metadata": {},
     "output_type": "execute_result"
    }
   ],
   "source": [
    "grid.best_estimator_"
   ]
  },
  {
   "cell_type": "code",
   "execution_count": 23,
   "metadata": {},
   "outputs": [
    {
     "data": {
      "text/plain": [
       "{'learning_rate': 0.67, 'n_estimators': 10}"
      ]
     },
     "execution_count": 23,
     "metadata": {},
     "output_type": "execute_result"
    }
   ],
   "source": [
    "grid.best_params_"
   ]
  },
  {
   "cell_type": "code",
   "execution_count": 24,
   "metadata": {},
   "outputs": [
    {
     "data": {
      "text/plain": [
       "0.850119039030373"
      ]
     },
     "execution_count": 24,
     "metadata": {},
     "output_type": "execute_result"
    }
   ],
   "source": [
    "grid.best_score_"
   ]
  },
  {
   "cell_type": "code",
   "execution_count": 28,
   "metadata": {},
   "outputs": [
    {
     "data": {
      "text/html": [
       "<div>\n",
       "<style scoped>\n",
       "    .dataframe tbody tr th:only-of-type {\n",
       "        vertical-align: middle;\n",
       "    }\n",
       "\n",
       "    .dataframe tbody tr th {\n",
       "        vertical-align: top;\n",
       "    }\n",
       "\n",
       "    .dataframe thead th {\n",
       "        text-align: right;\n",
       "    }\n",
       "</style>\n",
       "<table border=\"1\" class=\"dataframe\">\n",
       "  <thead>\n",
       "    <tr style=\"text-align: right;\">\n",
       "      <th></th>\n",
       "      <th>mean_fit_time</th>\n",
       "      <th>std_fit_time</th>\n",
       "      <th>mean_score_time</th>\n",
       "      <th>std_score_time</th>\n",
       "      <th>param_learning_rate</th>\n",
       "      <th>param_n_estimators</th>\n",
       "      <th>params</th>\n",
       "      <th>split0_test_score</th>\n",
       "      <th>split1_test_score</th>\n",
       "      <th>split2_test_score</th>\n",
       "      <th>split3_test_score</th>\n",
       "      <th>split4_test_score</th>\n",
       "      <th>mean_test_score</th>\n",
       "      <th>std_test_score</th>\n",
       "      <th>rank_test_score</th>\n",
       "    </tr>\n",
       "  </thead>\n",
       "  <tbody>\n",
       "    <tr>\n",
       "      <th>396</th>\n",
       "      <td>0.013809</td>\n",
       "      <td>0.003435</td>\n",
       "      <td>0.003262</td>\n",
       "      <td>0.002726</td>\n",
       "      <td>0.67</td>\n",
       "      <td>10</td>\n",
       "      <td>{'learning_rate': 0.67, 'n_estimators': 10}</td>\n",
       "      <td>0.826347</td>\n",
       "      <td>0.838323</td>\n",
       "      <td>0.886228</td>\n",
       "      <td>0.850299</td>\n",
       "      <td>0.849398</td>\n",
       "      <td>0.850119</td>\n",
       "      <td>0.020043</td>\n",
       "      <td>1</td>\n",
       "    </tr>\n",
       "    <tr>\n",
       "      <th>402</th>\n",
       "      <td>0.021368</td>\n",
       "      <td>0.004159</td>\n",
       "      <td>0.002132</td>\n",
       "      <td>0.000504</td>\n",
       "      <td>0.68</td>\n",
       "      <td>10</td>\n",
       "      <td>{'learning_rate': 0.68, 'n_estimators': 10}</td>\n",
       "      <td>0.826347</td>\n",
       "      <td>0.838323</td>\n",
       "      <td>0.886228</td>\n",
       "      <td>0.850299</td>\n",
       "      <td>0.849398</td>\n",
       "      <td>0.850119</td>\n",
       "      <td>0.020043</td>\n",
       "      <td>1</td>\n",
       "    </tr>\n",
       "    <tr>\n",
       "      <th>408</th>\n",
       "      <td>0.017185</td>\n",
       "      <td>0.004682</td>\n",
       "      <td>0.002960</td>\n",
       "      <td>0.001935</td>\n",
       "      <td>0.69</td>\n",
       "      <td>10</td>\n",
       "      <td>{'learning_rate': 0.6900000000000001, 'n_estim...</td>\n",
       "      <td>0.826347</td>\n",
       "      <td>0.838323</td>\n",
       "      <td>0.886228</td>\n",
       "      <td>0.850299</td>\n",
       "      <td>0.849398</td>\n",
       "      <td>0.850119</td>\n",
       "      <td>0.020043</td>\n",
       "      <td>1</td>\n",
       "    </tr>\n",
       "    <tr>\n",
       "      <th>414</th>\n",
       "      <td>0.014480</td>\n",
       "      <td>0.004085</td>\n",
       "      <td>0.003612</td>\n",
       "      <td>0.003659</td>\n",
       "      <td>0.7</td>\n",
       "      <td>10</td>\n",
       "      <td>{'learning_rate': 0.7000000000000001, 'n_estim...</td>\n",
       "      <td>0.826347</td>\n",
       "      <td>0.838323</td>\n",
       "      <td>0.886228</td>\n",
       "      <td>0.850299</td>\n",
       "      <td>0.849398</td>\n",
       "      <td>0.850119</td>\n",
       "      <td>0.020043</td>\n",
       "      <td>1</td>\n",
       "    </tr>\n",
       "    <tr>\n",
       "      <th>420</th>\n",
       "      <td>0.016559</td>\n",
       "      <td>0.005484</td>\n",
       "      <td>0.002361</td>\n",
       "      <td>0.001163</td>\n",
       "      <td>0.71</td>\n",
       "      <td>10</td>\n",
       "      <td>{'learning_rate': 0.7100000000000001, 'n_estim...</td>\n",
       "      <td>0.826347</td>\n",
       "      <td>0.838323</td>\n",
       "      <td>0.886228</td>\n",
       "      <td>0.850299</td>\n",
       "      <td>0.849398</td>\n",
       "      <td>0.850119</td>\n",
       "      <td>0.020043</td>\n",
       "      <td>1</td>\n",
       "    </tr>\n",
       "  </tbody>\n",
       "</table>\n",
       "</div>"
      ],
      "text/plain": [
       "     mean_fit_time  std_fit_time  mean_score_time  std_score_time  \\\n",
       "396       0.013809      0.003435         0.003262        0.002726   \n",
       "402       0.021368      0.004159         0.002132        0.000504   \n",
       "408       0.017185      0.004682         0.002960        0.001935   \n",
       "414       0.014480      0.004085         0.003612        0.003659   \n",
       "420       0.016559      0.005484         0.002361        0.001163   \n",
       "\n",
       "    param_learning_rate param_n_estimators  \\\n",
       "396                0.67                 10   \n",
       "402                0.68                 10   \n",
       "408                0.69                 10   \n",
       "414                 0.7                 10   \n",
       "420                0.71                 10   \n",
       "\n",
       "                                                params  split0_test_score  \\\n",
       "396        {'learning_rate': 0.67, 'n_estimators': 10}           0.826347   \n",
       "402        {'learning_rate': 0.68, 'n_estimators': 10}           0.826347   \n",
       "408  {'learning_rate': 0.6900000000000001, 'n_estim...           0.826347   \n",
       "414  {'learning_rate': 0.7000000000000001, 'n_estim...           0.826347   \n",
       "420  {'learning_rate': 0.7100000000000001, 'n_estim...           0.826347   \n",
       "\n",
       "     split1_test_score  split2_test_score  split3_test_score  \\\n",
       "396           0.838323           0.886228           0.850299   \n",
       "402           0.838323           0.886228           0.850299   \n",
       "408           0.838323           0.886228           0.850299   \n",
       "414           0.838323           0.886228           0.850299   \n",
       "420           0.838323           0.886228           0.850299   \n",
       "\n",
       "     split4_test_score  mean_test_score  std_test_score  rank_test_score  \n",
       "396           0.849398         0.850119        0.020043                1  \n",
       "402           0.849398         0.850119        0.020043                1  \n",
       "408           0.849398         0.850119        0.020043                1  \n",
       "414           0.849398         0.850119        0.020043                1  \n",
       "420           0.849398         0.850119        0.020043                1  "
      ]
     },
     "execution_count": 28,
     "metadata": {},
     "output_type": "execute_result"
    }
   ],
   "source": [
    "pd.DataFrame(grid.cv_results_).sort_values('rank_test_score').head()  # cross validation 한 결과"
   ]
  },
  {
   "cell_type": "code",
   "execution_count": 29,
   "metadata": {},
   "outputs": [
    {
     "name": "stdout",
     "output_type": "stream",
     "text": [
      "train_score = 0.8537170263788969\n",
      "test_score = 0.8803827751196173\n"
     ]
    }
   ],
   "source": [
    "best_ada = grid.best_estimator_\n",
    "# evaluate the best model\n",
    "print(f'train_score = {best_ada.score(X_train, y_train)}')\n",
    "print(f'test_score = {best_ada.score(X_test, y_test)}')"
   ]
  },
  {
   "cell_type": "code",
   "execution_count": 35,
   "metadata": {},
   "outputs": [
    {
     "name": "stdout",
     "output_type": "stream",
     "text": [
      "[0.1 0.2 0.1 0.2 0.  0.1 0.3]\n",
      "Index(['Age', 'SibSp', 'Parch', 'Fare', 'Pclass_2', 'Pclass_3', 'Sex_1'], dtype='object')\n"
     ]
    },
    {
     "data": {
      "text/plain": [
       "Sex_1       0.3\n",
       "SibSp       0.2\n",
       "Fare        0.2\n",
       "Age         0.1\n",
       "Parch       0.1\n",
       "Pclass_3    0.1\n",
       "Pclass_2    0.0\n",
       "dtype: float64"
      ]
     },
     "execution_count": 35,
     "metadata": {},
     "output_type": "execute_result"
    }
   ],
   "source": [
    "# feature importance\n",
    "print(best_ada.feature_importances_)\n",
    "print(X.columns)\n",
    "\n",
    "f_importance = pd.Series(best_ada.feature_importances_, index=X.columns).sort_values(ascending=False)\n",
    "f_importance"
   ]
  },
  {
   "cell_type": "code",
   "execution_count": 36,
   "metadata": {},
   "outputs": [
    {
     "data": {
      "text/plain": [
       "<Axes: >"
      ]
     },
     "execution_count": 36,
     "metadata": {},
     "output_type": "execute_result"
    },
    {
     "data": {
      "image/png": "[encoded data removed]",
      "text/plain": [
       "<Figure size 200x200 with 1 Axes>"
      ]
     },
     "metadata": {},
     "output_type": "display_data"
    }
   ],
   "source": [
    "plt.figure(figsize=(2,2))\n",
    "sns.barplot(x=f_importance.values, y=f_importance.index)"
   ]
  },
  {
   "cell_type": "markdown",
   "metadata": {},
   "source": [
    "# ※ GradientBoost"
   ]
  },
  {
   "cell_type": "raw",
   "metadata": {},
   "source": [
    "# 동작원리\n",
    "\n",
    "from sklearn.tree import DecisionTreeRegressor\n",
    "\n",
    "tree_reg1 = DecisionTreeRegressor(max_depth=2)\n",
    "tree_reg1.fit(X, y)\n",
    "\n",
    "y2 = y - tree_reg1.predict(X)\n",
    "\n",
    "tree_reg2 = DecisionTreeRegressor(max_depth=2)\n",
    "tree_reg2.fit(X, y2)\n",
    "\n",
    "y3 = y2 - tree_reg2.predict(X)\n",
    "\n",
    "tree_reg3 = DecisionTreeRegressor(max_depth=2)\n",
    "tree_reg3.fit(X, y3)\n",
    "\n",
    "# 이렇게 세 개의 트리를 포함하는 앙상블을 구성\n",
    "# 앙상블 모델의 예측: 모든 트리의 예측을 더함\n",
    "y_pred = sum(tree.predict(X_new) for tree in (tree_reg1, tree_reg2, tree_reg3))\n"
   ]
  },
  {
   "cell_type": "code",
   "execution_count": null,
   "metadata": {},
   "outputs": [],
   "source": []
  },
  {
   "cell_type": "code",
   "execution_count": null,
   "metadata": {},
   "outputs": [],
   "source": []
  },
  {
   "cell_type": "markdown",
   "metadata": {},
   "source": [
    "# 1) 그래디언트 부스팅 with 타이타닉 Df"
   ]
  },
  {
   "cell_type": "code",
   "execution_count": null,
   "metadata": {},
   "outputs": [],
   "source": []
  },
  {
   "cell_type": "code",
   "execution_count": null,
   "metadata": {},
   "outputs": [],
   "source": []
  },
  {
   "cell_type": "markdown",
   "metadata": {},
   "source": [
    "#### 하이퍼 파라미터\n",
    "- 디폴트(default) 설정\n",
    "\n",
    "```python\n",
    "GradientBoostingClassifier(\n",
    "    loss='deviance',\n",
    "    learning_rate=0.1,\n",
    "    n_estimators=100,\n",
    "    subsample=1.0,\n",
    "    criterion='friedman_mse',\n",
    "    min_samples_split=2,\n",
    "    min_samples_leaf=1,\n",
    "    min_weight_fraction_leaf=0.0,\n",
    "    max_depth=3,\n",
    "    min_impurity_decrease=0.0,\n",
    "    min_impurity_split=None,\n",
    "    init=None,\n",
    "    random_state=None,\n",
    "    max_features=None,\n",
    "    verbose=0,\n",
    "    max_leaf_nodes=None,\n",
    "    warm_start=False,\n",
    "    presort='auto',\n",
    "    validation_fraction=0.1,\n",
    "    n_iter_no_change=None,\n",
    "    tol=0.0001,\n",
    ")\n",
    "```\n",
    "- loss: 손실 함수(loss function), 디폴트는 'deviance'\n",
    "- base_estimator: 예측할 모델, 디폴트는 DecisionTreeClassifier(max_depth=1)\n",
    "- n_estimators: 모형(week learner)의 갯수, 순차적으로 오류를 보정해서 수가 많으면 성능이 일정 수준까지 높아 질 수 있으나 수행 시간이 오래 걸린다는 단점이 있음. 디폴트는 100\n",
    "- learning_rate: 학습률, 0~1 사이의 값을 지정. 너무 작은 값인 경우 최소점을 찾아 예측 성능이 높지만 학습에 오래 걸리고 너무 큰 값인 경우 최소점을 찾지 못해 예측 성능이 떨어질 확률이 높음. 그래서 n_estimators와 상호 호환 필요. 디폴트는 0.1\n",
    "- min_samples_leaf: 말단 리프 노드의 최소한의 샘플 데이터 수, 디폴트 1\n",
    "- max_depth: 트리의 최대 깊이, 디폴트 3\n",
    "- subsample: n_estimator 모형(week learner)이 학습에 사용하는 데이터의 샘플링 비율, 디폴트 1.0"
   ]
  },
  {
   "cell_type": "markdown",
   "metadata": {},
   "source": [
    "#### GradientBoost - GridSearchCV 를 활용한 최적의 파라미터 찾기"
   ]
  },
  {
   "cell_type": "code",
   "execution_count": null,
   "metadata": {},
   "outputs": [],
   "source": []
  },
  {
   "cell_type": "code",
   "execution_count": null,
   "metadata": {},
   "outputs": [],
   "source": []
  },
  {
   "cell_type": "code",
   "execution_count": null,
   "metadata": {},
   "outputs": [],
   "source": []
  },
  {
   "cell_type": "markdown",
   "metadata": {},
   "source": [
    "-------------------------------------------------------------------------------------------------"
   ]
  },
  {
   "cell_type": "code",
   "execution_count": null,
   "metadata": {},
   "outputs": [],
   "source": []
  },
  {
   "cell_type": "markdown",
   "metadata": {},
   "source": [
    "# 2) 그래디언트 부스팅 with 사용자 행동 인식 데이터 세트"
   ]
  },
  {
   "cell_type": "code",
   "execution_count": null,
   "metadata": {},
   "outputs": [],
   "source": []
  },
  {
   "cell_type": "markdown",
   "metadata": {},
   "source": [
    "-----------------------------------------------------------------------------------"
   ]
  },
  {
   "cell_type": "markdown",
   "metadata": {},
   "source": [
    "## 실습] 와인데이터셋 - 그래디언트 부스팅 분류 -> 점수->튜닝-> 점수-> 피처 시각화"
   ]
  },
  {
   "cell_type": "code",
   "execution_count": null,
   "metadata": {},
   "outputs": [],
   "source": []
  },
  {
   "cell_type": "code",
   "execution_count": null,
   "metadata": {},
   "outputs": [],
   "source": []
  },
  {
   "cell_type": "code",
   "execution_count": null,
   "metadata": {},
   "outputs": [],
   "source": []
  },
  {
   "cell_type": "code",
   "execution_count": null,
   "metadata": {},
   "outputs": [],
   "source": []
  },
  {
   "cell_type": "markdown",
   "metadata": {},
   "source": [
    "# [실습] 대출 상환 데이터를 이용하여 결정 트리, 랜덤 포레스트, 에이다부스트, 그래디언트 부스트 모델을 차례로 구축하고 성능을 평가하라"
   ]
  },
  {
   "cell_type": "code",
   "execution_count": null,
   "metadata": {},
   "outputs": [],
   "source": []
  }
 ],
 "metadata": {
  "kernelspec": {
   "display_name": "Python 3 (ipykernel)",
   "language": "python",
   "name": "python3"
  },
  "language_info": {
   "codemirror_mode": {
    "name": "ipython",
    "version": 3
   },
   "file_extension": ".py",
   "mimetype": "text/x-python",
   "name": "python",
   "nbconvert_exporter": "python",
   "pygments_lexer": "ipython3",
   "version": "3.11.5"
  }
 },
 "nbformat": 4,
 "nbformat_minor": 2
}
