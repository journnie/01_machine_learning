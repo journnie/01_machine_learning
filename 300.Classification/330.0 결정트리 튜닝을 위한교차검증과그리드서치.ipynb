{
 "cells": [
  {
   "cell_type": "markdown",
   "id": "47a063b1",
   "metadata": {},
   "source": [
    "# 결정트리 튜닝을 위한 교차 검증과 그리드 서치"
   ]
  },
  {
   "cell_type": "code",
   "execution_count": null,
   "id": "a54bb092",
   "metadata": {},
   "outputs": [],
   "source": [
    "import pandas as pd\n",
    "wine = pd.read_csv('./wine.csv')\n",
    "\n",
    "# 클래스 열을 타겟으로 사용하고 나머지 열은 특성 배열에 저장\n",
    "\n",
    "data = wine[['alcohol', 'sugar', 'pH']].to_numpy()\n",
    "target = wine['class'].to_numpy()\n",
    "\n",
    "from sklearn.model_selection import train_test_split\n",
    "X_train, X_test, y_train, y_test = train_test_split(data, target, test_size=0.2, random_state=42)\n",
    "\n",
    "X_sub_train, X_val, y_sub_train, y_val = train_test_split(X_train, y_train, test_size=.2, random_state=42)\n",
    "\n",
    "print(X_sub_train.shape, X_val.shape)"
   ]
  },
  {
   "cell_type": "code",
   "execution_count": null,
   "id": "de2ba98c",
   "metadata": {},
   "outputs": [],
   "source": [
    "# 결정트리 모델 \n"
   ]
  },
  {
   "cell_type": "code",
   "execution_count": null,
   "id": "b5a96551",
   "metadata": {},
   "outputs": [],
   "source": [
    "from sklearn.tree import DecisionTreeClassifier\n",
    "dt =DecisionTreeClassifier(random_state=42)\n",
    "dt.fit(X_sub_train, y_sub_train)\n",
    "print(dt.score(X_sub_train, y_sub_train))\n",
    "print(dt.score(X_val, y_val))"
   ]
  },
  {
   "cell_type": "raw",
   "id": "543d3e09",
   "metadata": {},
   "source": [
    "상기 모델은 과대적합"
   ]
  },
  {
   "cell_type": "markdown",
   "id": "45452e3b",
   "metadata": {},
   "source": [
    "## 교차 검증"
   ]
  },
  {
   "cell_type": "code",
   "execution_count": null,
   "id": "fb4c62bb",
   "metadata": {},
   "outputs": [],
   "source": [
    "# 교차 검증"
   ]
  },
  {
   "cell_type": "code",
   "execution_count": null,
   "id": "4d32d0e5",
   "metadata": {},
   "outputs": [],
   "source": []
  },
  {
   "cell_type": "code",
   "execution_count": null,
   "id": "fbe9370c",
   "metadata": {},
   "outputs": [],
   "source": []
  },
  {
   "cell_type": "code",
   "execution_count": null,
   "id": "23ad6c8d",
   "metadata": {},
   "outputs": [],
   "source": [
    "# 분류기를 지정한 교차 검증"
   ]
  },
  {
   "cell_type": "code",
   "execution_count": null,
   "id": "bc5b27b2",
   "metadata": {},
   "outputs": [],
   "source": []
  },
  {
   "cell_type": "code",
   "execution_count": null,
   "id": "8ed8fb86",
   "metadata": {},
   "outputs": [],
   "source": [
    "# 훈련 세트를 섞은 후 10폴드 교차 검증을 수행하려면\n"
   ]
  },
  {
   "cell_type": "code",
   "execution_count": null,
   "id": "90160fd5",
   "metadata": {},
   "outputs": [],
   "source": []
  },
  {
   "cell_type": "markdown",
   "id": "74f4b4e2",
   "metadata": {},
   "source": [
    "##  결정 트리 하이퍼 파라미터 튜닝을 위한 교차검증과 그리드 서치 하이퍼 파라미터 튜닝"
   ]
  },
  {
   "cell_type": "raw",
   "id": "4e371639",
   "metadata": {},
   "source": [
    "모델 파라미터:머신러닝 모델이 학습하는 파라미터\n",
    "하이퍼파라미터: 모델이 학습할수 없어서 사용자가 지정해야만 하는 파라미터\n",
    "\n",
    "하이퍼파라미터 튜닝\n",
    "1. 기본값을 그대로 모델에 사용\n",
    "2. 검증세트의 점수나 교차 검증을 통해서 매개변수를 조금씩바꾸어봄.(1 ~6개)\n",
    "3 AutoML : 사람의 개입 없이 하이퍼라파미터 튜닝을 자동으로 수행하는 기술\n",
    "\n",
    "고려 사항:\n",
    "1. 결정트리 모델에서 max_depth값을 찾은 경우, 그다음 max_max_depth값을 최적의 값으로 고정하고 min_samples_split을 바꾸어가며 최적을 값을 찾는 것이 아니라, 두 매개변수를 동시에 바꿔가며 최적을 찾는 것\n",
    "2. 매개변수가 많아지면 문제는 더 복잡해진다.\n",
    "3. 파이썬의 for반복문으로 찾을 수도 있지만 GridSerachCV 사용\n",
    "\n",
    "GriSearchCV 클래스 \n",
    "1. 하이퍼파라미터 탐색과 교차 검증을 한 번에 수행함(별도로 cross_validate()을 호출할 필요가 없음)"
   ]
  },
  {
   "cell_type": "markdown",
   "id": "68916f0b",
   "metadata": {},
   "source": [
    "#### 기본 매개 변수를 사용한 결정 트리 모델에서 min_impurity_decrease매개변수의 최적값 찾기"
   ]
  },
  {
   "cell_type": "code",
   "execution_count": null,
   "id": "8317a061",
   "metadata": {},
   "outputs": [],
   "source": [
    "from sklearn.model_selection import GridSearchCV\n",
    "params={'min_impurity_decrease':[0.0001, 0.0002,0.0003,0.0004,0.0005]}\n",
    "\n",
    "gs = GridSearchCV(DecisionTreeClassifier(random_state=42), params, n_jobs=-1)\n",
    "# 결정트리 클래스의 객체를 생성하자마자 바로 전달\n",
    "# cv 기본값 5\n",
    "# min_impurity_decrese값마다 5번의 교차검증 25개의 모델을 훈련\n",
    "# n_jobs= 병렬 실행에 사용할 CPU 코어 수(기본값 1, 모든 코어 사용: -1)\n",
    "\n",
    "gs.fit(X_train, y_train)"
   ]
  },
  {
   "cell_type": "code",
   "execution_count": null,
   "id": "d483e007",
   "metadata": {},
   "outputs": [],
   "source": []
  },
  {
   "cell_type": "code",
   "execution_count": null,
   "id": "06a0cdf6",
   "metadata": {},
   "outputs": [],
   "source": [
    "# best_params_"
   ]
  },
  {
   "cell_type": "code",
   "execution_count": null,
   "id": "deee2bd6",
   "metadata": {},
   "outputs": [],
   "source": []
  },
  {
   "cell_type": "code",
   "execution_count": null,
   "id": "44c51535",
   "metadata": {},
   "outputs": [],
   "source": [
    "#각 매개변수에서 사용한 교차 검증의 평균 점수"
   ]
  },
  {
   "cell_type": "code",
   "execution_count": null,
   "id": "b3670540",
   "metadata": {},
   "outputs": [],
   "source": []
  },
  {
   "cell_type": "code",
   "execution_count": null,
   "id": "9fdfd6b4",
   "metadata": {},
   "outputs": [],
   "source": [
    "#np.argmax() - 가장 큰 값의 인덱스 추출\n",
    "# 위에서 구한 인덱스를 사용해 params 키에 저장된 매개변수 출력"
   ]
  },
  {
   "cell_type": "code",
   "execution_count": null,
   "id": "fdf9a2cd",
   "metadata": {},
   "outputs": [],
   "source": []
  },
  {
   "cell_type": "code",
   "execution_count": null,
   "id": "184fc524",
   "metadata": {},
   "outputs": [],
   "source": []
  },
  {
   "cell_type": "code",
   "execution_count": null,
   "id": "a5c0f9a5",
   "metadata": {},
   "outputs": [],
   "source": []
  },
  {
   "cell_type": "markdown",
   "id": "acfb3e43",
   "metadata": {},
   "source": [
    "* 복잡한 매개변수 조합의 GridSearchCV"
   ]
  },
  {
   "cell_type": "markdown",
   "id": "6f51ad63",
   "metadata": {},
   "source": [
    "#### 결정 트리: 불순도 감소 최소량(min_impurity_decrease), 트리깊이(max_depth), 노드를 나누기 위한최소샘플(min_samples_split) 찾기"
   ]
  },
  {
   "cell_type": "code",
   "execution_count": null,
   "id": "fa9214db",
   "metadata": {},
   "outputs": [],
   "source": [
    "params = {\"min_impurity_decrease\": np.arange(0.0001, 0.001, 0.0001),\n",
    "         'max_depth': range(5, 20, 1), \n",
    "         'min_samples_split': range(2, 100, 10)}\n",
    "# 9 * 15 * 10 = 1350개의 경우의 수 * 5폴드 => 6750개의 모델 수\n"
   ]
  },
  {
   "cell_type": "code",
   "execution_count": null,
   "id": "9387afea",
   "metadata": {},
   "outputs": [],
   "source": []
  },
  {
   "cell_type": "code",
   "execution_count": null,
   "id": "ba20c251",
   "metadata": {},
   "outputs": [],
   "source": []
  },
  {
   "cell_type": "markdown",
   "id": "4792b411",
   "metadata": {},
   "source": [
    "##  랜덤 서치"
   ]
  },
  {
   "cell_type": "raw",
   "id": "d9f9254d",
   "metadata": {},
   "source": [
    "매개변수의 값이 수치일 때 값의 범위나 간격을 미리 정하기 어려울 때, \n",
    "또는 너무 많은 매개 변수 조건이 있어서 그리드서치 수행시간이 오래 걸리는 경우\n",
    "\n",
    "랜덤 서치: 매개변수를 샘플링할 수 있는 확률분포객체를 전달하여 최적의 매개변수를 찾는 방법"
   ]
  },
  {
   "cell_type": "code",
   "execution_count": null,
   "id": "bf468a5a",
   "metadata": {},
   "outputs": [],
   "source": []
  },
  {
   "cell_type": "markdown",
   "id": "0e7a6cd8",
   "metadata": {},
   "source": [
    "# [실습]  GridSearchCV 실습 - 사용자 행동 인식 데이터세트 결정트리"
   ]
  },
  {
   "cell_type": "markdown",
   "id": "1d83ac14",
   "metadata": {},
   "source": [
    "* 사용자 행동 인식(Human Activity Recognition) 데이터로 동작 예측"
   ]
  },
  {
   "cell_type": "markdown",
   "id": "51313936",
   "metadata": {},
   "source": [
    "https://archive.ics.uci.edu/ml/datasets/Human+Activity+Recognition+Using+Smartphones"
   ]
  },
  {
   "cell_type": "code",
   "execution_count": null,
   "id": "ac635a1b",
   "metadata": {},
   "outputs": [],
   "source": [
    "# 출처: UCI Machine Learning Repository\n",
    "# 30명의 사람에게 스마트폰 센서를 장착한 뒤 사람의 동작과 관련된 여러가지 피처를 수집\n",
    "# 수집된 피처세트를 기반으로 결정트리를 이용해 어떠한 동작인지 예측\n",
    "# walking, walking_upstairs, walking_downstairs, stting, standing, laying"
   ]
  },
  {
   "cell_type": "code",
   "execution_count": null,
   "id": "aaf0d46a",
   "metadata": {},
   "outputs": [],
   "source": [
    "import pandas as pd\n",
    "import matplotlib.pyplot as plt\n",
    "%matplotlib inline\n",
    "\n",
    "# features.txt 파일에는 피처 이름 index와 피처명이 공백으로 분리되어 있음. 이를 DataFrame으로 로드.\n",
    "feature_name_df = pd.read_csv('./human_activity/features.txt',sep='\\s+',\n",
    "                        header=None,names=['column_index','column_name'])\n",
    "\n",
    "# 피처명 index를 제거하고, 피처명만 리스트 객체로 생성한 뒤 샘플로 10개만 추출\n",
    "feature_name = feature_name_df.iloc[:, 1].values.tolist()\n",
    "print('전체 피처명에서 10개만 추출:', feature_name[:10])\n"
   ]
  },
  {
   "cell_type": "raw",
   "id": "40f653bb",
   "metadata": {},
   "source": [
    "피처: 561개\n",
    "인체의 움직임과 관련된 속성의 평균/표준편차가 X, Y, Z축 값으로 들어 있음\n",
    "단, 중복된 피처명을 가지고 있기 때문에 원본 피처명에 _1, _2를 추가로 부여"
   ]
  },
  {
   "cell_type": "code",
   "execution_count": null,
   "id": "3418f999",
   "metadata": {},
   "outputs": [],
   "source": [
    "#중복된 피처명 확인"
   ]
  },
  {
   "cell_type": "code",
   "execution_count": null,
   "id": "d8cbf04a",
   "metadata": {},
   "outputs": [],
   "source": []
  },
  {
   "cell_type": "code",
   "execution_count": null,
   "id": "ed89f697",
   "metadata": {},
   "outputs": [],
   "source": []
  },
  {
   "cell_type": "code",
   "execution_count": null,
   "id": "9922ab2c",
   "metadata": {},
   "outputs": [],
   "source": []
  },
  {
   "cell_type": "raw",
   "id": "7ca0637f",
   "metadata": {},
   "source": [
    "총 42개의 피처명이 중복, 중복된 피처명에 대해 새로운 피처명 부여하면서 데이터프레임 생성하는 함수\n",
    "get_new_feature)bame_df()"
   ]
  },
  {
   "cell_type": "code",
   "execution_count": null,
   "id": "e7201961",
   "metadata": {},
   "outputs": [],
   "source": [
    "def get_new_feature_name_df(old_feature_name_df):\n",
    "    feature_dup_df = pd.DataFrame(data=old_feature_name_df.groupby('column_name').cumcount(),\n",
    "                                  columns=['dup_cnt'])\n",
    "    feature_dup_df = feature_dup_df.reset_index()\n",
    "    new_feature_name_df = pd.merge(old_feature_name_df.reset_index(), feature_dup_df, how='outer')\n",
    "    new_feature_name_df['column_name'] = new_feature_name_df[['column_name', 'dup_cnt']].apply(lambda x : x[0]+'_'+str(x[1]) \n",
    "                                                                                         if x[1] >0 else x[0] ,  axis=1)\n",
    "    new_feature_name_df = new_feature_name_df.drop(['index'], axis=1)\n",
    "    return new_feature_name_df"
   ]
  },
  {
   "cell_type": "code",
   "execution_count": null,
   "id": "f58d8063",
   "metadata": {},
   "outputs": [],
   "source": [
    "# train feature dataset, label data set, test용 feature dataset , label data set"
   ]
  },
  {
   "cell_type": "code",
   "execution_count": null,
   "id": "1acf87b6",
   "metadata": {},
   "outputs": [],
   "source": []
  },
  {
   "cell_type": "markdown",
   "id": "fda5cccb",
   "metadata": {},
   "source": [
    "* 결정트리를 사용해 동작 예측 분류 수행"
   ]
  },
  {
   "cell_type": "markdown",
   "id": "e07d050a",
   "metadata": {},
   "source": [
    "* 모든 매개 변수를 기본(디폴트) 값으로 설정한 후 결정트리 수행"
   ]
  },
  {
   "cell_type": "code",
   "execution_count": null,
   "id": "ad183086",
   "metadata": {},
   "outputs": [],
   "source": []
  },
  {
   "cell_type": "code",
   "execution_count": null,
   "id": "da89e4e5",
   "metadata": {},
   "outputs": [],
   "source": []
  },
  {
   "cell_type": "markdown",
   "id": "4334d6a8",
   "metadata": {},
   "source": [
    "* GridSearchCV를 이용해 max_depth값을 변화시키면서 예측 성능 확인 (2분 ~)"
   ]
  },
  {
   "cell_type": "code",
   "execution_count": null,
   "id": "5046980a",
   "metadata": {},
   "outputs": [],
   "source": []
  },
  {
   "cell_type": "code",
   "execution_count": null,
   "id": "2a735353",
   "metadata": {},
   "outputs": [],
   "source": []
  },
  {
   "cell_type": "code",
   "execution_count": null,
   "id": "a0370125",
   "metadata": {},
   "outputs": [],
   "source": []
  },
  {
   "cell_type": "code",
   "execution_count": null,
   "id": "a3f9b150",
   "metadata": {},
   "outputs": [],
   "source": [
    "# 깊어진 트리는 검증 데이터 세트에서는 과적합, 성능 저하"
   ]
  },
  {
   "cell_type": "code",
   "execution_count": null,
   "id": "389e9e3d",
   "metadata": {},
   "outputs": [],
   "source": [
    "# 테스트 데이터세트에서 max_depth의 변화에 따른 값 확인"
   ]
  },
  {
   "cell_type": "code",
   "execution_count": null,
   "id": "415c70d7",
   "metadata": {},
   "outputs": [],
   "source": []
  },
  {
   "cell_type": "code",
   "execution_count": null,
   "id": "24ce012e",
   "metadata": {},
   "outputs": [],
   "source": [
    "# max_depth, min_samples_split 매개변수를 변경하면서 GridSearchCV수행"
   ]
  },
  {
   "cell_type": "code",
   "execution_count": null,
   "id": "957766e4",
   "metadata": {},
   "outputs": [],
   "source": []
  },
  {
   "cell_type": "code",
   "execution_count": null,
   "id": "c3451aae",
   "metadata": {},
   "outputs": [],
   "source": [
    "# 테스트 데이터세트에 최적 하이퍼파라미터 작용 "
   ]
  },
  {
   "cell_type": "code",
   "execution_count": null,
   "id": "dca0c1dd",
   "metadata": {},
   "outputs": [],
   "source": []
  },
  {
   "cell_type": "code",
   "execution_count": null,
   "id": "0a71c8a7",
   "metadata": {},
   "outputs": [],
   "source": [
    "# 각 피처별 중요도 표현"
   ]
  },
  {
   "cell_type": "code",
   "execution_count": null,
   "id": "bb6be084",
   "metadata": {},
   "outputs": [],
   "source": []
  },
  {
   "cell_type": "code",
   "execution_count": null,
   "id": "30edf31f",
   "metadata": {},
   "outputs": [],
   "source": []
  }
 ],
 "metadata": {
  "kernelspec": {
   "display_name": "Python 3 (ipykernel)",
   "language": "python",
   "name": "python3"
  },
  "language_info": {
   "codemirror_mode": {
    "name": "ipython",
    "version": 3
   },
   "file_extension": ".py",
   "mimetype": "text/x-python",
   "name": "python",
   "nbconvert_exporter": "python",
   "pygments_lexer": "ipython3",
   "version": "3.9.12"
  }
 },
 "nbformat": 4,
 "nbformat_minor": 5
}
