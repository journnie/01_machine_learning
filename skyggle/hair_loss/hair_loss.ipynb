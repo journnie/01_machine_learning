{
 "cells": [
  {
   "cell_type": "code",
   "execution_count": 1,
   "metadata": {},
   "outputs": [],
   "source": [
    "import pandas as pd\n",
    "import numpy as np\n",
    "import matplotlib.pyplot as plt"
   ]
  },
  {
   "cell_type": "code",
   "execution_count": 54,
   "metadata": {},
   "outputs": [],
   "source": [
    "import warnings\n",
    "warnings.filterwarnings(action='ignore')"
   ]
  },
  {
   "cell_type": "code",
   "execution_count": 2,
   "metadata": {},
   "outputs": [
    {
     "data": {
      "text/plain": [
       "'/Users/journnie/Desktop/asia/aepython/machine_learning/skyggle/hair_loss'"
      ]
     },
     "execution_count": 2,
     "metadata": {},
     "output_type": "execute_result"
    }
   ],
   "source": [
    "import os\n",
    "os.getcwd()"
   ]
  },
  {
   "cell_type": "code",
   "execution_count": 28,
   "metadata": {},
   "outputs": [
    {
     "data": {
      "text/html": [
       "<div>\n",
       "<style scoped>\n",
       "    .dataframe tbody tr th:only-of-type {\n",
       "        vertical-align: middle;\n",
       "    }\n",
       "\n",
       "    .dataframe tbody tr th {\n",
       "        vertical-align: top;\n",
       "    }\n",
       "\n",
       "    .dataframe thead th {\n",
       "        text-align: right;\n",
       "    }\n",
       "</style>\n",
       "<table border=\"1\" class=\"dataframe\">\n",
       "  <thead>\n",
       "    <tr style=\"text-align: right;\">\n",
       "      <th></th>\n",
       "      <th>hair_loss</th>\n",
       "      <th>stay_up_late</th>\n",
       "      <th>pressure_level</th>\n",
       "      <th>coffee_consumed</th>\n",
       "      <th>brain_working_duration</th>\n",
       "      <th>stress_level</th>\n",
       "      <th>swimming</th>\n",
       "      <th>hair_washing</th>\n",
       "      <th>dandruff</th>\n",
       "    </tr>\n",
       "  </thead>\n",
       "  <tbody>\n",
       "    <tr>\n",
       "      <th>0</th>\n",
       "      <td>Many</td>\n",
       "      <td>4</td>\n",
       "      <td>High</td>\n",
       "      <td>4</td>\n",
       "      <td>7</td>\n",
       "      <td>High</td>\n",
       "      <td>No</td>\n",
       "      <td>N</td>\n",
       "      <td>Few</td>\n",
       "    </tr>\n",
       "    <tr>\n",
       "      <th>1</th>\n",
       "      <td>Medium</td>\n",
       "      <td>1</td>\n",
       "      <td>Low</td>\n",
       "      <td>1</td>\n",
       "      <td>0</td>\n",
       "      <td>Low</td>\n",
       "      <td>Yes</td>\n",
       "      <td>Y</td>\n",
       "      <td>NaN</td>\n",
       "    </tr>\n",
       "    <tr>\n",
       "      <th>2</th>\n",
       "      <td>Medium</td>\n",
       "      <td>3</td>\n",
       "      <td>Low</td>\n",
       "      <td>1</td>\n",
       "      <td>1</td>\n",
       "      <td>Low</td>\n",
       "      <td>Yes</td>\n",
       "      <td>Y</td>\n",
       "      <td>NaN</td>\n",
       "    </tr>\n",
       "    <tr>\n",
       "      <th>3</th>\n",
       "      <td>A lot</td>\n",
       "      <td>5</td>\n",
       "      <td>High</td>\n",
       "      <td>3</td>\n",
       "      <td>7</td>\n",
       "      <td>High</td>\n",
       "      <td>No</td>\n",
       "      <td>Y</td>\n",
       "      <td>Few</td>\n",
       "    </tr>\n",
       "    <tr>\n",
       "      <th>4</th>\n",
       "      <td>Medium</td>\n",
       "      <td>2</td>\n",
       "      <td>Medium</td>\n",
       "      <td>0</td>\n",
       "      <td>1</td>\n",
       "      <td>Low</td>\n",
       "      <td>No</td>\n",
       "      <td>Y</td>\n",
       "      <td>Few</td>\n",
       "    </tr>\n",
       "    <tr>\n",
       "      <th>...</th>\n",
       "      <td>...</td>\n",
       "      <td>...</td>\n",
       "      <td>...</td>\n",
       "      <td>...</td>\n",
       "      <td>...</td>\n",
       "      <td>...</td>\n",
       "      <td>...</td>\n",
       "      <td>...</td>\n",
       "      <td>...</td>\n",
       "    </tr>\n",
       "    <tr>\n",
       "      <th>315</th>\n",
       "      <td>A lot</td>\n",
       "      <td>4</td>\n",
       "      <td>Very High</td>\n",
       "      <td>6</td>\n",
       "      <td>13</td>\n",
       "      <td>Very High</td>\n",
       "      <td>No</td>\n",
       "      <td>Y</td>\n",
       "      <td>Many</td>\n",
       "    </tr>\n",
       "    <tr>\n",
       "      <th>316</th>\n",
       "      <td>Medium</td>\n",
       "      <td>2</td>\n",
       "      <td>Low</td>\n",
       "      <td>1</td>\n",
       "      <td>7</td>\n",
       "      <td>Low</td>\n",
       "      <td>Yes</td>\n",
       "      <td>Y</td>\n",
       "      <td>NaN</td>\n",
       "    </tr>\n",
       "    <tr>\n",
       "      <th>317</th>\n",
       "      <td>Medium</td>\n",
       "      <td>2</td>\n",
       "      <td>Low</td>\n",
       "      <td>1</td>\n",
       "      <td>0</td>\n",
       "      <td>Low</td>\n",
       "      <td>No</td>\n",
       "      <td>N</td>\n",
       "      <td>NaN</td>\n",
       "    </tr>\n",
       "    <tr>\n",
       "      <th>318</th>\n",
       "      <td>Few</td>\n",
       "      <td>2</td>\n",
       "      <td>Low</td>\n",
       "      <td>0</td>\n",
       "      <td>0</td>\n",
       "      <td>Low</td>\n",
       "      <td>No</td>\n",
       "      <td>N</td>\n",
       "      <td>NaN</td>\n",
       "    </tr>\n",
       "    <tr>\n",
       "      <th>319</th>\n",
       "      <td>Many</td>\n",
       "      <td>2</td>\n",
       "      <td>High</td>\n",
       "      <td>4</td>\n",
       "      <td>7</td>\n",
       "      <td>High</td>\n",
       "      <td>No</td>\n",
       "      <td>N</td>\n",
       "      <td>Few</td>\n",
       "    </tr>\n",
       "  </tbody>\n",
       "</table>\n",
       "<p>320 rows × 9 columns</p>\n",
       "</div>"
      ],
      "text/plain": [
       "    hair_loss  stay_up_late pressure_level  coffee_consumed  \\\n",
       "0        Many             4           High                4   \n",
       "1      Medium             1            Low                1   \n",
       "2      Medium             3            Low                1   \n",
       "3       A lot             5           High                3   \n",
       "4      Medium             2         Medium                0   \n",
       "..        ...           ...            ...              ...   \n",
       "315     A lot             4      Very High                6   \n",
       "316    Medium             2            Low                1   \n",
       "317    Medium             2            Low                1   \n",
       "318       Few             2            Low                0   \n",
       "319      Many             2           High                4   \n",
       "\n",
       "     brain_working_duration stress_level swimming hair_washing dandruff  \n",
       "0                         7         High       No            N      Few  \n",
       "1                         0          Low      Yes            Y      NaN  \n",
       "2                         1          Low      Yes            Y      NaN  \n",
       "3                         7         High       No            Y      Few  \n",
       "4                         1          Low       No            Y      Few  \n",
       "..                      ...          ...      ...          ...      ...  \n",
       "315                      13    Very High       No            Y     Many  \n",
       "316                       7          Low      Yes            Y      NaN  \n",
       "317                       0          Low       No            N      NaN  \n",
       "318                       0          Low       No            N      NaN  \n",
       "319                       7         High       No            N      Few  \n",
       "\n",
       "[320 rows x 9 columns]"
      ]
     },
     "execution_count": 28,
     "metadata": {},
     "output_type": "execute_result"
    }
   ],
   "source": [
    "loss_train = pd.read_csv('train.csv')\n",
    "loss_train"
   ]
  },
  {
   "cell_type": "code",
   "execution_count": 29,
   "metadata": {},
   "outputs": [
    {
     "name": "stdout",
     "output_type": "stream",
     "text": [
      "<class 'pandas.core.frame.DataFrame'>\n",
      "RangeIndex: 320 entries, 0 to 319\n",
      "Data columns (total 9 columns):\n",
      " #   Column                  Non-Null Count  Dtype \n",
      "---  ------                  --------------  ----- \n",
      " 0   hair_loss               320 non-null    object\n",
      " 1   stay_up_late            320 non-null    int64 \n",
      " 2   pressure_level          320 non-null    object\n",
      " 3   coffee_consumed         320 non-null    int64 \n",
      " 4   brain_working_duration  320 non-null    int64 \n",
      " 5   stress_level            320 non-null    object\n",
      " 6   swimming                320 non-null    object\n",
      " 7   hair_washing            320 non-null    object\n",
      " 8   dandruff                86 non-null     object\n",
      "dtypes: int64(3), object(6)\n",
      "memory usage: 22.6+ KB\n"
     ]
    }
   ],
   "source": [
    "loss_train.info()"
   ]
  },
  {
   "cell_type": "markdown",
   "metadata": {},
   "source": [
    "## Data Encoding"
   ]
  },
  {
   "cell_type": "markdown",
   "metadata": {},
   "source": [
    "### hair loss"
   ]
  },
  {
   "cell_type": "code",
   "execution_count": 49,
   "metadata": {},
   "outputs": [
    {
     "data": {
      "text/plain": [
       "[2, 1, 3, 0]"
      ]
     },
     "execution_count": 49,
     "metadata": {},
     "output_type": "execute_result"
    }
   ],
   "source": [
    "list(loss_train['hair_loss'].unique())"
   ]
  },
  {
   "cell_type": "code",
   "execution_count": 58,
   "metadata": {},
   "outputs": [
    {
     "data": {
      "text/plain": [
       "{'Few': 0, 'Medium': 1, 'Many': 2, 'A lot': 3}"
      ]
     },
     "execution_count": 58,
     "metadata": {},
     "output_type": "execute_result"
    }
   ],
   "source": [
    "hair_stat = ['Few', 'Medium', 'Many', 'A lot']\n",
    "hair_stat_dict = {}\n",
    "for i, hair in enumerate(hair_stat):\n",
    "    hair_stat_dict[hair] = i\n",
    "hair_stat_dict"
   ]
  },
  {
   "cell_type": "code",
   "execution_count": 59,
   "metadata": {},
   "outputs": [
    {
     "ename": "KeyError",
     "evalue": "2",
     "output_type": "error",
     "traceback": [
      "\u001b[0;31m---------------------------------------------------------------------------\u001b[0m",
      "\u001b[0;31mKeyError\u001b[0m                                  Traceback (most recent call last)",
      "Cell \u001b[0;32mIn[59], line 3\u001b[0m\n\u001b[1;32m      1\u001b[0m \u001b[38;5;66;03m# encode? 'hair_loss'\u001b[39;00m\n\u001b[1;32m      2\u001b[0m \u001b[38;5;28;01mfor\u001b[39;00m i, hair \u001b[38;5;129;01min\u001b[39;00m \u001b[38;5;28menumerate\u001b[39m(loss_train[\u001b[38;5;124m'\u001b[39m\u001b[38;5;124mhair_loss\u001b[39m\u001b[38;5;124m'\u001b[39m]):\n\u001b[0;32m----> 3\u001b[0m     loss_train[\u001b[38;5;124m'\u001b[39m\u001b[38;5;124mhair_loss\u001b[39m\u001b[38;5;124m'\u001b[39m][i] \u001b[38;5;241m=\u001b[39m hair_stat_dict[hair]\n",
      "\u001b[0;31mKeyError\u001b[0m: 2"
     ]
    }
   ],
   "source": [
    "# encode? 'hair_loss'\n",
    "for i, hair in enumerate(loss_train['hair_loss']):\n",
    "    loss_train['hair_loss'][i] = hair_stat_dict[hair]"
   ]
  },
  {
   "cell_type": "markdown",
   "metadata": {},
   "source": [
    "### pressure_level"
   ]
  },
  {
   "cell_type": "code",
   "execution_count": 62,
   "metadata": {},
   "outputs": [
    {
     "data": {
      "text/plain": [
       "array([2, 0, 1, 3], dtype=object)"
      ]
     },
     "execution_count": 62,
     "metadata": {},
     "output_type": "execute_result"
    }
   ],
   "source": [
    "loss_train['pressure_level'].unique()"
   ]
  },
  {
   "cell_type": "code",
   "execution_count": 63,
   "metadata": {},
   "outputs": [
    {
     "data": {
      "text/plain": [
       "{'Low': 0, 'Medium': 1, 'High': 2, 'Very High': 3}"
      ]
     },
     "execution_count": 63,
     "metadata": {},
     "output_type": "execute_result"
    }
   ],
   "source": [
    "pressure_level_list = ['Low', 'Medium', 'High', 'Very High']\n",
    "pressure_level_dict = {}\n",
    "for i, pressure in enumerate(pressure_level_list):\n",
    "    pressure_level_dict[pressure] = i\n",
    "pressure_level_dict"
   ]
  },
  {
   "cell_type": "code",
   "execution_count": 64,
   "metadata": {},
   "outputs": [
    {
     "ename": "KeyError",
     "evalue": "2",
     "output_type": "error",
     "traceback": [
      "\u001b[0;31m---------------------------------------------------------------------------\u001b[0m",
      "\u001b[0;31mKeyError\u001b[0m                                  Traceback (most recent call last)",
      "Cell \u001b[0;32mIn[64], line 2\u001b[0m\n\u001b[1;32m      1\u001b[0m \u001b[38;5;28;01mfor\u001b[39;00m i, pressure \u001b[38;5;129;01min\u001b[39;00m \u001b[38;5;28menumerate\u001b[39m(loss_train[\u001b[38;5;124m'\u001b[39m\u001b[38;5;124mpressure_level\u001b[39m\u001b[38;5;124m'\u001b[39m]):\n\u001b[0;32m----> 2\u001b[0m     loss_train[\u001b[38;5;124m'\u001b[39m\u001b[38;5;124mpressure_level\u001b[39m\u001b[38;5;124m'\u001b[39m][i] \u001b[38;5;241m=\u001b[39m pressure_level_dict[pressure]\n",
      "\u001b[0;31mKeyError\u001b[0m: 2"
     ]
    }
   ],
   "source": [
    "for i, pressure in enumerate(loss_train['pressure_level']):\n",
    "    loss_train['pressure_level'][i] = pressure_level_dict[pressure]"
   ]
  },
  {
   "cell_type": "markdown",
   "metadata": {},
   "source": [
    "### stress_level"
   ]
  },
  {
   "cell_type": "code",
   "execution_count": 67,
   "metadata": {},
   "outputs": [
    {
     "data": {
      "text/plain": [
       "array(['High', 'Low', 'Medium', 'Very High'], dtype=object)"
      ]
     },
     "execution_count": 67,
     "metadata": {},
     "output_type": "execute_result"
    }
   ],
   "source": [
    "loss_train['stress_level'].unique()"
   ]
  },
  {
   "cell_type": "code",
   "execution_count": 68,
   "metadata": {},
   "outputs": [],
   "source": [
    "stress_level_list = ['Low', 'Medium', 'High', 'Very High']\n",
    "stress_level_dict = {}\n",
    "for i, stress in enumerate(stress_level_list):\n",
    "    stress_level_dict[stress] = i\n",
    "\n",
    "for i, stress in enumerate(loss_train['stress_level']):\n",
    "    loss_train['stress_level'][i] = stress_level_dict[stress]"
   ]
  },
  {
   "cell_type": "markdown",
   "metadata": {},
   "source": [
    "### swimming"
   ]
  },
  {
   "cell_type": "code",
   "execution_count": 73,
   "metadata": {},
   "outputs": [
    {
     "data": {
      "text/plain": [
       "array([0, 1], dtype=object)"
      ]
     },
     "execution_count": 73,
     "metadata": {},
     "output_type": "execute_result"
    }
   ],
   "source": [
    "swimming_list = loss_train['swimming'].unique()\n",
    "swimming_list"
   ]
  },
  {
   "cell_type": "code",
   "execution_count": 72,
   "metadata": {},
   "outputs": [],
   "source": [
    "swimming_dict = {}\n",
    "for i, swim in enumerate(swimming_list):\n",
    "    swimming_dict[swim] = i\n",
    "\n",
    "for i, swim in enumerate(loss_train['swimming']):\n",
    "    loss_train['swimming'][i] = swimming_dict[swim]"
   ]
  },
  {
   "cell_type": "markdown",
   "metadata": {},
   "source": [
    "### hair_washing"
   ]
  },
  {
   "cell_type": "code",
   "execution_count": 74,
   "metadata": {},
   "outputs": [
    {
     "data": {
      "text/plain": [
       "array(['N', 'Y'], dtype=object)"
      ]
     },
     "execution_count": 74,
     "metadata": {},
     "output_type": "execute_result"
    }
   ],
   "source": [
    "hair_washing_list = loss_train['hair_washing'].unique()\n",
    "hair_washing_list"
   ]
  },
  {
   "cell_type": "code",
   "execution_count": 75,
   "metadata": {},
   "outputs": [],
   "source": [
    "hair_washing_dict = {}\n",
    "for i, wash in enumerate(hair_washing_list):\n",
    "    hair_washing_dict[wash] = i\n",
    "\n",
    "for i, wash in enumerate(loss_train['hair_washing']):\n",
    "    loss_train['hair_washing'][i] = hair_washing_dict[wash]"
   ]
  },
  {
   "cell_type": "markdown",
   "metadata": {},
   "source": [
    "### dandruff"
   ]
  },
  {
   "cell_type": "code",
   "execution_count": 77,
   "metadata": {},
   "outputs": [
    {
     "data": {
      "text/plain": [
       "array(['Few', nan, 'Many'], dtype=object)"
      ]
     },
     "execution_count": 77,
     "metadata": {},
     "output_type": "execute_result"
    }
   ],
   "source": [
    "dandruff_list = loss_train['dandruff'].unique()\n",
    "dandruff_list = [nan, 'Few', 'Many']"
   ]
  },
  {
   "cell_type": "code",
   "execution_count": 78,
   "metadata": {},
   "outputs": [],
   "source": [
    "dandruff_dict = {}\n",
    "for i, dandruff in enumerate(dandruff_list):\n",
    "    dandruff_dict[dandruff] = i\n",
    "\n",
    "for i, dandruff in enumerate(loss_train['dandruff']):\n",
    "    loss_train['dandruff'][i] = dandruff_dict[dandruff]"
   ]
  },
  {
   "cell_type": "markdown",
   "metadata": {},
   "source": [
    "### object -> int"
   ]
  },
  {
   "cell_type": "code",
   "execution_count": 80,
   "metadata": {},
   "outputs": [],
   "source": [
    "loss_train['hair_loss'] =  loss_train['hair_loss'].astype('int')\n",
    "loss_train['pressure_level'] = loss_train['pressure_level'].astype(int)\n",
    "loss_train['stress_level'] =  loss_train['stress_level'].astype('int')\n",
    "loss_train['swimming'] =  loss_train['swimming'].astype('int')\n",
    "loss_train['hair_washing'] =  loss_train['hair_washing'].astype('int')\n",
    "loss_train['dandruff'] =  loss_train['dandruff'].astype('int')\n"
   ]
  },
  {
   "cell_type": "code",
   "execution_count": 81,
   "metadata": {},
   "outputs": [
    {
     "name": "stdout",
     "output_type": "stream",
     "text": [
      "<class 'pandas.core.frame.DataFrame'>\n",
      "RangeIndex: 320 entries, 0 to 319\n",
      "Data columns (total 9 columns):\n",
      " #   Column                  Non-Null Count  Dtype\n",
      "---  ------                  --------------  -----\n",
      " 0   hair_loss               320 non-null    int64\n",
      " 1   stay_up_late            320 non-null    int64\n",
      " 2   pressure_level          320 non-null    int64\n",
      " 3   coffee_consumed         320 non-null    int64\n",
      " 4   brain_working_duration  320 non-null    int64\n",
      " 5   stress_level            320 non-null    int64\n",
      " 6   swimming                320 non-null    int64\n",
      " 7   hair_washing            320 non-null    int64\n",
      " 8   dandruff                320 non-null    int64\n",
      "dtypes: int64(9)\n",
      "memory usage: 22.6 KB\n"
     ]
    }
   ],
   "source": [
    "loss_train.info()"
   ]
  },
  {
   "cell_type": "markdown",
   "metadata": {},
   "source": [
    "## test model"
   ]
  },
  {
   "cell_type": "code",
   "execution_count": 108,
   "metadata": {},
   "outputs": [],
   "source": [
    "from sklearn.model_selection import train_test_split\n",
    "\n",
    "X = loss_train.iloc[:,1:-1]\n",
    "y = loss_train.iloc[:,0]\n",
    "\n",
    "X_train,X_test,y_train,y_test = train_test_split(X,y,test_size=0.2, random_state = 0)\n",
    "\n",
    "#스케일링\n",
    "from sklearn.preprocessing import StandardScaler\n",
    "\n",
    "scaler = StandardScaler()\n",
    "scaler = scaler.fit(X_train)\n",
    "X_train_scaled = scaler.transform(X_train)\n",
    "X_test_scaled = scaler.transform(X_test)"
   ]
  },
  {
   "cell_type": "markdown",
   "metadata": {},
   "source": [
    "## unscaled"
   ]
  },
  {
   "cell_type": "code",
   "execution_count": 100,
   "metadata": {},
   "outputs": [
    {
     "data": {
      "text/html": [
       "<div>\n",
       "<style scoped>\n",
       "    .dataframe tbody tr th:only-of-type {\n",
       "        vertical-align: middle;\n",
       "    }\n",
       "\n",
       "    .dataframe tbody tr th {\n",
       "        vertical-align: top;\n",
       "    }\n",
       "\n",
       "    .dataframe thead th {\n",
       "        text-align: right;\n",
       "    }\n",
       "</style>\n",
       "<table border=\"1\" class=\"dataframe\">\n",
       "  <thead>\n",
       "    <tr style=\"text-align: right;\">\n",
       "      <th></th>\n",
       "      <th>stay_up_late</th>\n",
       "      <th>pressure_level</th>\n",
       "      <th>coffee_consumed</th>\n",
       "      <th>brain_working_duration</th>\n",
       "      <th>stress_level</th>\n",
       "      <th>swimming</th>\n",
       "      <th>hair_washing</th>\n",
       "    </tr>\n",
       "  </thead>\n",
       "  <tbody>\n",
       "    <tr>\n",
       "      <th>count</th>\n",
       "      <td>256.000</td>\n",
       "      <td>256.000</td>\n",
       "      <td>256.000</td>\n",
       "      <td>256.000</td>\n",
       "      <td>256.000</td>\n",
       "      <td>256.000</td>\n",
       "      <td>256.000</td>\n",
       "    </tr>\n",
       "    <tr>\n",
       "      <th>mean</th>\n",
       "      <td>2.004</td>\n",
       "      <td>0.531</td>\n",
       "      <td>1.180</td>\n",
       "      <td>4.031</td>\n",
       "      <td>0.641</td>\n",
       "      <td>0.238</td>\n",
       "      <td>0.488</td>\n",
       "    </tr>\n",
       "    <tr>\n",
       "      <th>std</th>\n",
       "      <td>1.721</td>\n",
       "      <td>0.924</td>\n",
       "      <td>2.131</td>\n",
       "      <td>4.432</td>\n",
       "      <td>1.008</td>\n",
       "      <td>0.427</td>\n",
       "      <td>0.501</td>\n",
       "    </tr>\n",
       "    <tr>\n",
       "      <th>min</th>\n",
       "      <td>0.000</td>\n",
       "      <td>0.000</td>\n",
       "      <td>0.000</td>\n",
       "      <td>0.000</td>\n",
       "      <td>0.000</td>\n",
       "      <td>0.000</td>\n",
       "      <td>0.000</td>\n",
       "    </tr>\n",
       "    <tr>\n",
       "      <th>25%</th>\n",
       "      <td>1.000</td>\n",
       "      <td>0.000</td>\n",
       "      <td>0.000</td>\n",
       "      <td>1.000</td>\n",
       "      <td>0.000</td>\n",
       "      <td>0.000</td>\n",
       "      <td>0.000</td>\n",
       "    </tr>\n",
       "    <tr>\n",
       "      <th>50%</th>\n",
       "      <td>2.000</td>\n",
       "      <td>0.000</td>\n",
       "      <td>0.000</td>\n",
       "      <td>2.000</td>\n",
       "      <td>0.000</td>\n",
       "      <td>0.000</td>\n",
       "      <td>0.000</td>\n",
       "    </tr>\n",
       "    <tr>\n",
       "      <th>75%</th>\n",
       "      <td>3.000</td>\n",
       "      <td>1.000</td>\n",
       "      <td>1.000</td>\n",
       "      <td>6.000</td>\n",
       "      <td>1.000</td>\n",
       "      <td>0.000</td>\n",
       "      <td>1.000</td>\n",
       "    </tr>\n",
       "    <tr>\n",
       "      <th>max</th>\n",
       "      <td>8.000</td>\n",
       "      <td>3.000</td>\n",
       "      <td>10.000</td>\n",
       "      <td>18.000</td>\n",
       "      <td>3.000</td>\n",
       "      <td>1.000</td>\n",
       "      <td>1.000</td>\n",
       "    </tr>\n",
       "  </tbody>\n",
       "</table>\n",
       "</div>"
      ],
      "text/plain": [
       "       stay_up_late  pressure_level  coffee_consumed  brain_working_duration  \\\n",
       "count       256.000         256.000          256.000                 256.000   \n",
       "mean          2.004           0.531            1.180                   4.031   \n",
       "std           1.721           0.924            2.131                   4.432   \n",
       "min           0.000           0.000            0.000                   0.000   \n",
       "25%           1.000           0.000            0.000                   1.000   \n",
       "50%           2.000           0.000            0.000                   2.000   \n",
       "75%           3.000           1.000            1.000                   6.000   \n",
       "max           8.000           3.000           10.000                  18.000   \n",
       "\n",
       "       stress_level  swimming  hair_washing  \n",
       "count       256.000   256.000       256.000  \n",
       "mean          0.641     0.238         0.488  \n",
       "std           1.008     0.427         0.501  \n",
       "min           0.000     0.000         0.000  \n",
       "25%           0.000     0.000         0.000  \n",
       "50%           0.000     0.000         0.000  \n",
       "75%           1.000     0.000         1.000  \n",
       "max           3.000     1.000         1.000  "
      ]
     },
     "execution_count": 100,
     "metadata": {},
     "output_type": "execute_result"
    }
   ],
   "source": [
    "# 스케일링 전 X_train\n",
    "pd.DataFrame(X_train).describe()"
   ]
  },
  {
   "cell_type": "code",
   "execution_count": 109,
   "metadata": {},
   "outputs": [],
   "source": [
    "from sklearn.linear_model import LogisticRegression\n",
    "\n",
    "#1)모델 생성\n",
    "reg = LogisticRegression()\n",
    "#2) 모델 훈련\n",
    "reg.fit(X_train,y_train)\n",
    "#3) 평가 데이터에 대한 예측 수행\n",
    "\n",
    "y_pred =reg.predict(X_test)"
   ]
  },
  {
   "cell_type": "code",
   "execution_count": null,
   "metadata": {},
   "outputs": [
    {
     "data": {
      "text/plain": [
       "array([[22,  1,  0,  0],\n",
       "       [ 6, 23,  2,  2],\n",
       "       [ 2,  0,  4,  1],\n",
       "       [ 0,  0,  1,  0]])"
      ]
     },
     "metadata": {},
     "output_type": "display_data"
    }
   ],
   "source": [
    "from sklearn.metrics import confusion_matrix, accuracy_score,precision_score, recall_score\n",
    "#오차행렬\n",
    "\n",
    "confusion_matrix(y_test,y_pred)"
   ]
  },
  {
   "cell_type": "code",
   "execution_count": null,
   "metadata": {},
   "outputs": [
    {
     "name": "stdout",
     "output_type": "stream",
     "text": [
      "accuracy: 0.765625\n",
      "precision: 0.8201822916666667\n",
      "recall : 0.765625\n"
     ]
    }
   ],
   "source": [
    "#정확도, 정밀도, 재현율 지표확인\n",
    "## [None, 'micro', 'macro', 'weighted']\n",
    "print(f\"accuracy: {accuracy_score(y_test,y_pred)}\")\n",
    "print(f\"precision: {precision_score(y_test,y_pred, average='weighted')}\")\n",
    "print(f\"recall : {recall_score(y_test,y_pred, average='weighted')}\")"
   ]
  },
  {
   "cell_type": "markdown",
   "metadata": {},
   "source": [
    "### test"
   ]
  },
  {
   "cell_type": "code",
   "execution_count": 112,
   "metadata": {},
   "outputs": [
    {
     "data": {
      "text/html": [
       "<div>\n",
       "<style scoped>\n",
       "    .dataframe tbody tr th:only-of-type {\n",
       "        vertical-align: middle;\n",
       "    }\n",
       "\n",
       "    .dataframe tbody tr th {\n",
       "        vertical-align: top;\n",
       "    }\n",
       "\n",
       "    .dataframe thead th {\n",
       "        text-align: right;\n",
       "    }\n",
       "</style>\n",
       "<table border=\"1\" class=\"dataframe\">\n",
       "  <thead>\n",
       "    <tr style=\"text-align: right;\">\n",
       "      <th></th>\n",
       "      <th>stay_up_late</th>\n",
       "      <th>pressure_level</th>\n",
       "      <th>coffee_consumed</th>\n",
       "      <th>brain_working_duration</th>\n",
       "      <th>stress_level</th>\n",
       "      <th>swimming</th>\n",
       "      <th>hair_washing</th>\n",
       "      <th>dandruff</th>\n",
       "    </tr>\n",
       "  </thead>\n",
       "  <tbody>\n",
       "    <tr>\n",
       "      <th>0</th>\n",
       "      <td>0</td>\n",
       "      <td>High</td>\n",
       "      <td>0</td>\n",
       "      <td>7</td>\n",
       "      <td>High</td>\n",
       "      <td>No</td>\n",
       "      <td>Y</td>\n",
       "      <td>Many</td>\n",
       "    </tr>\n",
       "    <tr>\n",
       "      <th>1</th>\n",
       "      <td>3</td>\n",
       "      <td>Medium</td>\n",
       "      <td>3</td>\n",
       "      <td>10</td>\n",
       "      <td>Medium</td>\n",
       "      <td>No</td>\n",
       "      <td>N</td>\n",
       "      <td>Few</td>\n",
       "    </tr>\n",
       "    <tr>\n",
       "      <th>2</th>\n",
       "      <td>2</td>\n",
       "      <td>Low</td>\n",
       "      <td>1</td>\n",
       "      <td>2</td>\n",
       "      <td>Low</td>\n",
       "      <td>No</td>\n",
       "      <td>N</td>\n",
       "      <td>NaN</td>\n",
       "    </tr>\n",
       "    <tr>\n",
       "      <th>3</th>\n",
       "      <td>0</td>\n",
       "      <td>Low</td>\n",
       "      <td>0</td>\n",
       "      <td>2</td>\n",
       "      <td>Low</td>\n",
       "      <td>No</td>\n",
       "      <td>Y</td>\n",
       "      <td>NaN</td>\n",
       "    </tr>\n",
       "    <tr>\n",
       "      <th>4</th>\n",
       "      <td>1</td>\n",
       "      <td>Low</td>\n",
       "      <td>0</td>\n",
       "      <td>2</td>\n",
       "      <td>Low</td>\n",
       "      <td>No</td>\n",
       "      <td>N</td>\n",
       "      <td>NaN</td>\n",
       "    </tr>\n",
       "    <tr>\n",
       "      <th>...</th>\n",
       "      <td>...</td>\n",
       "      <td>...</td>\n",
       "      <td>...</td>\n",
       "      <td>...</td>\n",
       "      <td>...</td>\n",
       "      <td>...</td>\n",
       "      <td>...</td>\n",
       "      <td>...</td>\n",
       "    </tr>\n",
       "    <tr>\n",
       "      <th>75</th>\n",
       "      <td>1</td>\n",
       "      <td>Low</td>\n",
       "      <td>1</td>\n",
       "      <td>0</td>\n",
       "      <td>Low</td>\n",
       "      <td>No</td>\n",
       "      <td>N</td>\n",
       "      <td>NaN</td>\n",
       "    </tr>\n",
       "    <tr>\n",
       "      <th>76</th>\n",
       "      <td>3</td>\n",
       "      <td>Very High</td>\n",
       "      <td>6</td>\n",
       "      <td>13</td>\n",
       "      <td>Very High</td>\n",
       "      <td>No</td>\n",
       "      <td>N</td>\n",
       "      <td>Many</td>\n",
       "    </tr>\n",
       "    <tr>\n",
       "      <th>77</th>\n",
       "      <td>2</td>\n",
       "      <td>Low</td>\n",
       "      <td>0</td>\n",
       "      <td>2</td>\n",
       "      <td>Low</td>\n",
       "      <td>No</td>\n",
       "      <td>N</td>\n",
       "      <td>NaN</td>\n",
       "    </tr>\n",
       "    <tr>\n",
       "      <th>78</th>\n",
       "      <td>0</td>\n",
       "      <td>Low</td>\n",
       "      <td>1</td>\n",
       "      <td>3</td>\n",
       "      <td>Low</td>\n",
       "      <td>Yes</td>\n",
       "      <td>Y</td>\n",
       "      <td>NaN</td>\n",
       "    </tr>\n",
       "    <tr>\n",
       "      <th>79</th>\n",
       "      <td>6</td>\n",
       "      <td>High</td>\n",
       "      <td>5</td>\n",
       "      <td>10</td>\n",
       "      <td>High</td>\n",
       "      <td>No</td>\n",
       "      <td>N</td>\n",
       "      <td>Many</td>\n",
       "    </tr>\n",
       "  </tbody>\n",
       "</table>\n",
       "<p>80 rows × 8 columns</p>\n",
       "</div>"
      ],
      "text/plain": [
       "    stay_up_late pressure_level  coffee_consumed  brain_working_duration  \\\n",
       "0              0           High                0                       7   \n",
       "1              3         Medium                3                      10   \n",
       "2              2            Low                1                       2   \n",
       "3              0            Low                0                       2   \n",
       "4              1            Low                0                       2   \n",
       "..           ...            ...              ...                     ...   \n",
       "75             1            Low                1                       0   \n",
       "76             3      Very High                6                      13   \n",
       "77             2            Low                0                       2   \n",
       "78             0            Low                1                       3   \n",
       "79             6           High                5                      10   \n",
       "\n",
       "   stress_level swimming hair_washing dandruff  \n",
       "0          High       No            Y     Many  \n",
       "1        Medium       No            N      Few  \n",
       "2           Low       No            N      NaN  \n",
       "3           Low       No            Y      NaN  \n",
       "4           Low       No            N      NaN  \n",
       "..          ...      ...          ...      ...  \n",
       "75          Low       No            N      NaN  \n",
       "76    Very High       No            N     Many  \n",
       "77          Low       No            N      NaN  \n",
       "78          Low      Yes            Y      NaN  \n",
       "79         High       No            N     Many  \n",
       "\n",
       "[80 rows x 8 columns]"
      ]
     },
     "execution_count": 112,
     "metadata": {},
     "output_type": "execute_result"
    }
   ],
   "source": [
    "hair_test_unscaled = pd.read_csv('test.csv')\n",
    "hair_test_unscaled"
   ]
  },
  {
   "cell_type": "code",
   "execution_count": 114,
   "metadata": {},
   "outputs": [],
   "source": [
    "for i, pressure in enumerate(hair_test_unscaled['pressure_level']):\n",
    "    hair_test_unscaled['pressure_level'][i] = pressure_level_dict[pressure]\n",
    "    \n",
    "for i, stress in enumerate(hair_test_unscaled['stress_level']):\n",
    "    hair_test_unscaled['stress_level'][i] = stress_level_dict[stress]\n",
    "    \n",
    "for i, swim in enumerate(hair_test_unscaled['swimming']):\n",
    "    hair_test_unscaled['swimming'][i] = swimming_dict[swim]\n",
    "    \n",
    "for i, wash in enumerate(hair_test_unscaled['hair_washing']):\n",
    "    hair_test_unscaled['hair_washing'][i] = hair_washing_dict[wash]\n",
    "    \n",
    "for i, dandruff in enumerate(hair_test_unscaled['dandruff']):\n",
    "    hair_test_unscaled['dandruff'][i] = dandruff_dict[dandruff]\n",
    "    \n",
    "hair_test_unscaled['pressure_level'] = hair_test_unscaled['pressure_level'].astype(int)\n",
    "hair_test_unscaled['stress_level'] =  hair_test_unscaled['stress_level'].astype('int')\n",
    "hair_test_unscaled['swimming'] =  hair_test_unscaled['swimming'].astype('int')\n",
    "hair_test_unscaled['hair_washing'] =  hair_test_unscaled['hair_washing'].astype('int')\n",
    "hair_test_unscaled['dandruff'] =  hair_test_unscaled['dandruff'].astype('int')"
   ]
  },
  {
   "cell_type": "code",
   "execution_count": 115,
   "metadata": {},
   "outputs": [
    {
     "data": {
      "text/html": [
       "<div>\n",
       "<style scoped>\n",
       "    .dataframe tbody tr th:only-of-type {\n",
       "        vertical-align: middle;\n",
       "    }\n",
       "\n",
       "    .dataframe tbody tr th {\n",
       "        vertical-align: top;\n",
       "    }\n",
       "\n",
       "    .dataframe thead th {\n",
       "        text-align: right;\n",
       "    }\n",
       "</style>\n",
       "<table border=\"1\" class=\"dataframe\">\n",
       "  <thead>\n",
       "    <tr style=\"text-align: right;\">\n",
       "      <th></th>\n",
       "      <th>stay_up_late</th>\n",
       "      <th>pressure_level</th>\n",
       "      <th>coffee_consumed</th>\n",
       "      <th>brain_working_duration</th>\n",
       "      <th>stress_level</th>\n",
       "      <th>swimming</th>\n",
       "      <th>hair_washing</th>\n",
       "      <th>dandruff</th>\n",
       "    </tr>\n",
       "  </thead>\n",
       "  <tbody>\n",
       "    <tr>\n",
       "      <th>0</th>\n",
       "      <td>0</td>\n",
       "      <td>2</td>\n",
       "      <td>0</td>\n",
       "      <td>7</td>\n",
       "      <td>2</td>\n",
       "      <td>0</td>\n",
       "      <td>1</td>\n",
       "      <td>2</td>\n",
       "    </tr>\n",
       "    <tr>\n",
       "      <th>1</th>\n",
       "      <td>3</td>\n",
       "      <td>1</td>\n",
       "      <td>3</td>\n",
       "      <td>10</td>\n",
       "      <td>1</td>\n",
       "      <td>0</td>\n",
       "      <td>0</td>\n",
       "      <td>0</td>\n",
       "    </tr>\n",
       "    <tr>\n",
       "      <th>2</th>\n",
       "      <td>2</td>\n",
       "      <td>0</td>\n",
       "      <td>1</td>\n",
       "      <td>2</td>\n",
       "      <td>0</td>\n",
       "      <td>0</td>\n",
       "      <td>0</td>\n",
       "      <td>1</td>\n",
       "    </tr>\n",
       "    <tr>\n",
       "      <th>3</th>\n",
       "      <td>0</td>\n",
       "      <td>0</td>\n",
       "      <td>0</td>\n",
       "      <td>2</td>\n",
       "      <td>0</td>\n",
       "      <td>0</td>\n",
       "      <td>1</td>\n",
       "      <td>1</td>\n",
       "    </tr>\n",
       "    <tr>\n",
       "      <th>4</th>\n",
       "      <td>1</td>\n",
       "      <td>0</td>\n",
       "      <td>0</td>\n",
       "      <td>2</td>\n",
       "      <td>0</td>\n",
       "      <td>0</td>\n",
       "      <td>0</td>\n",
       "      <td>1</td>\n",
       "    </tr>\n",
       "    <tr>\n",
       "      <th>...</th>\n",
       "      <td>...</td>\n",
       "      <td>...</td>\n",
       "      <td>...</td>\n",
       "      <td>...</td>\n",
       "      <td>...</td>\n",
       "      <td>...</td>\n",
       "      <td>...</td>\n",
       "      <td>...</td>\n",
       "    </tr>\n",
       "    <tr>\n",
       "      <th>75</th>\n",
       "      <td>1</td>\n",
       "      <td>0</td>\n",
       "      <td>1</td>\n",
       "      <td>0</td>\n",
       "      <td>0</td>\n",
       "      <td>0</td>\n",
       "      <td>0</td>\n",
       "      <td>1</td>\n",
       "    </tr>\n",
       "    <tr>\n",
       "      <th>76</th>\n",
       "      <td>3</td>\n",
       "      <td>3</td>\n",
       "      <td>6</td>\n",
       "      <td>13</td>\n",
       "      <td>3</td>\n",
       "      <td>0</td>\n",
       "      <td>0</td>\n",
       "      <td>2</td>\n",
       "    </tr>\n",
       "    <tr>\n",
       "      <th>77</th>\n",
       "      <td>2</td>\n",
       "      <td>0</td>\n",
       "      <td>0</td>\n",
       "      <td>2</td>\n",
       "      <td>0</td>\n",
       "      <td>0</td>\n",
       "      <td>0</td>\n",
       "      <td>1</td>\n",
       "    </tr>\n",
       "    <tr>\n",
       "      <th>78</th>\n",
       "      <td>0</td>\n",
       "      <td>0</td>\n",
       "      <td>1</td>\n",
       "      <td>3</td>\n",
       "      <td>0</td>\n",
       "      <td>1</td>\n",
       "      <td>1</td>\n",
       "      <td>1</td>\n",
       "    </tr>\n",
       "    <tr>\n",
       "      <th>79</th>\n",
       "      <td>6</td>\n",
       "      <td>2</td>\n",
       "      <td>5</td>\n",
       "      <td>10</td>\n",
       "      <td>2</td>\n",
       "      <td>0</td>\n",
       "      <td>0</td>\n",
       "      <td>2</td>\n",
       "    </tr>\n",
       "  </tbody>\n",
       "</table>\n",
       "<p>80 rows × 8 columns</p>\n",
       "</div>"
      ],
      "text/plain": [
       "    stay_up_late  pressure_level  coffee_consumed  brain_working_duration  \\\n",
       "0              0               2                0                       7   \n",
       "1              3               1                3                      10   \n",
       "2              2               0                1                       2   \n",
       "3              0               0                0                       2   \n",
       "4              1               0                0                       2   \n",
       "..           ...             ...              ...                     ...   \n",
       "75             1               0                1                       0   \n",
       "76             3               3                6                      13   \n",
       "77             2               0                0                       2   \n",
       "78             0               0                1                       3   \n",
       "79             6               2                5                      10   \n",
       "\n",
       "    stress_level  swimming  hair_washing  dandruff  \n",
       "0              2         0             1         2  \n",
       "1              1         0             0         0  \n",
       "2              0         0             0         1  \n",
       "3              0         0             1         1  \n",
       "4              0         0             0         1  \n",
       "..           ...       ...           ...       ...  \n",
       "75             0         0             0         1  \n",
       "76             3         0             0         2  \n",
       "77             0         0             0         1  \n",
       "78             0         1             1         1  \n",
       "79             2         0             0         2  \n",
       "\n",
       "[80 rows x 8 columns]"
      ]
     },
     "execution_count": 115,
     "metadata": {},
     "output_type": "execute_result"
    }
   ],
   "source": [
    "hair_test_unscaled"
   ]
  },
  {
   "cell_type": "code",
   "execution_count": 116,
   "metadata": {},
   "outputs": [],
   "source": [
    "y_pred =reg.predict(hair_test_unscaled.iloc[:,:-1])"
   ]
  },
  {
   "cell_type": "markdown",
   "metadata": {},
   "source": [
    "### submission"
   ]
  },
  {
   "cell_type": "code",
   "execution_count": 117,
   "metadata": {},
   "outputs": [
    {
     "data": {
      "text/html": [
       "<div>\n",
       "<style scoped>\n",
       "    .dataframe tbody tr th:only-of-type {\n",
       "        vertical-align: middle;\n",
       "    }\n",
       "\n",
       "    .dataframe tbody tr th {\n",
       "        vertical-align: top;\n",
       "    }\n",
       "\n",
       "    .dataframe thead th {\n",
       "        text-align: right;\n",
       "    }\n",
       "</style>\n",
       "<table border=\"1\" class=\"dataframe\">\n",
       "  <thead>\n",
       "    <tr style=\"text-align: right;\">\n",
       "      <th></th>\n",
       "      <th>No</th>\n",
       "      <th>hair_loss</th>\n",
       "    </tr>\n",
       "  </thead>\n",
       "  <tbody>\n",
       "    <tr>\n",
       "      <th>0</th>\n",
       "      <td>1</td>\n",
       "      <td>0</td>\n",
       "    </tr>\n",
       "    <tr>\n",
       "      <th>1</th>\n",
       "      <td>2</td>\n",
       "      <td>0</td>\n",
       "    </tr>\n",
       "    <tr>\n",
       "      <th>2</th>\n",
       "      <td>3</td>\n",
       "      <td>0</td>\n",
       "    </tr>\n",
       "    <tr>\n",
       "      <th>3</th>\n",
       "      <td>4</td>\n",
       "      <td>0</td>\n",
       "    </tr>\n",
       "    <tr>\n",
       "      <th>4</th>\n",
       "      <td>5</td>\n",
       "      <td>0</td>\n",
       "    </tr>\n",
       "    <tr>\n",
       "      <th>...</th>\n",
       "      <td>...</td>\n",
       "      <td>...</td>\n",
       "    </tr>\n",
       "    <tr>\n",
       "      <th>75</th>\n",
       "      <td>76</td>\n",
       "      <td>0</td>\n",
       "    </tr>\n",
       "    <tr>\n",
       "      <th>76</th>\n",
       "      <td>77</td>\n",
       "      <td>0</td>\n",
       "    </tr>\n",
       "    <tr>\n",
       "      <th>77</th>\n",
       "      <td>78</td>\n",
       "      <td>0</td>\n",
       "    </tr>\n",
       "    <tr>\n",
       "      <th>78</th>\n",
       "      <td>79</td>\n",
       "      <td>0</td>\n",
       "    </tr>\n",
       "    <tr>\n",
       "      <th>79</th>\n",
       "      <td>80</td>\n",
       "      <td>0</td>\n",
       "    </tr>\n",
       "  </tbody>\n",
       "</table>\n",
       "<p>80 rows × 2 columns</p>\n",
       "</div>"
      ],
      "text/plain": [
       "    No  hair_loss\n",
       "0    1          0\n",
       "1    2          0\n",
       "2    3          0\n",
       "3    4          0\n",
       "4    5          0\n",
       "..  ..        ...\n",
       "75  76          0\n",
       "76  77          0\n",
       "77  78          0\n",
       "78  79          0\n",
       "79  80          0\n",
       "\n",
       "[80 rows x 2 columns]"
      ]
     },
     "execution_count": 117,
     "metadata": {},
     "output_type": "execute_result"
    }
   ],
   "source": [
    "unscaled_submit = pd.read_csv('submission.csv')\n",
    "unscaled_submit"
   ]
  },
  {
   "cell_type": "code",
   "execution_count": 118,
   "metadata": {},
   "outputs": [
    {
     "data": {
      "text/html": [
       "<div>\n",
       "<style scoped>\n",
       "    .dataframe tbody tr th:only-of-type {\n",
       "        vertical-align: middle;\n",
       "    }\n",
       "\n",
       "    .dataframe tbody tr th {\n",
       "        vertical-align: top;\n",
       "    }\n",
       "\n",
       "    .dataframe thead th {\n",
       "        text-align: right;\n",
       "    }\n",
       "</style>\n",
       "<table border=\"1\" class=\"dataframe\">\n",
       "  <thead>\n",
       "    <tr style=\"text-align: right;\">\n",
       "      <th></th>\n",
       "      <th>No</th>\n",
       "      <th>hair_loss</th>\n",
       "    </tr>\n",
       "  </thead>\n",
       "  <tbody>\n",
       "    <tr>\n",
       "      <th>0</th>\n",
       "      <td>1</td>\n",
       "      <td>0</td>\n",
       "    </tr>\n",
       "    <tr>\n",
       "      <th>1</th>\n",
       "      <td>2</td>\n",
       "      <td>1</td>\n",
       "    </tr>\n",
       "    <tr>\n",
       "      <th>2</th>\n",
       "      <td>3</td>\n",
       "      <td>1</td>\n",
       "    </tr>\n",
       "    <tr>\n",
       "      <th>3</th>\n",
       "      <td>4</td>\n",
       "      <td>0</td>\n",
       "    </tr>\n",
       "    <tr>\n",
       "      <th>4</th>\n",
       "      <td>5</td>\n",
       "      <td>0</td>\n",
       "    </tr>\n",
       "    <tr>\n",
       "      <th>...</th>\n",
       "      <td>...</td>\n",
       "      <td>...</td>\n",
       "    </tr>\n",
       "    <tr>\n",
       "      <th>75</th>\n",
       "      <td>76</td>\n",
       "      <td>1</td>\n",
       "    </tr>\n",
       "    <tr>\n",
       "      <th>76</th>\n",
       "      <td>77</td>\n",
       "      <td>2</td>\n",
       "    </tr>\n",
       "    <tr>\n",
       "      <th>77</th>\n",
       "      <td>78</td>\n",
       "      <td>0</td>\n",
       "    </tr>\n",
       "    <tr>\n",
       "      <th>78</th>\n",
       "      <td>79</td>\n",
       "      <td>1</td>\n",
       "    </tr>\n",
       "    <tr>\n",
       "      <th>79</th>\n",
       "      <td>80</td>\n",
       "      <td>3</td>\n",
       "    </tr>\n",
       "  </tbody>\n",
       "</table>\n",
       "<p>80 rows × 2 columns</p>\n",
       "</div>"
      ],
      "text/plain": [
       "    No  hair_loss\n",
       "0    1          0\n",
       "1    2          1\n",
       "2    3          1\n",
       "3    4          0\n",
       "4    5          0\n",
       "..  ..        ...\n",
       "75  76          1\n",
       "76  77          2\n",
       "77  78          0\n",
       "78  79          1\n",
       "79  80          3\n",
       "\n",
       "[80 rows x 2 columns]"
      ]
     },
     "execution_count": 118,
     "metadata": {},
     "output_type": "execute_result"
    }
   ],
   "source": [
    "unscaled_submit['hair_loss'] = y_pred\n",
    "unscaled_submit"
   ]
  },
  {
   "cell_type": "code",
   "execution_count": 119,
   "metadata": {},
   "outputs": [],
   "source": [
    "unscaled_submit.to_csv('unscaled_submit.csv', index=False)"
   ]
  },
  {
   "cell_type": "markdown",
   "metadata": {},
   "source": [
    "## Scaled"
   ]
  },
  {
   "cell_type": "code",
   "execution_count": 101,
   "metadata": {},
   "outputs": [
    {
     "data": {
      "text/html": [
       "<div>\n",
       "<style scoped>\n",
       "    .dataframe tbody tr th:only-of-type {\n",
       "        vertical-align: middle;\n",
       "    }\n",
       "\n",
       "    .dataframe tbody tr th {\n",
       "        vertical-align: top;\n",
       "    }\n",
       "\n",
       "    .dataframe thead th {\n",
       "        text-align: right;\n",
       "    }\n",
       "</style>\n",
       "<table border=\"1\" class=\"dataframe\">\n",
       "  <thead>\n",
       "    <tr style=\"text-align: right;\">\n",
       "      <th></th>\n",
       "      <th>0</th>\n",
       "      <th>1</th>\n",
       "      <th>2</th>\n",
       "      <th>3</th>\n",
       "      <th>4</th>\n",
       "      <th>5</th>\n",
       "      <th>6</th>\n",
       "    </tr>\n",
       "  </thead>\n",
       "  <tbody>\n",
       "    <tr>\n",
       "      <th>count</th>\n",
       "      <td>256.000</td>\n",
       "      <td>256.000</td>\n",
       "      <td>256.000</td>\n",
       "      <td>256.000</td>\n",
       "      <td>256.000</td>\n",
       "      <td>256.000</td>\n",
       "      <td>256.000</td>\n",
       "    </tr>\n",
       "    <tr>\n",
       "      <th>mean</th>\n",
       "      <td>0.000</td>\n",
       "      <td>0.000</td>\n",
       "      <td>-0.000</td>\n",
       "      <td>-0.000</td>\n",
       "      <td>0.000</td>\n",
       "      <td>-0.000</td>\n",
       "      <td>0.000</td>\n",
       "    </tr>\n",
       "    <tr>\n",
       "      <th>std</th>\n",
       "      <td>1.002</td>\n",
       "      <td>1.002</td>\n",
       "      <td>1.002</td>\n",
       "      <td>1.002</td>\n",
       "      <td>1.002</td>\n",
       "      <td>1.002</td>\n",
       "      <td>1.002</td>\n",
       "    </tr>\n",
       "    <tr>\n",
       "      <th>min</th>\n",
       "      <td>-1.167</td>\n",
       "      <td>-0.576</td>\n",
       "      <td>-0.555</td>\n",
       "      <td>-0.911</td>\n",
       "      <td>-0.637</td>\n",
       "      <td>-0.559</td>\n",
       "      <td>-0.977</td>\n",
       "    </tr>\n",
       "    <tr>\n",
       "      <th>25%</th>\n",
       "      <td>-0.585</td>\n",
       "      <td>-0.576</td>\n",
       "      <td>-0.555</td>\n",
       "      <td>-0.685</td>\n",
       "      <td>-0.637</td>\n",
       "      <td>-0.559</td>\n",
       "      <td>-0.977</td>\n",
       "    </tr>\n",
       "    <tr>\n",
       "      <th>50%</th>\n",
       "      <td>-0.002</td>\n",
       "      <td>-0.576</td>\n",
       "      <td>-0.555</td>\n",
       "      <td>-0.459</td>\n",
       "      <td>-0.637</td>\n",
       "      <td>-0.559</td>\n",
       "      <td>-0.977</td>\n",
       "    </tr>\n",
       "    <tr>\n",
       "      <th>75%</th>\n",
       "      <td>0.580</td>\n",
       "      <td>0.508</td>\n",
       "      <td>-0.084</td>\n",
       "      <td>0.445</td>\n",
       "      <td>0.357</td>\n",
       "      <td>-0.559</td>\n",
       "      <td>1.024</td>\n",
       "    </tr>\n",
       "    <tr>\n",
       "      <th>max</th>\n",
       "      <td>3.492</td>\n",
       "      <td>2.677</td>\n",
       "      <td>4.148</td>\n",
       "      <td>3.158</td>\n",
       "      <td>2.346</td>\n",
       "      <td>1.788</td>\n",
       "      <td>1.024</td>\n",
       "    </tr>\n",
       "  </tbody>\n",
       "</table>\n",
       "</div>"
      ],
      "text/plain": [
       "            0       1       2       3       4       5       6\n",
       "count 256.000 256.000 256.000 256.000 256.000 256.000 256.000\n",
       "mean    0.000   0.000  -0.000  -0.000   0.000  -0.000   0.000\n",
       "std     1.002   1.002   1.002   1.002   1.002   1.002   1.002\n",
       "min    -1.167  -0.576  -0.555  -0.911  -0.637  -0.559  -0.977\n",
       "25%    -0.585  -0.576  -0.555  -0.685  -0.637  -0.559  -0.977\n",
       "50%    -0.002  -0.576  -0.555  -0.459  -0.637  -0.559  -0.977\n",
       "75%     0.580   0.508  -0.084   0.445   0.357  -0.559   1.024\n",
       "max     3.492   2.677   4.148   3.158   2.346   1.788   1.024"
      ]
     },
     "execution_count": 101,
     "metadata": {},
     "output_type": "execute_result"
    }
   ],
   "source": [
    "# 과학적 표기법을 숫자형으로 변환 (e^(-4) 이렇게 나오는거 소수점으로 변환)\n",
    "pd.options.display.float_format = '{:.3f}'.format\n",
    "np.set_printoptions(precision=2,suppress=True)\n",
    "\n",
    "# 스케일링 후 X_train_scaled(평균, 표준편차))\n",
    "pd.DataFrame(X_train_scaled).describe()"
   ]
  },
  {
   "cell_type": "code",
   "execution_count": 102,
   "metadata": {},
   "outputs": [],
   "source": [
    "from sklearn.linear_model import LogisticRegression\n",
    "\n",
    "#1)모델 생성\n",
    "reg = LogisticRegression()\n",
    "#2) 모델 훈련\n",
    "reg.fit(X_train_scaled,y_train)\n",
    "#3) 평가 데이터에 대한 예측 수행\n",
    "\n",
    "y_pred =reg.predict(X_test_scaled)"
   ]
  },
  {
   "cell_type": "code",
   "execution_count": 110,
   "metadata": {},
   "outputs": [
    {
     "data": {
      "text/plain": [
       "array([[22,  1,  0,  0],\n",
       "       [ 6, 23,  2,  2],\n",
       "       [ 2,  0,  4,  1],\n",
       "       [ 0,  0,  1,  0]])"
      ]
     },
     "execution_count": 110,
     "metadata": {},
     "output_type": "execute_result"
    }
   ],
   "source": [
    "from sklearn.metrics import confusion_matrix, accuracy_score,precision_score, recall_score\n",
    "#오차행렬\n",
    "\n",
    "confusion_matrix(y_test,y_pred)"
   ]
  },
  {
   "cell_type": "code",
   "execution_count": 111,
   "metadata": {},
   "outputs": [
    {
     "name": "stdout",
     "output_type": "stream",
     "text": [
      "accuracy: 0.765625\n",
      "precision: 0.8201822916666667\n",
      "recall : 0.765625\n"
     ]
    }
   ],
   "source": [
    "#정확도, 정밀도, 재현율 지표확인\n",
    "## [None, 'micro', 'macro', 'weighted']\n",
    "print(f\"accuracy: {accuracy_score(y_test,y_pred)}\")\n",
    "print(f\"precision: {precision_score(y_test,y_pred, average='weighted')}\")\n",
    "print(f\"recall : {recall_score(y_test,y_pred, average='weighted')}\")"
   ]
  },
  {
   "cell_type": "markdown",
   "metadata": {},
   "source": [
    "### test"
   ]
  },
  {
   "cell_type": "code",
   "execution_count": null,
   "metadata": {},
   "outputs": [],
   "source": []
  }
 ],
 "metadata": {
  "kernelspec": {
   "display_name": "base",
   "language": "python",
   "name": "python3"
  },
  "language_info": {
   "codemirror_mode": {
    "name": "ipython",
    "version": 3
   },
   "file_extension": ".py",
   "mimetype": "text/x-python",
   "name": "python",
   "nbconvert_exporter": "python",
   "pygments_lexer": "ipython3",
   "version": "3.1.0"
  }
 },
 "nbformat": 4,
 "nbformat_minor": 2
}
