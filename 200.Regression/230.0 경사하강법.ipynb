{
 "cells": [
  {
   "cell_type": "markdown",
   "metadata": {},
   "source": [
    "# 선형 회귀식의 계수를 찾는 법 - OLS VS. SGD\n",
    "- 보스턴 집값 데이터 활용(RM VS Price)"
   ]
  },
  {
   "cell_type": "markdown",
   "metadata": {},
   "source": [
    "### 필요한 모듈 import"
   ]
  },
  {
   "cell_type": "code",
   "execution_count": 1,
   "metadata": {},
   "outputs": [],
   "source": [
    "import pandas as pd\n",
    "import matplotlib.pyplot as plt\n",
    "import numpy as np\n",
    "\n",
    "# 필요한 라이브러리 import \n",
    "from sklearn.linear_model import LinearRegression\n",
    "from sklearn.linear_model import SGDRegressor\n",
    "from sklearn.model_selection import train_test_split\n",
    "from sklearn.metrics import mean_squared_error, r2_score"
   ]
  },
  {
   "cell_type": "markdown",
   "metadata": {},
   "source": [
    "# 1. LinearRegression 모델을 사용한 경우"
   ]
  },
  {
   "cell_type": "code",
   "execution_count": 2,
   "metadata": {},
   "outputs": [
    {
     "name": "stdout",
     "output_type": "stream",
     "text": [
      "y = 8.461091637115892X(room) + -30.571032410898336\n",
      "MSE: 36.517214730838624\n",
      "RMSE: 6.042947520112898\n",
      "R2: 0.6015774471545623\n"
     ]
    }
   ],
   "source": [
    "boston = pd.read_csv('./data/boston_room_price.csv')\n",
    "X = np.array(boston.RM.values).reshape(-1,1)\n",
    "y = boston.price\n",
    "\n",
    "X_train, X_test, y_train, y_test = train_test_split(X, y, test_size=0.3, random_state=1)\n",
    "\n",
    "lr = LinearRegression()\n",
    "reg = lr.fit(X_train, y_train)\n",
    "\n",
    "# regression model\n",
    "print(f'y = {reg.coef_[0]}X(room) + {reg.intercept_}')\n",
    "\n",
    "# evaluate\n",
    "from score import evaluate_score\n",
    "evaluate_score(reg, X_test, y_test)"
   ]
  },
  {
   "cell_type": "code",
   "execution_count": null,
   "metadata": {},
   "outputs": [],
   "source": []
  },
  {
   "cell_type": "markdown",
   "metadata": {},
   "source": [
    "# 2. SGDRegressor with hyperparameter"
   ]
  },
  {
   "cell_type": "code",
   "execution_count": 3,
   "metadata": {},
   "outputs": [
    {
     "name": "stdout",
     "output_type": "stream",
     "text": [
      "y = [4.17723973]X + [-3.58747787]\n",
      "MSE: 55.12954251421951\n",
      "RMSE: 7.424927104976823\n",
      "R2: 0.39850688976103077\n"
     ]
    }
   ],
   "source": [
    "from sklearn.linear_model import SGDRegressor\n",
    "\n",
    "reg = SGDRegressor(random_state=42)\n",
    "reg.fit(X_train, y_train)\n",
    "\n",
    "print(f'y = {reg.coef_}X + {reg.intercept_}')\n",
    "\n",
    "evaluate_score(reg, X_test, y_test)"
   ]
  },
  {
   "cell_type": "code",
   "execution_count": null,
   "metadata": {},
   "outputs": [],
   "source": []
  },
  {
   "cell_type": "markdown",
   "metadata": {},
   "source": [
    "# 3. SGDRegressor with scaling"
   ]
  },
  {
   "cell_type": "code",
   "execution_count": 4,
   "metadata": {},
   "outputs": [
    {
     "name": "stdout",
     "output_type": "stream",
     "text": [
      "y = [5.84750366]X + [22.31897879]\n",
      "MSE: 36.52260149848331\n",
      "RMSE: 6.043393210646094\n",
      "R2: 0.6015186746076305\n"
     ]
    }
   ],
   "source": [
    "# scaling -> mean = 0, var = 1\n",
    "train_mean = np.mean(X_train, axis = 0)\n",
    "train_std = np.std(X_train, axis=0)\n",
    "X_train_scaled = (X_train - train_mean) / train_std\n",
    "X_test_scaled = (X_test - train_mean) / train_std\n",
    "\n",
    "from sklearn.linear_model import SGDRegressor\n",
    "\n",
    "reg = SGDRegressor(random_state=42)\n",
    "reg.fit(X_train_scaled, y_train)\n",
    "\n",
    "print(f'y = {reg.coef_}X + {reg.intercept_}')\n",
    "\n",
    "evaluate_score(reg, X_test_scaled, y_test)"
   ]
  },
  {
   "cell_type": "code",
   "execution_count": null,
   "metadata": {},
   "outputs": [],
   "source": []
  },
  {
   "cell_type": "markdown",
   "metadata": {},
   "source": [
    "# 4. SGDRegressor with StandardScaler()"
   ]
  },
  {
   "cell_type": "code",
   "execution_count": 5,
   "metadata": {},
   "outputs": [
    {
     "name": "stdout",
     "output_type": "stream",
     "text": [
      "y = [5.84750366]X + [22.31897879]\n",
      "MSE: 36.52260149848331\n",
      "RMSE: 6.043393210646094\n",
      "R2: 0.6015186746076305\n"
     ]
    }
   ],
   "source": [
    "from sklearn.preprocessing import StandardScaler\n",
    "\n",
    "scaler = StandardScaler()\n",
    "X_train_scaler = scaler.fit_transform(X_train)\n",
    "X_test_scaler = scaler.transform(X_test)\n",
    "\n",
    "from sklearn.linear_model import SGDRegressor\n",
    "\n",
    "reg = SGDRegressor(random_state=42)\n",
    "reg.fit(X_train_scaler, y_train)\n",
    "\n",
    "print(f'y = {reg.coef_}X + {reg.intercept_}')\n",
    "\n",
    "evaluate_score(reg, X_test_scaler, y_test)"
   ]
  },
  {
   "cell_type": "code",
   "execution_count": 6,
   "metadata": {},
   "outputs": [
    {
     "name": "stdout",
     "output_type": "stream",
     "text": [
      "y = [6.510171]X + [22.2162479]\n",
      "MSE: 34.942559162513675\n",
      "RMSE: 5.911223152826636\n",
      "R2: 0.618757790617463\n"
     ]
    }
   ],
   "source": [
    "from sklearn.preprocessing import StandardScaler\n",
    "\n",
    "scaler = StandardScaler()\n",
    "X_train_scaler = scaler.fit_transform(X_train)\n",
    "X_test_scaler = scaler.transform(X_test)\n",
    "\n",
    "from sklearn.linear_model import SGDRegressor\n",
    "\n",
    "reg = SGDRegressor(max_iter=10000,eta0=0.079625418225, random_state=42) # max_iter = default(1000)\n",
    "reg.fit(X_train_scaler, y_train)\n",
    "\n",
    "print(f'y = {reg.coef_}X + {reg.intercept_}')\n",
    "evaluate_score(reg, X_test_scaler, y_test)"
   ]
  },
  {
   "cell_type": "code",
   "execution_count": 8,
   "metadata": {},
   "outputs": [
    {
     "name": "stdout",
     "output_type": "stream",
     "text": [
      "y = [6.510171]X + [22.2162479]\n",
      "MSE: 34.942559162497226\n",
      "RMSE: 5.911223152825245\n",
      "R2: 0.6187577906176426\n"
     ]
    }
   ],
   "source": [
    "from sklearn.preprocessing import StandardScaler\n",
    "\n",
    "scaler = StandardScaler()\n",
    "X_train_scaler = scaler.fit_transform(X_train)\n",
    "X_test_scaler = scaler.transform(X_test)\n",
    "\n",
    "from sklearn.linear_model import SGDRegressor\n",
    "\n",
    "reg = SGDRegressor(max_iter=10000,eta0=0.079625418226, random_state=42) # max_iter = default(1000)\n",
    "reg.fit(X_train_scaler, y_train)\n",
    "\n",
    "print(f'y = {reg.coef_}X + {reg.intercept_}')\n",
    "\n",
    "evaluate_score(reg, X_test_scaler, y_test)"
   ]
  },
  {
   "cell_type": "code",
   "execution_count": null,
   "metadata": {},
   "outputs": [],
   "source": []
  }
 ],
 "metadata": {
  "kernelspec": {
   "display_name": "Python 3 (ipykernel)",
   "language": "python",
   "name": "python3"
  },
  "language_info": {
   "codemirror_mode": {
    "name": "ipython",
    "version": 3
   },
   "file_extension": ".py",
   "mimetype": "text/x-python",
   "name": "python",
   "nbconvert_exporter": "python",
   "pygments_lexer": "ipython3",
   "version": "3.11.5"
  }
 },
 "nbformat": 4,
 "nbformat_minor": 4
}
